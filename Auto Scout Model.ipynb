{
 "cells": [
  {
   "cell_type": "markdown",
   "metadata": {
    "id": "4UCsvzbImqZN"
   },
   "source": [
    "___\n",
    "\n",
    "<p style=\"text-align: center;\"><img src=\"https://docs.google.com/uc?id=1lY0Uj5R04yMY3-ZppPWxqCr5pvBLYPnV\" class=\"img-fluid\" alt=\"CLRSWY\"></p>\n",
    "\n",
    "___"
   ]
  },
  {
   "cell_type": "markdown",
   "metadata": {
    "id": "i5WapR8JmqZN"
   },
   "source": [
    "# WELCOME!"
   ]
  },
  {
   "cell_type": "markdown",
   "metadata": {
    "id": "ZyeGWbuTmqZN"
   },
   "source": [
    "Welcome to \"***Car Price Prediction Project***\". This is the first medium project of ***Machine Learning*** course. In this project you will have the opportunity to apply many algorithms commonly used for regression problems.\n",
    "\n",
    "Also, you will apply various processes such as pre-processing, ***train-test spilit*** and ***cross validation*** that you will use in algorithm modeling and prediction processes in Python with ***scikit-learn***.\n",
    "\n",
    "Before diving into the project, please take a look at the determines and tasks.\n",
    "\n",
    "- **NOTE:** This project assumes that you already know the basics of coding in Python. You should also be familiar with the theory behind regression algorithms and scikit-learn module as well as Machine Learning before you begin.\n"
   ]
  },
  {
   "cell_type": "markdown",
   "metadata": {
    "id": "c0Iul5QymqZN"
   },
   "source": [
    "# #Determines\n",
    "\n",
    "**Auto Scout** data which using for this project, scraped from the on-line car trading company(https://www.autoscout24.com), contains many features of different car models. In this project, you will use the data set which is already preprocessed and prepared for algorithms .\n",
    "\n",
    "The aim of this project to understand of machine learning algorithms. Therefore, you will not need any EDA process as you will be working on the edited data.\n",
    "\n",
    "---\n",
    "\n",
    "In this Senario, you will estimate the prices of cars using regression algorithms.\n",
    "\n",
    "While starting you should import the necessary modules and load the data given as pkl file. Also you'll need to do a few pre-processing before moving to modelling. After that you will implement ***Linear Regression, Ridge Regression, Lasso Regression,and Elastic-Net algorithms respectively*** (After completion of Unsupervised Learning section, you can also add bagging and boosting algorithms such as ***Random Forest and XG Boost*** this notebook to develop the project. You can measure the success of your models with regression evaluation metrics as well as with cross validation method.\n",
    "\n",
    "For the better results, you should try to increase the success of your models by performing hyperparameter tuning. Determine feature importances for the model. You can set your model with the most important features for resource saving. You should try to apply this especially in Random Forest and XG Boost algorithms. Unlike the others, you will perform hyperparameter tuning for Random Forest and XG Boost using the ***GridSearchCV*** method.\n",
    "\n",
    "Finally You can compare the performances of algorithms, work more on the algorithm have the most successful prediction rate.\n",
    "\n",
    "\n",
    "\n",
    "\n"
   ]
  },
  {
   "cell_type": "markdown",
   "metadata": {
    "id": "pL-jJ1irmqZN"
   },
   "source": [
    "# #Tasks\n",
    "\n",
    "#### 1. Import Modules, Load Data and Data Review\n",
    "#### 2. Data Pre-Processing\n",
    "#### 3. Implement Linear Regression\n",
    "#### 4. Implement Ridge Regression\n",
    "#### 5. Implement Lasso Regression\n",
    "#### 6. Implement Elastic-Net\n",
    "#### 7. Visually Compare Models Performance In a Graph"
   ]
  },
  {
   "cell_type": "markdown",
   "metadata": {
    "id": "Rik6d_vimqZN"
   },
   "source": [
    "## 1. Import Modules, Load Data and Data Review"
   ]
  },
  {
   "cell_type": "code",
   "execution_count": 1,
   "metadata": {
    "id": "QBddHlqgmqZN"
   },
   "outputs": [],
   "source": [
    "import pandas as pd\n",
    "import numpy as np\n",
    "import matplotlib.pyplot as plt\n",
    "import seaborn as sns\n",
    "from sklearn.preprocessing import StandardScaler, MinMaxScaler, RobustScaler\n",
    "from sklearn.metrics import mean_squared_error, mean_absolute_error, r2_score\n",
    "from sklearn.model_selection import train_test_split\n",
    "\n",
    "from scipy.stats import skew #how they residuals are distributed\n",
    "#The skew function is used to calculate the skewness of a dataset.\n",
    "\n",
    "from sklearn.model_selection import cross_validate\n",
    "\n",
    "import warnings #Warnings are messages about errors, #ignore specific warning messages.\n",
    "warnings.filterwarnings('ignore') #It allows you to specify how warnings should be displayed or handled\n",
    "\n",
    "plt.rcParams[\"figure.figsize\"] = (7,4) # figures are displayed with a specific size by default.\n",
    "\n",
    "pd.set_option('display.max_columns', 500)\n",
    "pd.set_option('display.max_rows', 1000)\n",
    "\n",
    "pd.options.display.float_format = '{:.3f}'.format # It formats the numbers to have three decimal places."
   ]
  },
  {
   "cell_type": "code",
   "execution_count": 2,
   "metadata": {
    "id": "VexUIGUtRC1g"
   },
   "outputs": [],
   "source": [
    "#!pip install -U scikit-learn"
   ]
  },
  {
   "cell_type": "code",
   "execution_count": 3,
   "metadata": {
    "id": "RgzbNkH3cTnc",
    "outputId": "5808c695-fd48-4fa8-c2ab-a2f034cefcea"
   },
   "outputs": [
    {
     "data": {
      "text/plain": [
       "'1.21.5'"
      ]
     },
     "execution_count": 3,
     "metadata": {},
     "output_type": "execute_result"
    }
   ],
   "source": [
    "import numpy as np\n",
    "np.__version__  # np version : 1.23.5"
   ]
  },
  {
   "cell_type": "code",
   "execution_count": 4,
   "metadata": {
    "id": "unv_wTyMRC1h",
    "outputId": "cffebc1b-cbd7-445b-e114-e869515ecbe9"
   },
   "outputs": [
    {
     "data": {
      "text/plain": [
       "'1.0.2'"
      ]
     },
     "execution_count": 4,
     "metadata": {},
     "output_type": "execute_result"
    }
   ],
   "source": [
    "import sklearn\n",
    "sklearn.__version__"
   ]
  },
  {
   "cell_type": "code",
   "execution_count": 5,
   "metadata": {
    "id": "ZzxYKQ4eRC1i"
   },
   "outputs": [],
   "source": [
    "df = pd.read_csv(\"/Users/nada/Downloads/Ready_to_ML.csv\")"
   ]
  },
  {
   "cell_type": "code",
   "execution_count": 6,
   "metadata": {
    "id": "Ib708VcRRC1i",
    "outputId": "5c87a186-c710-457b-ec12-ccfa630fc2d0"
   },
   "outputs": [
    {
     "data": {
      "text/html": [
       "<div>\n",
       "<style scoped>\n",
       "    .dataframe tbody tr th:only-of-type {\n",
       "        vertical-align: middle;\n",
       "    }\n",
       "\n",
       "    .dataframe tbody tr th {\n",
       "        vertical-align: top;\n",
       "    }\n",
       "\n",
       "    .dataframe thead th {\n",
       "        text-align: right;\n",
       "    }\n",
       "</style>\n",
       "<table border=\"1\" class=\"dataframe\">\n",
       "  <thead>\n",
       "    <tr style=\"text-align: right;\">\n",
       "      <th></th>\n",
       "      <th>make_model</th>\n",
       "      <th>make</th>\n",
       "      <th>location</th>\n",
       "      <th>price</th>\n",
       "      <th>body_type</th>\n",
       "      <th>type</th>\n",
       "      <th>warranty</th>\n",
       "      <th>mileage</th>\n",
       "      <th>gearbox</th>\n",
       "      <th>fuel_type</th>\n",
       "      <th>seller</th>\n",
       "      <th>engine_size</th>\n",
       "      <th>gears</th>\n",
       "      <th>co_emissions</th>\n",
       "      <th>drivetrain</th>\n",
       "      <th>extras</th>\n",
       "      <th>empty_weight</th>\n",
       "      <th>full_service_history</th>\n",
       "      <th>upholstery</th>\n",
       "      <th>previous_owner</th>\n",
       "      <th>energy_efficiency_class</th>\n",
       "      <th>age</th>\n",
       "      <th>power_kW</th>\n",
       "      <th>cons_avg</th>\n",
       "      <th>comfort_&amp;_convenience_Package</th>\n",
       "      <th>entertainment_&amp;_media_Package</th>\n",
       "      <th>safety_&amp;_security_Package</th>\n",
       "    </tr>\n",
       "  </thead>\n",
       "  <tbody>\n",
       "    <tr>\n",
       "      <th>0</th>\n",
       "      <td>Mercedes-Benz A 160</td>\n",
       "      <td>Mercedes-Benz</td>\n",
       "      <td>P.I. EL PALMAR C/FORJA 6,  11500 PUERTO DE SAN...</td>\n",
       "      <td>16950.000</td>\n",
       "      <td>Compact</td>\n",
       "      <td>Used</td>\n",
       "      <td>Yes</td>\n",
       "      <td>120200.000</td>\n",
       "      <td>Manual</td>\n",
       "      <td>Diesel</td>\n",
       "      <td>Dealer</td>\n",
       "      <td>1595.000</td>\n",
       "      <td>5.000</td>\n",
       "      <td>98.000</td>\n",
       "      <td>Front</td>\n",
       "      <td>Alloy wheels</td>\n",
       "      <td>1270.000</td>\n",
       "      <td>No</td>\n",
       "      <td>Cloth</td>\n",
       "      <td>2.000</td>\n",
       "      <td>efficient</td>\n",
       "      <td>6.000</td>\n",
       "      <td>75.000</td>\n",
       "      <td>3.800</td>\n",
       "      <td>Standard</td>\n",
       "      <td>Standard</td>\n",
       "      <td>Safety Premium Package</td>\n",
       "    </tr>\n",
       "    <tr>\n",
       "      <th>1</th>\n",
       "      <td>Mercedes-Benz EQE 350</td>\n",
       "      <td>Mercedes-Benz</td>\n",
       "      <td>APARTADO DE CORREOS 1032,  26140 LOGROÑO, ES</td>\n",
       "      <td>80900.000</td>\n",
       "      <td>Compact</td>\n",
       "      <td>Pre-registered</td>\n",
       "      <td>Yes</td>\n",
       "      <td>5000.000</td>\n",
       "      <td>Automatic</td>\n",
       "      <td>Electric</td>\n",
       "      <td>Dealer</td>\n",
       "      <td>1.000</td>\n",
       "      <td>1.000</td>\n",
       "      <td>0.000</td>\n",
       "      <td>4WD</td>\n",
       "      <td>Alloy wheels (21\"), Shift paddles, Sport packa...</td>\n",
       "      <td>2355.000</td>\n",
       "      <td>No</td>\n",
       "      <td>Part/Full Leather</td>\n",
       "      <td>1.000</td>\n",
       "      <td>efficient</td>\n",
       "      <td>0.000</td>\n",
       "      <td>215.000</td>\n",
       "      <td>2.359</td>\n",
       "      <td>Premium</td>\n",
       "      <td>Plus</td>\n",
       "      <td>Safety Premium Package</td>\n",
       "    </tr>\n",
       "    <tr>\n",
       "      <th>2</th>\n",
       "      <td>Mercedes-Benz A 45 AMG</td>\n",
       "      <td>Mercedes-Benz</td>\n",
       "      <td>PORT. TARRACO, MOLL DE LLEVANT, Nº 5, LOC. 6-8...</td>\n",
       "      <td>69900.000</td>\n",
       "      <td>Compact</td>\n",
       "      <td>Used</td>\n",
       "      <td>Yes</td>\n",
       "      <td>18900.000</td>\n",
       "      <td>Automatic</td>\n",
       "      <td>Benzine</td>\n",
       "      <td>Dealer</td>\n",
       "      <td>1991.000</td>\n",
       "      <td>8.000</td>\n",
       "      <td>162.000</td>\n",
       "      <td>4WD</td>\n",
       "      <td>Alloy wheels</td>\n",
       "      <td>1555.000</td>\n",
       "      <td>No</td>\n",
       "      <td>Part/Full Leather</td>\n",
       "      <td>2.000</td>\n",
       "      <td>unefficient</td>\n",
       "      <td>2.000</td>\n",
       "      <td>310.000</td>\n",
       "      <td>8.400</td>\n",
       "      <td>Standard</td>\n",
       "      <td>Standard</td>\n",
       "      <td>Safety Premium Plus Package</td>\n",
       "    </tr>\n",
       "    <tr>\n",
       "      <th>3</th>\n",
       "      <td>Mercedes-Benz A 35 AMG</td>\n",
       "      <td>Mercedes-Benz</td>\n",
       "      <td>Carrer de Provença, 31 Local,  8029 BARCELONA, ES</td>\n",
       "      <td>46990.000</td>\n",
       "      <td>Compact</td>\n",
       "      <td>Used</td>\n",
       "      <td>Yes</td>\n",
       "      <td>18995.000</td>\n",
       "      <td>Automatic</td>\n",
       "      <td>Benzine</td>\n",
       "      <td>Dealer</td>\n",
       "      <td>1991.000</td>\n",
       "      <td>7.000</td>\n",
       "      <td>169.000</td>\n",
       "      <td>4WD</td>\n",
       "      <td>Sport seats</td>\n",
       "      <td>1455.000</td>\n",
       "      <td>No</td>\n",
       "      <td>Part/Full Leather</td>\n",
       "      <td>2.000</td>\n",
       "      <td>unefficient</td>\n",
       "      <td>2.000</td>\n",
       "      <td>225.000</td>\n",
       "      <td>7.300</td>\n",
       "      <td>Standard</td>\n",
       "      <td>Standard</td>\n",
       "      <td>Safety Premium Package</td>\n",
       "    </tr>\n",
       "    <tr>\n",
       "      <th>4</th>\n",
       "      <td>Mercedes-Benz A 45 AMG</td>\n",
       "      <td>Mercedes-Benz</td>\n",
       "      <td>CARRIL ARAGONES 4,  30007 CASILLAS, ES</td>\n",
       "      <td>16800.000</td>\n",
       "      <td>Compact</td>\n",
       "      <td>Used</td>\n",
       "      <td>Yes</td>\n",
       "      <td>197000.000</td>\n",
       "      <td>Automatic</td>\n",
       "      <td>Diesel</td>\n",
       "      <td>Dealer</td>\n",
       "      <td>2143.000</td>\n",
       "      <td>7.000</td>\n",
       "      <td>162.000</td>\n",
       "      <td>4WD</td>\n",
       "      <td>Alloy wheels</td>\n",
       "      <td>1545.000</td>\n",
       "      <td>No</td>\n",
       "      <td>Part/Full Leather</td>\n",
       "      <td>2.000</td>\n",
       "      <td>unefficient</td>\n",
       "      <td>7.000</td>\n",
       "      <td>100.000</td>\n",
       "      <td>4.900</td>\n",
       "      <td>Standard</td>\n",
       "      <td>Standard</td>\n",
       "      <td>Safety Premium Plus Package</td>\n",
       "    </tr>\n",
       "  </tbody>\n",
       "</table>\n",
       "</div>"
      ],
      "text/plain": [
       "               make_model           make  \\\n",
       "0     Mercedes-Benz A 160  Mercedes-Benz   \n",
       "1   Mercedes-Benz EQE 350  Mercedes-Benz   \n",
       "2  Mercedes-Benz A 45 AMG  Mercedes-Benz   \n",
       "3  Mercedes-Benz A 35 AMG  Mercedes-Benz   \n",
       "4  Mercedes-Benz A 45 AMG  Mercedes-Benz   \n",
       "\n",
       "                                            location     price body_type  \\\n",
       "0  P.I. EL PALMAR C/FORJA 6,  11500 PUERTO DE SAN... 16950.000   Compact   \n",
       "1       APARTADO DE CORREOS 1032,  26140 LOGROÑO, ES 80900.000   Compact   \n",
       "2  PORT. TARRACO, MOLL DE LLEVANT, Nº 5, LOC. 6-8... 69900.000   Compact   \n",
       "3  Carrer de Provença, 31 Local,  8029 BARCELONA, ES 46990.000   Compact   \n",
       "4             CARRIL ARAGONES 4,  30007 CASILLAS, ES 16800.000   Compact   \n",
       "\n",
       "             type warranty    mileage    gearbox fuel_type  seller  \\\n",
       "0            Used      Yes 120200.000     Manual    Diesel  Dealer   \n",
       "1  Pre-registered      Yes   5000.000  Automatic  Electric  Dealer   \n",
       "2            Used      Yes  18900.000  Automatic   Benzine  Dealer   \n",
       "3            Used      Yes  18995.000  Automatic   Benzine  Dealer   \n",
       "4            Used      Yes 197000.000  Automatic    Diesel  Dealer   \n",
       "\n",
       "   engine_size  gears  co_emissions drivetrain  \\\n",
       "0     1595.000  5.000        98.000      Front   \n",
       "1        1.000  1.000         0.000        4WD   \n",
       "2     1991.000  8.000       162.000        4WD   \n",
       "3     1991.000  7.000       169.000        4WD   \n",
       "4     2143.000  7.000       162.000        4WD   \n",
       "\n",
       "                                              extras  empty_weight  \\\n",
       "0                                       Alloy wheels      1270.000   \n",
       "1  Alloy wheels (21\"), Shift paddles, Sport packa...      2355.000   \n",
       "2                                       Alloy wheels      1555.000   \n",
       "3                                        Sport seats      1455.000   \n",
       "4                                       Alloy wheels      1545.000   \n",
       "\n",
       "  full_service_history         upholstery  previous_owner  \\\n",
       "0                   No              Cloth           2.000   \n",
       "1                   No  Part/Full Leather           1.000   \n",
       "2                   No  Part/Full Leather           2.000   \n",
       "3                   No  Part/Full Leather           2.000   \n",
       "4                   No  Part/Full Leather           2.000   \n",
       "\n",
       "  energy_efficiency_class   age  power_kW  cons_avg  \\\n",
       "0               efficient 6.000    75.000     3.800   \n",
       "1               efficient 0.000   215.000     2.359   \n",
       "2             unefficient 2.000   310.000     8.400   \n",
       "3             unefficient 2.000   225.000     7.300   \n",
       "4             unefficient 7.000   100.000     4.900   \n",
       "\n",
       "  comfort_&_convenience_Package entertainment_&_media_Package  \\\n",
       "0                      Standard                      Standard   \n",
       "1                       Premium                          Plus   \n",
       "2                      Standard                      Standard   \n",
       "3                      Standard                      Standard   \n",
       "4                      Standard                      Standard   \n",
       "\n",
       "     safety_&_security_Package  \n",
       "0       Safety Premium Package  \n",
       "1       Safety Premium Package  \n",
       "2  Safety Premium Plus Package  \n",
       "3       Safety Premium Package  \n",
       "4  Safety Premium Plus Package  "
      ]
     },
     "execution_count": 6,
     "metadata": {},
     "output_type": "execute_result"
    }
   ],
   "source": [
    "df.head()"
   ]
  },
  {
   "cell_type": "code",
   "execution_count": 7,
   "metadata": {
    "id": "FqR9tYXjcTne",
    "outputId": "b15afbcd-ec0e-4548-ec7b-7cc1df623fe7"
   },
   "outputs": [
    {
     "name": "stdout",
     "output_type": "stream",
     "text": [
      "<class 'pandas.core.frame.DataFrame'>\n",
      "RangeIndex: 26711 entries, 0 to 26710\n",
      "Data columns (total 27 columns):\n",
      " #   Column                         Non-Null Count  Dtype  \n",
      "---  ------                         --------------  -----  \n",
      " 0   make_model                     26711 non-null  object \n",
      " 1   make                           26711 non-null  object \n",
      " 2   location                       26711 non-null  object \n",
      " 3   price                          26711 non-null  float64\n",
      " 4   body_type                      26711 non-null  object \n",
      " 5   type                           26711 non-null  object \n",
      " 6   warranty                       26711 non-null  object \n",
      " 7   mileage                        26711 non-null  float64\n",
      " 8   gearbox                        26711 non-null  object \n",
      " 9   fuel_type                      26711 non-null  object \n",
      " 10  seller                         26711 non-null  object \n",
      " 11  engine_size                    26711 non-null  float64\n",
      " 12  gears                          26711 non-null  float64\n",
      " 13  co_emissions                   26711 non-null  float64\n",
      " 14  drivetrain                     26711 non-null  object \n",
      " 15  extras                         26711 non-null  object \n",
      " 16  empty_weight                   26711 non-null  float64\n",
      " 17  full_service_history           26711 non-null  object \n",
      " 18  upholstery                     26711 non-null  object \n",
      " 19  previous_owner                 26711 non-null  float64\n",
      " 20  energy_efficiency_class        26711 non-null  object \n",
      " 21  age                            26711 non-null  float64\n",
      " 22  power_kW                       26711 non-null  float64\n",
      " 23  cons_avg                       26711 non-null  float64\n",
      " 24  comfort_&_convenience_Package  26711 non-null  object \n",
      " 25  entertainment_&_media_Package  26711 non-null  object \n",
      " 26  safety_&_security_Package      26711 non-null  object \n",
      "dtypes: float64(10), object(17)\n",
      "memory usage: 5.5+ MB\n"
     ]
    }
   ],
   "source": [
    "df.info()"
   ]
  },
  {
   "cell_type": "code",
   "execution_count": 8,
   "metadata": {
    "id": "n_ppi_WocTne",
    "outputId": "2202b398-e971-4463-9141-6b72bbabdc8e"
   },
   "outputs": [
    {
     "data": {
      "text/html": [
       "<div>\n",
       "<style scoped>\n",
       "    .dataframe tbody tr th:only-of-type {\n",
       "        vertical-align: middle;\n",
       "    }\n",
       "\n",
       "    .dataframe tbody tr th {\n",
       "        vertical-align: top;\n",
       "    }\n",
       "\n",
       "    .dataframe thead th {\n",
       "        text-align: right;\n",
       "    }\n",
       "</style>\n",
       "<table border=\"1\" class=\"dataframe\">\n",
       "  <thead>\n",
       "    <tr style=\"text-align: right;\">\n",
       "      <th></th>\n",
       "      <th>price</th>\n",
       "      <th>mileage</th>\n",
       "      <th>engine_size</th>\n",
       "      <th>gears</th>\n",
       "      <th>co_emissions</th>\n",
       "      <th>empty_weight</th>\n",
       "      <th>previous_owner</th>\n",
       "      <th>age</th>\n",
       "      <th>power_kW</th>\n",
       "      <th>cons_avg</th>\n",
       "    </tr>\n",
       "  </thead>\n",
       "  <tbody>\n",
       "    <tr>\n",
       "      <th>count</th>\n",
       "      <td>26711.000</td>\n",
       "      <td>26711.000</td>\n",
       "      <td>26711.000</td>\n",
       "      <td>26711.000</td>\n",
       "      <td>26711.000</td>\n",
       "      <td>26711.000</td>\n",
       "      <td>26711.000</td>\n",
       "      <td>26711.000</td>\n",
       "      <td>26711.000</td>\n",
       "      <td>26711.000</td>\n",
       "    </tr>\n",
       "    <tr>\n",
       "      <th>mean</th>\n",
       "      <td>23537.241</td>\n",
       "      <td>68863.812</td>\n",
       "      <td>1708.965</td>\n",
       "      <td>5.820</td>\n",
       "      <td>129.526</td>\n",
       "      <td>1425.205</td>\n",
       "      <td>1.460</td>\n",
       "      <td>5.166</td>\n",
       "      <td>118.414</td>\n",
       "      <td>5.532</td>\n",
       "    </tr>\n",
       "    <tr>\n",
       "      <th>std</th>\n",
       "      <td>20811.986</td>\n",
       "      <td>62794.146</td>\n",
       "      <td>772.440</td>\n",
       "      <td>1.417</td>\n",
       "      <td>54.255</td>\n",
       "      <td>307.387</td>\n",
       "      <td>0.853</td>\n",
       "      <td>4.655</td>\n",
       "      <td>65.642</td>\n",
       "      <td>2.220</td>\n",
       "    </tr>\n",
       "    <tr>\n",
       "      <th>min</th>\n",
       "      <td>490.000</td>\n",
       "      <td>0.000</td>\n",
       "      <td>0.000</td>\n",
       "      <td>1.000</td>\n",
       "      <td>0.000</td>\n",
       "      <td>347.000</td>\n",
       "      <td>1.000</td>\n",
       "      <td>0.000</td>\n",
       "      <td>33.000</td>\n",
       "      <td>0.000</td>\n",
       "    </tr>\n",
       "    <tr>\n",
       "      <th>25%</th>\n",
       "      <td>12490.000</td>\n",
       "      <td>19155.000</td>\n",
       "      <td>1248.000</td>\n",
       "      <td>5.000</td>\n",
       "      <td>105.000</td>\n",
       "      <td>1228.000</td>\n",
       "      <td>1.000</td>\n",
       "      <td>2.000</td>\n",
       "      <td>80.000</td>\n",
       "      <td>4.300</td>\n",
       "    </tr>\n",
       "    <tr>\n",
       "      <th>50%</th>\n",
       "      <td>18440.000</td>\n",
       "      <td>54000.000</td>\n",
       "      <td>1595.000</td>\n",
       "      <td>6.000</td>\n",
       "      <td>123.000</td>\n",
       "      <td>1375.000</td>\n",
       "      <td>1.000</td>\n",
       "      <td>4.000</td>\n",
       "      <td>100.000</td>\n",
       "      <td>5.200</td>\n",
       "    </tr>\n",
       "    <tr>\n",
       "      <th>75%</th>\n",
       "      <td>28330.000</td>\n",
       "      <td>100675.000</td>\n",
       "      <td>1969.000</td>\n",
       "      <td>6.000</td>\n",
       "      <td>150.000</td>\n",
       "      <td>1597.000</td>\n",
       "      <td>2.000</td>\n",
       "      <td>7.000</td>\n",
       "      <td>135.000</td>\n",
       "      <td>6.400</td>\n",
       "    </tr>\n",
       "    <tr>\n",
       "      <th>max</th>\n",
       "      <td>549000.000</td>\n",
       "      <td>667128.000</td>\n",
       "      <td>6300.000</td>\n",
       "      <td>8.000</td>\n",
       "      <td>399.000</td>\n",
       "      <td>3150.000</td>\n",
       "      <td>9.000</td>\n",
       "      <td>20.000</td>\n",
       "      <td>450.000</td>\n",
       "      <td>18.300</td>\n",
       "    </tr>\n",
       "  </tbody>\n",
       "</table>\n",
       "</div>"
      ],
      "text/plain": [
       "           price    mileage  engine_size     gears  co_emissions  \\\n",
       "count  26711.000  26711.000    26711.000 26711.000     26711.000   \n",
       "mean   23537.241  68863.812     1708.965     5.820       129.526   \n",
       "std    20811.986  62794.146      772.440     1.417        54.255   \n",
       "min      490.000      0.000        0.000     1.000         0.000   \n",
       "25%    12490.000  19155.000     1248.000     5.000       105.000   \n",
       "50%    18440.000  54000.000     1595.000     6.000       123.000   \n",
       "75%    28330.000 100675.000     1969.000     6.000       150.000   \n",
       "max   549000.000 667128.000     6300.000     8.000       399.000   \n",
       "\n",
       "       empty_weight  previous_owner       age  power_kW  cons_avg  \n",
       "count     26711.000       26711.000 26711.000 26711.000 26711.000  \n",
       "mean       1425.205           1.460     5.166   118.414     5.532  \n",
       "std         307.387           0.853     4.655    65.642     2.220  \n",
       "min         347.000           1.000     0.000    33.000     0.000  \n",
       "25%        1228.000           1.000     2.000    80.000     4.300  \n",
       "50%        1375.000           1.000     4.000   100.000     5.200  \n",
       "75%        1597.000           2.000     7.000   135.000     6.400  \n",
       "max        3150.000           9.000    20.000   450.000    18.300  "
      ]
     },
     "execution_count": 8,
     "metadata": {},
     "output_type": "execute_result"
    }
   ],
   "source": [
    "df.describe() #show distribuation"
   ]
  },
  {
   "cell_type": "code",
   "execution_count": 9,
   "metadata": {
    "id": "M8ps6CJGcTne",
    "outputId": "5c895527-09f2-4027-b3a7-9c9a9be8726f"
   },
   "outputs": [
    {
     "data": {
      "text/plain": [
       "1815"
      ]
     },
     "execution_count": 9,
     "metadata": {},
     "output_type": "execute_result"
    }
   ],
   "source": [
    "df.duplicated().sum()"
   ]
  },
  {
   "cell_type": "code",
   "execution_count": 10,
   "metadata": {
    "id": "FpgD7Fe_cTne"
   },
   "outputs": [],
   "source": [
    "df.drop_duplicates(inplace=True)"
   ]
  },
  {
   "cell_type": "code",
   "execution_count": 11,
   "metadata": {
    "id": "KO4EJEnIcTnf",
    "outputId": "2084bc6b-9649-4602-a376-6426e83d7b53"
   },
   "outputs": [
    {
     "data": {
      "text/plain": [
       "0"
      ]
     },
     "execution_count": 11,
     "metadata": {},
     "output_type": "execute_result"
    }
   ],
   "source": [
    "df.duplicated().sum()"
   ]
  },
  {
   "cell_type": "code",
   "execution_count": 12,
   "metadata": {
    "id": "P-RdDHN1gYPL",
    "lang": "en",
    "outputId": "9201c8cc-fe2f-45f9-8f23-5058530be7dd",
    "scrolled": true
   },
   "outputs": [
    {
     "data": {
      "text/plain": [
       "Renault Megane              825\n",
       "SEAT Leon                   757\n",
       "Dacia Sandero               721\n",
       "Hyundai i30                 699\n",
       "Opel Astra                  634\n",
       "Ford Mustang                572\n",
       "Peugeot 308                 536\n",
       "Nissan Qashqai              484\n",
       "Ford Focus                  483\n",
       "SEAT Ibiza                  433\n",
       "Volvo V40                   430\n",
       "Fiat Tipo                   415\n",
       "Fiat 500                    413\n",
       "Renault Clio                404\n",
       "Ford Fiesta                 392\n",
       "Nissan Micra                380\n",
       "Fiat 500X                   373\n",
       "Skoda Octavia               359\n",
       "Opel Corsa                  358\n",
       "Dacia Duster                343\n",
       "Toyota Yaris                323\n",
       "Opel Insignia               290\n",
       "Volvo C70                   281\n",
       "Peugeot 208                 260\n",
       "Skoda Fabia                 246\n",
       "Fiat 500C                   238\n",
       "Toyota Auris                231\n",
       "Peugeot RCZ                 220\n",
       "Hyundai TUCSON              216\n",
       "Peugeot 3008                215\n",
       "Ford Kuga                   208\n",
       "Dacia Logan                 197\n",
       "Peugeot 508                 194\n",
       "Volvo XC60                  192\n",
       "Toyota Corolla              190\n",
       "Skoda Superb                189\n",
       "Skoda Scala                 188\n",
       "SEAT Ateca                  181\n",
       "SEAT Arona                  166\n",
       "Hyundai i20                 163\n",
       "Renault Captur              156\n",
       "Volvo V60                   156\n",
       "Ford Mondeo                 154\n",
       "Nissan 370Z                 153\n",
       "Skoda Kodiaq                146\n",
       "Toyota C-HR                 144\n",
       "Peugeot 2008                143\n",
       "Peugeot 207                 143\n",
       "Skoda Karoq                 142\n",
       "Renault Talisman            137\n",
       "Opel Grandland X            136\n",
       "Renault Kadjar              128\n",
       "Peugeot 206                 126\n",
       "Opel Cascada                125\n",
       "Toyota Aygo                 124\n",
       "Volvo S60                   123\n",
       "Mercedes-Benz A 180         123\n",
       "Nissan X-Trail              122\n",
       "Volvo C30                   122\n",
       "Nissan 350Z                 121\n",
       "Opel Adam                   114\n",
       "Fiat Panda                  111\n",
       "Volvo S90                   110\n",
       "Nissan Pulsar               110\n",
       "Volvo XC90                  109\n",
       "Toyota RAV 4                107\n",
       "Volvo XC40                  105\n",
       "Volvo V90                   104\n",
       "Hyundai IONIQ               103\n",
       "Nissan Juke                 101\n",
       "Hyundai i10                  96\n",
       "Peugeot 307                  94\n",
       "Fiat 124 Spider              92\n",
       "Renault Twingo               91\n",
       "Fiat 500L                    89\n",
       "Opel Crossland X             89\n",
       "Renault ZOE                  88\n",
       "Renault Laguna               88\n",
       "Mercedes-Benz A 200          86\n",
       "Skoda Kamiq                  85\n",
       "Toyota GT86                  84\n",
       "Mercedes-Benz C 200          84\n",
       "Mercedes-Benz C 220          83\n",
       "Hyundai i40                  82\n",
       "Toyota Land Cruiser          80\n",
       "Nissan GT-R                  79\n",
       "Hyundai KONA                 78\n",
       "Peugeot 5008                 78\n",
       "Peugeot 407                  78\n",
       "Toyota Avensis               77\n",
       "Opel Mokka                   73\n",
       "Dacia Lodgy                  72\n",
       "Skoda Rapid/Spaceback        72\n",
       "Mercedes-Benz A 45 AMG       71\n",
       "Mercedes-Benz AMG GT         68\n",
       "Peugeot 108                  67\n",
       "Renault Arkana               62\n",
       "Nissan Leaf                  61\n",
       "Mercedes-Benz E 220          61\n",
       "Toyota Supra                 61\n",
       "Mercedes-Benz C 300          60\n",
       "Toyota Aygo X                59\n",
       "Opel GT                      59\n",
       "Hyundai VELOSTER             59\n",
       "Toyota MR 2                  59\n",
       "Ford Puma                    59\n",
       "SEAT Tarraco                 57\n",
       "Skoda Citigo                 57\n",
       "Dacia Dokker                 56\n",
       "Mercedes-Benz C 63 AMG       55\n",
       "Hyundai Coupe                52\n",
       "Hyundai SANTA FE             51\n",
       "Mercedes-Benz E 200          50\n",
       "Renault Koleos               49\n",
       "Fiat 500e                    48\n",
       "Nissan Note                  47\n",
       "Mercedes-Benz C 180          47\n",
       "Fiat Punto                   46\n",
       "Mercedes-Benz E 300          46\n",
       "Mercedes-Benz E 400          45\n",
       "Volvo V90 Cross Country      45\n",
       "Renault Wind                 45\n",
       "Mercedes-Benz A 250          44\n",
       "Nissan Townstar              44\n",
       "Hyundai iX20                 43\n",
       "Mercedes-Benz C 43 AMG       42\n",
       "Mercedes-Benz E 350          41\n",
       "Opel Mokka X                 40\n",
       "Renault Alpine A110          39\n",
       "Opel Tigra                   36\n",
       "Ford Ranger                  36\n",
       "Mercedes-Benz GLC 220        35\n",
       "Mercedes-Benz CLA 200        35\n",
       "Hyundai BAYON                35\n",
       "Dacia Spring                 35\n",
       "Ford Edge                    33\n",
       "Mercedes-Benz SLK 200        33\n",
       "Toyota Prius                 32\n",
       "Opel Crossland               32\n",
       "Toyota Yaris Cross           32\n",
       "Ford EcoSport                31\n",
       "Mercedes-Benz A 35 AMG       30\n",
       "Ford Ka/Ka+                  30\n",
       "Volvo V40 Cross Country      30\n",
       "SEAT Mii                     30\n",
       "Opel Grandland               29\n",
       "Mercedes-Benz C 400          29\n",
       "Nissan Primera               29\n",
       "Dacia Jogger                 29\n",
       "Mercedes-Benz CL             28\n",
       "Mercedes-Benz EQS            28\n",
       "Hyundai Genesis              27\n",
       "Mercedes-Benz E 53 AMG       25\n",
       "Mercedes-Benz CLS 350        25\n",
       "Hyundai ELANTRA              25\n",
       "Mercedes-Benz CLA 45 AMG     24\n",
       "Nissan Murano                24\n",
       "Mercedes-Benz CLA 180        24\n",
       "Mercedes-Benz GLC 300        24\n",
       "Volvo V60 Cross Country      24\n",
       "Fiat 500 Abarth              24\n",
       "Hyundai iX35                 24\n",
       "Mercedes-Benz E 250          23\n",
       "Mercedes-Benz GLC 63 AMG     23\n",
       "Mercedes-Benz E 63 AMG       22\n",
       "Mercedes-Benz S 500          22\n",
       "Mercedes-Benz GLC 250        21\n",
       "Mercedes-Benz C 250          21\n",
       "Fiat Punto Evo               21\n",
       "Mercedes-Benz A 220          21\n",
       "Peugeot 107                  21\n",
       "Mercedes-Benz GLC 43 AMG     21\n",
       "Nissan NV200                 21\n",
       "Toyota Hilux                 20\n",
       "Opel Karl                    19\n",
       "Toyota Verso                 19\n",
       "Nissan Navara                19\n",
       "Ford Mustang Mach-E          19\n",
       "Mercedes-Benz S 63 AMG       19\n",
       "Volvo S80                    19\n",
       "Peugeot Rifter               18\n",
       "Mercedes-Benz S 350          18\n",
       "Skoda Yeti                   18\n",
       "Mercedes-Benz GLE 400        18\n",
       "Ford Tourneo Custom          18\n",
       "Toyota Celica                17\n",
       "Mercedes-Benz SL 500         17\n",
       "Volvo XC70                   17\n",
       "Volvo V70                    17\n",
       "SEAT Toledo                  16\n",
       "Skoda Enyaq                  16\n",
       "Mercedes-Benz A 160          16\n",
       "Mercedes-Benz S 400          16\n",
       "Mercedes-Benz EQC 400        16\n",
       "Mercedes-Benz G 63 AMG       16\n",
       "Mercedes-Benz CLA 220        16\n",
       "Mercedes-Benz GLA 200        16\n",
       "Mercedes-Benz S 580          15\n",
       "Nissan Almera Tino           15\n",
       "Hyundai IONIQ 5              14\n",
       "Mercedes-Benz SL 350         14\n",
       "Mercedes-Benz GLE 350        14\n",
       "SEAT Alhambra                14\n",
       "Mercedes-Benz GLC 350        14\n",
       "Mercedes-Benz CLS 400        13\n",
       "Renault Grand Scenic         13\n",
       "Nissan Primastar             13\n",
       "Mercedes-Benz GLA 220        13\n",
       "Fiat Grande Punto            13\n",
       "Volvo S40                    13\n",
       "Toyota Proace                13\n",
       "Ford Explorer                12\n",
       "Renault Twizy                12\n",
       "SEAT Altea XL                12\n",
       "Mercedes-Benz GLE 300        11\n",
       "Mercedes-Benz GLC 200        11\n",
       "Mercedes-Benz CLA 250        11\n",
       "Renault Trafic               11\n",
       "Fiat New Panda               11\n",
       "Mercedes-Benz SLC 200        11\n",
       "Mercedes-Benz EQE 350        11\n",
       "Fiat Fullback                11\n",
       "Hyundai Genesis Coupe        10\n",
       "Mercedes-Benz ML 350         10\n",
       "Renault Kangoo               10\n",
       "Toyota iQ                    10\n",
       "Fiat Freemont                10\n",
       "Ford Focus CC                10\n",
       "Ford S-Max                   10\n",
       "Nissan Almera                10\n",
       "Ford Transit Connect         10\n",
       "Mercedes-Benz GLA 180        10\n",
       "Mercedes-Benz E 450          10\n",
       "Mercedes-Benz GLC 400        10\n",
       "Mercedes-Benz GLS 400         9\n",
       "Peugeot Partner               9\n",
       "Opel Speedster                9\n",
       "Nissan NV300                  9\n",
       "Renault Espace                9\n",
       "Peugeot 406                   9\n",
       "Hyundai Getz                  9\n",
       "Nissan Qashqai+2              8\n",
       "Nissan Pathfinder             8\n",
       "Fiat 595 Abarth               8\n",
       "Mercedes-Benz SLK 250         8\n",
       "Toyota Mirai                  8\n",
       "Mercedes-Benz S 560           8\n",
       "Mercedes-Benz CLS 53 AMG      8\n",
       "Fiat Barchetta                8\n",
       "Mercedes-Benz CLA 35 AMG      8\n",
       "Mercedes-Benz G 500           8\n",
       "Fiat Qubo                     8\n",
       "Mercedes-Benz G 350           8\n",
       "Mercedes-Benz GLA 45 AMG      8\n",
       "SEAT Altea                    8\n",
       "Mercedes-Benz SL 63 AMG       8\n",
       "Mercedes-Benz CLS 450         8\n",
       "Mercedes-Benz GLE 63 AMG      7\n",
       "Nissan Terrano                7\n",
       "Mercedes-Benz CL 500          7\n",
       "Ford B-Max                    7\n",
       "Peugeot e-2008                7\n",
       "Mercedes-Benz GLE 53 AMG      7\n",
       "Mercedes-Benz ML 63 AMG       7\n",
       "Mercedes-Benz B 200           7\n",
       "Mercedes-Benz SLC 43 AMG      7\n",
       "Renault Alaskan               7\n",
       "Mercedes-Benz C 350           7\n",
       "Opel Vivaro                   7\n",
       "Mercedes-Benz B 180           7\n",
       "Toyota Highlander             6\n",
       "Peugeot 1007                  6\n",
       "Toyota FJ Cruiser             6\n",
       "Opel Combo                    6\n",
       "Mercedes-Benz CLS 250         6\n",
       "Renault Megane E-Tech         6\n",
       "Mercedes-Benz GLB 200         6\n",
       "Mercedes-Benz CLS 500         6\n",
       "Toyota Camry                  6\n",
       "Opel Vectra                   6\n",
       "Volvo V50                     6\n",
       "Mercedes-Benz EQB 350         6\n",
       "Mercedes-Benz CLK 200         6\n",
       "Hyundai ACCENT                6\n",
       "Mercedes-Benz E 43 AMG        6\n",
       "Ford Streetka                 6\n",
       "Ford Bronco                   6\n",
       "Mercedes-Benz SLK 55 AMG      5\n",
       "Mercedes-Benz EQE 43          5\n",
       "Renault Scenic                5\n",
       "Fiat Sedici                   5\n",
       "Mercedes-Benz SLK 350         5\n",
       "Mercedes-Benz ML 500          5\n",
       "Peugeot e-208                 5\n",
       "Fiat Spider Europa            5\n",
       "Opel Zafira Life              5\n",
       "Opel Antara                   5\n",
       "Hyundai NEXO                  5\n",
       "Mercedes-Benz GLS 350         5\n",
       "Hyundai Terracan              5\n",
       "Ford Transit                  5\n",
       "Ford Tourneo Connect          5\n",
       "Mercedes-Benz S 450           4\n",
       "Mercedes-Benz EQA             4\n",
       "Mercedes-Benz GLE 43 AMG      4\n",
       "Ford GT                       4\n",
       "Mercedes-Benz V 300           4\n",
       "Mercedes-Benz C 160           4\n",
       "Mercedes-Benz G 400           4\n",
       "Nissan E-NV200                4\n",
       "Opel Meriva                   4\n",
       "Mercedes-Benz GLE 580         4\n",
       "Ford F 150                    4\n",
       "Ford Tourneo Courier          4\n",
       "Mercedes-Benz CLS             4\n",
       "Mercedes-Benz ML 320          4\n",
       "Opel Corsa-e                  4\n",
       "Mercedes-Benz GLB 35 AMG      4\n",
       "Mercedes-Benz G               4\n",
       "SEAT Exeo                     4\n",
       "Mercedes-Benz GLE 500         4\n",
       "Mercedes-Benz GLE 250         4\n",
       "SEAT Cordoba                  4\n",
       "Hyundai SONATA                4\n",
       "Nissan Titan                  3\n",
       "Mercedes-Benz SLC 180         3\n",
       "Toyota Coaster                3\n",
       "Renault Avantime              3\n",
       "Renault Fluence               3\n",
       "Mercedes-Benz SL 400          3\n",
       "Mercedes-Benz X 250           3\n",
       "Mercedes-Benz SLC 250         3\n",
       "Peugeot Expert                3\n",
       "SEAT Leon e-Hybrid            3\n",
       "Mercedes-Benz V 250           3\n",
       "Nissan Skyline                3\n",
       "Mercedes-Benz SL 600          3\n",
       "Fiat Stilo                    3\n",
       "Ford Transit Custom           3\n",
       "Mercedes-Benz V 220           3\n",
       "Mercedes-Benz A 150           3\n",
       "Mercedes-Benz GLB 250         3\n",
       "Ford Ranger Raptor            3\n",
       "Nissan Cube                   3\n",
       "Peugeot 607                   3\n",
       "Mercedes-Benz SLK 280         3\n",
       "Mercedes-Benz ML 250          3\n",
       "Mercedes-Benz GLK 250         3\n",
       "Mercedes-Benz GLE 450         3\n",
       "Mercedes-Benz GLA 250         3\n",
       "Mercedes-Benz E 500           3\n",
       "Mercedes-Benz EQA 250         3\n",
       "Renault R 9                   3\n",
       "Mercedes-Benz GLK 350         3\n",
       "Fiat Bravo                    3\n",
       "Mercedes-Benz GLK 220         3\n",
       "Mercedes-Benz SL 55 AMG       3\n",
       "Mercedes-Benz GL 350          3\n",
       "Fiat Croma                    3\n",
       "Mercedes-Benz SLK             2\n",
       "Peugeot 4007                  2\n",
       "Mercedes-Benz SLS             2\n",
       "Mercedes-Benz E 280           2\n",
       "Fiat Fiorino                  2\n",
       "Mercedes-Benz GLK 200         2\n",
       "Mercedes-Benz CLK 500         2\n",
       "Volvo C40                     2\n",
       "Toyota Urban Cruiser          2\n",
       "Hyundai H-1                   2\n",
       "Mercedes-Benz E 240           2\n",
       "Hyundai STARIA                2\n",
       "Hyundai Tiburon               2\n",
       "Mercedes-Benz SL 65 AMG       2\n",
       "Nissan Evalia                 2\n",
       "Mercedes-Benz GLB 220         2\n",
       "Renault P 1400                2\n",
       "Peugeot Ranch                 2\n",
       "Mercedes-Benz GL 63 AMG       2\n",
       "Nissan Pixo                   2\n",
       "Nissan Tiida                  2\n",
       "Opel Zafira                   2\n",
       "Mercedes-Benz EQV 300         2\n",
       "Toyota Verso-S                2\n",
       "Renault Kangoo Z.E.           2\n",
       "Fiat Talento                  2\n",
       "Mercedes-Benz CLK             2\n",
       "Fiat Strada                   2\n",
       "Peugeot 4008                  2\n",
       "Ford Thunderbird              2\n",
       "Ford C-Max                    2\n",
       "Ford Maverick                 2\n",
       "Mercedes-Benz B 220           2\n",
       "Mercedes-Benz B 250           2\n",
       "Mercedes-Benz GL 500          2\n",
       "Toyota Corolla Verso          2\n",
       "Mercedes-Benz CLK 55 AMG      2\n",
       "Mercedes-Benz S 300           2\n",
       "Mercedes-Benz CLS 63 AMG      2\n",
       "Mercedes-Benz S 600           2\n",
       "Mercedes-Benz SLK 300         2\n",
       "Peugeot Traveller             2\n",
       "Opel Movano                   2\n",
       "Mercedes-Benz 220             2\n",
       "Mercedes-Benz CLK 350         1\n",
       "Mercedes-Benz 250             1\n",
       "Ford Grand Tourneo            1\n",
       "Mercedes-Benz A 140           1\n",
       "Hyundai Grand Santa Fe        1\n",
       "Ford Galaxy                   1\n",
       "Mercedes-Benz Viano           1\n",
       "Hyundai Trajet                1\n",
       "Hyundai H 350                 1\n",
       "Ford Grand C-Max              1\n",
       "Hyundai KONA Elektro          1\n",
       "Ford Transit Courier          1\n",
       "Hyundai Matrix                1\n",
       "Hyundai Atos                  1\n",
       "Opel Agila                    1\n",
       "Mercedes-Benz SLC 300         1\n",
       "Mercedes-Benz SLR             1\n",
       "Mercedes-Benz C 32 AMG        1\n",
       "Mercedes-Benz Sprinter        1\n",
       "Mercedes-Benz G 65 AMG        1\n",
       "Mercedes-Benz ML 280          1\n",
       "Mercedes-Benz 170             1\n",
       "Mercedes-Benz GLS 63 AMG      1\n",
       "Mercedes-Benz GL 320          1\n",
       "Peugeot 106                   1\n",
       "Peugeot iOn                   1\n",
       "Mercedes-Benz GLB 180         1\n",
       "Peugeot Bipper                1\n",
       "Peugeot 301                   1\n",
       "Peugeot Boxer                 1\n",
       "Mercedes-Benz EQB 300         1\n",
       "Mercedes-Benz GL 420          1\n",
       "Renault Grand Modus           1\n",
       "Renault Latitude              1\n",
       "Renault Grand Espace          1\n",
       "Mercedes-Benz CLS 280         1\n",
       "Opel Ampera                   1\n",
       "Mercedes-Benz EQE 500         1\n",
       "Mercedes-Benz E 230           1\n",
       "Mercedes-Benz E 320           1\n",
       "Mercedes-Benz C 320           1\n",
       "Mercedes-Benz S 55 AMG        1\n",
       "Opel Mokka-E                  1\n",
       "Renault Express               1\n",
       "Opel Zafira Tourer            1\n",
       "Opel Combo Life               1\n",
       "Mercedes-Benz C 280           1\n",
       "Mercedes-Benz Vito            1\n",
       "Renault Coupe                 1\n",
       "Renault Master                1\n",
       "Mercedes-Benz G 55 AMG        1\n",
       "Mercedes-Benz GLA 35 AMG      1\n",
       "Fiat Seicento                 1\n",
       "Nissan Rogue                  1\n",
       "Mercedes-Benz CLS 320         1\n",
       "Mercedes-Benz CLK 63 AMG      1\n",
       "Nissan Ariya                  1\n",
       "Mercedes-Benz CL 63 AMG       1\n",
       "Nissan King Cab               1\n",
       "Nissan NV250                  1\n",
       "Nissan NV400                  1\n",
       "Toyota Prius+                 1\n",
       "Nissan Gloria                 1\n",
       "Mercedes-Benz SLK 230         1\n",
       "Mercedes-Benz 200             1\n",
       "Ford F 250                    1\n",
       "Mercedes-Benz CLK 240         1\n",
       "Mercedes-Benz CLK 280         1\n",
       "Mercedes-Benz CL 600          1\n",
       "Toyota Sienna                 1\n",
       "Fiat Doblo                    1\n",
       "Mercedes-Benz ML 450          1\n",
       "Fiat Multipla                 1\n",
       "Mercedes-Benz ML 400          1\n",
       "SEAT Arosa                    1\n",
       "Mercedes-Benz R 300           1\n",
       "Skoda 105                     1\n",
       "Mercedes-Benz ML 300          1\n",
       "Dacia Break                   1\n",
       "Toyota Tundra                 1\n",
       "Mercedes-Benz E 50 AMG        1\n",
       "Mercedes-Benz CLS 300         1\n",
       "Mercedes-Benz S 65 AMG        1\n",
       "Mercedes-Benz CLK 320         1\n",
       "Toyota GR86                   1\n",
       "Toyota Tacoma                 1\n",
       "Renault R 11                  1\n",
       "Name: make_model, dtype: int64"
      ]
     },
     "execution_count": 12,
     "metadata": {},
     "output_type": "execute_result"
    }
   ],
   "source": [
    "df.make_model.value_counts()\n",
    "\n",
    "# In order for ML models to learn a data well, the data should contain all the details as possible.\n",
    "# When we look at the number of brand models, we see that the number of models of some brands is very low.\n",
    "# In order for ML models to accurately predict car prices on a brand-by-model basis,\n",
    "# there must be enough observations from each brand and model. For this, we exclude brand models under 100 from our data."
   ]
  },
  {
   "cell_type": "code",
   "execution_count": 13,
   "metadata": {
    "id": "7eCUfElDgYPL",
    "lang": "en",
    "outputId": "b6e9947b-4cfd-44a0-e8b5-110de36d95b0"
   },
   "outputs": [
    {
     "data": {
      "text/plain": [
       "Index(['Hyundai i10', 'Peugeot 307', 'Fiat 124 Spider', 'Renault Twingo',\n",
       "       'Fiat 500L', 'Opel Crossland X', 'Renault ZOE', 'Renault Laguna',\n",
       "       'Mercedes-Benz A 200', 'Skoda Kamiq',\n",
       "       ...\n",
       "       'Mercedes-Benz ML 300', 'Dacia Break', 'Toyota Tundra',\n",
       "       'Mercedes-Benz E 50 AMG', 'Mercedes-Benz CLS 300',\n",
       "       'Mercedes-Benz S 65 AMG', 'Mercedes-Benz CLK 320', 'Toyota GR86',\n",
       "       'Toyota Tacoma', 'Renault R 11'],\n",
       "      dtype='object', length=420)"
      ]
     },
     "execution_count": 13,
     "metadata": {},
     "output_type": "execute_result"
    }
   ],
   "source": [
    "drop_model = df.make_model.value_counts()[df.make_model.value_counts() <= 100].index\n",
    "drop_model\n",
    "\n",
    "# We list the models with 100 or less observations.\n",
    "# We will drop the observations of the models in this list from our data."
   ]
  },
  {
   "cell_type": "code",
   "execution_count": 14,
   "metadata": {
    "id": "aVly1-VcgYPM",
    "lang": "en"
   },
   "outputs": [],
   "source": [
    "for i in drop_model:\n",
    "    drop_index = df[df['make_model'] == i].index\n",
    "    df.drop(index = drop_index, inplace=True)\n",
    "\n",
    "df.reset_index(drop=True, inplace=True)\n",
    "\n",
    "# We pull all the models in the model list in order and find the indexes of the observations of these models first.\n",
    "# We drop the indexes we find from our data every time.\n",
    "# Since the deleted indexes in the last stage will not appear in our data, we reset the indexes starting from 0."
   ]
  },
  {
   "cell_type": "code",
   "execution_count": 15,
   "metadata": {
    "id": "gcqjbxDycTng",
    "outputId": "628e60fe-8e36-4cd3-ff87-99e7298e22a5"
   },
   "outputs": [
    {
     "data": {
      "text/html": [
       "<div>\n",
       "<style scoped>\n",
       "    .dataframe tbody tr th:only-of-type {\n",
       "        vertical-align: middle;\n",
       "    }\n",
       "\n",
       "    .dataframe tbody tr th {\n",
       "        vertical-align: top;\n",
       "    }\n",
       "\n",
       "    .dataframe thead th {\n",
       "        text-align: right;\n",
       "    }\n",
       "</style>\n",
       "<table border=\"1\" class=\"dataframe\">\n",
       "  <thead>\n",
       "    <tr style=\"text-align: right;\">\n",
       "      <th></th>\n",
       "      <th>make_model</th>\n",
       "      <th>make</th>\n",
       "      <th>location</th>\n",
       "      <th>price</th>\n",
       "      <th>body_type</th>\n",
       "      <th>type</th>\n",
       "      <th>warranty</th>\n",
       "      <th>mileage</th>\n",
       "      <th>gearbox</th>\n",
       "      <th>fuel_type</th>\n",
       "      <th>seller</th>\n",
       "      <th>engine_size</th>\n",
       "      <th>gears</th>\n",
       "      <th>co_emissions</th>\n",
       "      <th>drivetrain</th>\n",
       "      <th>extras</th>\n",
       "      <th>empty_weight</th>\n",
       "      <th>full_service_history</th>\n",
       "      <th>upholstery</th>\n",
       "      <th>previous_owner</th>\n",
       "      <th>energy_efficiency_class</th>\n",
       "      <th>age</th>\n",
       "      <th>power_kW</th>\n",
       "      <th>cons_avg</th>\n",
       "      <th>comfort_&amp;_convenience_Package</th>\n",
       "      <th>entertainment_&amp;_media_Package</th>\n",
       "      <th>safety_&amp;_security_Package</th>\n",
       "    </tr>\n",
       "  </thead>\n",
       "  <tbody>\n",
       "    <tr>\n",
       "      <th>0</th>\n",
       "      <td>Mercedes-Benz A 180</td>\n",
       "      <td>Mercedes-Benz</td>\n",
       "      <td>Bestel gemakkelijk Online 24/7,  1000 Brussel, BE</td>\n",
       "      <td>24400.000</td>\n",
       "      <td>Compact</td>\n",
       "      <td>Used</td>\n",
       "      <td>Yes</td>\n",
       "      <td>27150.000</td>\n",
       "      <td>Manual</td>\n",
       "      <td>Diesel</td>\n",
       "      <td>Dealer</td>\n",
       "      <td>1461.000</td>\n",
       "      <td>6.000</td>\n",
       "      <td>120.000</td>\n",
       "      <td>Front</td>\n",
       "      <td>Alloy wheels, Automatically dimming interior m...</td>\n",
       "      <td>1330.000</td>\n",
       "      <td>No</td>\n",
       "      <td>Part/Full Leather</td>\n",
       "      <td>2.000</td>\n",
       "      <td>unefficient</td>\n",
       "      <td>2.000</td>\n",
       "      <td>85.000</td>\n",
       "      <td>4.500</td>\n",
       "      <td>Standard</td>\n",
       "      <td>Plus</td>\n",
       "      <td>Safety Premium Package</td>\n",
       "    </tr>\n",
       "    <tr>\n",
       "      <th>1</th>\n",
       "      <td>Mercedes-Benz A 180</td>\n",
       "      <td>Mercedes-Benz</td>\n",
       "      <td>Zaackoer Weg 34,  15926 Luckau, DE</td>\n",
       "      <td>7450.000</td>\n",
       "      <td>Compact</td>\n",
       "      <td>Used</td>\n",
       "      <td>No</td>\n",
       "      <td>157500.000</td>\n",
       "      <td>Manual</td>\n",
       "      <td>Diesel</td>\n",
       "      <td>Dealer</td>\n",
       "      <td>1991.000</td>\n",
       "      <td>6.000</td>\n",
       "      <td>138.000</td>\n",
       "      <td>Front</td>\n",
       "      <td>Alloy wheels, Automatically dimming interior m...</td>\n",
       "      <td>1295.000</td>\n",
       "      <td>Yes</td>\n",
       "      <td>Cloth</td>\n",
       "      <td>2.000</td>\n",
       "      <td>unefficient</td>\n",
       "      <td>12.000</td>\n",
       "      <td>80.000</td>\n",
       "      <td>5.200</td>\n",
       "      <td>Premium</td>\n",
       "      <td>Standard</td>\n",
       "      <td>Safety Premium Plus Package</td>\n",
       "    </tr>\n",
       "    <tr>\n",
       "      <th>2</th>\n",
       "      <td>Mercedes-Benz A 180</td>\n",
       "      <td>Mercedes-Benz</td>\n",
       "      <td>Calle Carbón 19,  29603 MALAGA, ES</td>\n",
       "      <td>29800.000</td>\n",
       "      <td>Compact</td>\n",
       "      <td>Used</td>\n",
       "      <td>Yes</td>\n",
       "      <td>21734.000</td>\n",
       "      <td>Automatic</td>\n",
       "      <td>Diesel</td>\n",
       "      <td>Dealer</td>\n",
       "      <td>1461.000</td>\n",
       "      <td>7.000</td>\n",
       "      <td>99.500</td>\n",
       "      <td>Front</td>\n",
       "      <td>Sport seats</td>\n",
       "      <td>1445.000</td>\n",
       "      <td>No</td>\n",
       "      <td>Cloth</td>\n",
       "      <td>2.000</td>\n",
       "      <td>unefficient</td>\n",
       "      <td>2.000</td>\n",
       "      <td>85.000</td>\n",
       "      <td>3.900</td>\n",
       "      <td>Standard</td>\n",
       "      <td>Standard</td>\n",
       "      <td>Safety Premium Package</td>\n",
       "    </tr>\n",
       "    <tr>\n",
       "      <th>3</th>\n",
       "      <td>Mercedes-Benz A 180</td>\n",
       "      <td>Mercedes-Benz</td>\n",
       "      <td>RUA REAL 60,  36860 PONTEAEREAS, ES</td>\n",
       "      <td>21000.000</td>\n",
       "      <td>Compact</td>\n",
       "      <td>Used</td>\n",
       "      <td>Yes</td>\n",
       "      <td>172700.000</td>\n",
       "      <td>Automatic</td>\n",
       "      <td>Diesel</td>\n",
       "      <td>Dealer</td>\n",
       "      <td>1461.000</td>\n",
       "      <td>7.000</td>\n",
       "      <td>99.500</td>\n",
       "      <td>Front</td>\n",
       "      <td>Sport seats</td>\n",
       "      <td>1425.000</td>\n",
       "      <td>No</td>\n",
       "      <td>Cloth</td>\n",
       "      <td>3.000</td>\n",
       "      <td>unefficient</td>\n",
       "      <td>4.000</td>\n",
       "      <td>80.000</td>\n",
       "      <td>3.700</td>\n",
       "      <td>Standard</td>\n",
       "      <td>Standard</td>\n",
       "      <td>Safety Standard Package</td>\n",
       "    </tr>\n",
       "    <tr>\n",
       "      <th>4</th>\n",
       "      <td>Mercedes-Benz A 180</td>\n",
       "      <td>Mercedes-Benz</td>\n",
       "      <td>Canal de Sant Jordi nº17 Pol. Ind. Son oms,  0...</td>\n",
       "      <td>26800.000</td>\n",
       "      <td>Compact</td>\n",
       "      <td>Used</td>\n",
       "      <td>Yes</td>\n",
       "      <td>18989.000</td>\n",
       "      <td>Automatic</td>\n",
       "      <td>Diesel</td>\n",
       "      <td>Dealer</td>\n",
       "      <td>1461.000</td>\n",
       "      <td>7.000</td>\n",
       "      <td>99.500</td>\n",
       "      <td>Front</td>\n",
       "      <td>Sport seats</td>\n",
       "      <td>1455.000</td>\n",
       "      <td>No</td>\n",
       "      <td>Cloth</td>\n",
       "      <td>2.000</td>\n",
       "      <td>unefficient</td>\n",
       "      <td>2.000</td>\n",
       "      <td>85.000</td>\n",
       "      <td>3.900</td>\n",
       "      <td>Standard</td>\n",
       "      <td>Standard</td>\n",
       "      <td>Safety Premium Package</td>\n",
       "    </tr>\n",
       "    <tr>\n",
       "      <th>...</th>\n",
       "      <td>...</td>\n",
       "      <td>...</td>\n",
       "      <td>...</td>\n",
       "      <td>...</td>\n",
       "      <td>...</td>\n",
       "      <td>...</td>\n",
       "      <td>...</td>\n",
       "      <td>...</td>\n",
       "      <td>...</td>\n",
       "      <td>...</td>\n",
       "      <td>...</td>\n",
       "      <td>...</td>\n",
       "      <td>...</td>\n",
       "      <td>...</td>\n",
       "      <td>...</td>\n",
       "      <td>...</td>\n",
       "      <td>...</td>\n",
       "      <td>...</td>\n",
       "      <td>...</td>\n",
       "      <td>...</td>\n",
       "      <td>...</td>\n",
       "      <td>...</td>\n",
       "      <td>...</td>\n",
       "      <td>...</td>\n",
       "      <td>...</td>\n",
       "      <td>...</td>\n",
       "      <td>...</td>\n",
       "    </tr>\n",
       "    <tr>\n",
       "      <th>18192</th>\n",
       "      <td>Volvo V40</td>\n",
       "      <td>Volvo</td>\n",
       "      <td>1000 Brussel, BE</td>\n",
       "      <td>13000.000</td>\n",
       "      <td>Sedan</td>\n",
       "      <td>Used</td>\n",
       "      <td>No</td>\n",
       "      <td>114000.000</td>\n",
       "      <td>Manual</td>\n",
       "      <td>Diesel</td>\n",
       "      <td>Private seller</td>\n",
       "      <td>1969.000</td>\n",
       "      <td>6.000</td>\n",
       "      <td>94.000</td>\n",
       "      <td>Front</td>\n",
       "      <td>All season tyres, Ambient lighting, Cargo barr...</td>\n",
       "      <td>1532.000</td>\n",
       "      <td>Yes</td>\n",
       "      <td>Cloth</td>\n",
       "      <td>1.000</td>\n",
       "      <td>efficient</td>\n",
       "      <td>4.000</td>\n",
       "      <td>88.000</td>\n",
       "      <td>3.600</td>\n",
       "      <td>Standard</td>\n",
       "      <td>Standard</td>\n",
       "      <td>Safety Premium Package</td>\n",
       "    </tr>\n",
       "    <tr>\n",
       "      <th>18193</th>\n",
       "      <td>Volvo S60</td>\n",
       "      <td>Volvo</td>\n",
       "      <td>CALLE CATALUNYA, 37,  8520 LLERONA, ES</td>\n",
       "      <td>4999.000</td>\n",
       "      <td>Sedan</td>\n",
       "      <td>Used</td>\n",
       "      <td>Yes</td>\n",
       "      <td>166512.000</td>\n",
       "      <td>Manual</td>\n",
       "      <td>Benzine</td>\n",
       "      <td>Dealer</td>\n",
       "      <td>2521.000</td>\n",
       "      <td>5.000</td>\n",
       "      <td>145.000</td>\n",
       "      <td>Front</td>\n",
       "      <td>Alloy wheels</td>\n",
       "      <td>1550.000</td>\n",
       "      <td>No</td>\n",
       "      <td>Part/Full Leather</td>\n",
       "      <td>3.000</td>\n",
       "      <td>efficient</td>\n",
       "      <td>18.000</td>\n",
       "      <td>154.000</td>\n",
       "      <td>9.100</td>\n",
       "      <td>Standard</td>\n",
       "      <td>Standard</td>\n",
       "      <td>Safety Premium Package</td>\n",
       "    </tr>\n",
       "    <tr>\n",
       "      <th>18194</th>\n",
       "      <td>Volvo S90</td>\n",
       "      <td>Volvo</td>\n",
       "      <td>HERMANOS LUMIERE Nº16,  29004 MALAGA, ES</td>\n",
       "      <td>37600.000</td>\n",
       "      <td>Sedan</td>\n",
       "      <td>Used</td>\n",
       "      <td>Yes</td>\n",
       "      <td>40345.000</td>\n",
       "      <td>Automatic</td>\n",
       "      <td>Diesel</td>\n",
       "      <td>Dealer</td>\n",
       "      <td>1969.000</td>\n",
       "      <td>8.000</td>\n",
       "      <td>127.000</td>\n",
       "      <td>4WD</td>\n",
       "      <td>Alloy wheels</td>\n",
       "      <td>2077.000</td>\n",
       "      <td>No</td>\n",
       "      <td>Part/Full Leather</td>\n",
       "      <td>2.000</td>\n",
       "      <td>efficient</td>\n",
       "      <td>3.000</td>\n",
       "      <td>288.000</td>\n",
       "      <td>2.000</td>\n",
       "      <td>Standard</td>\n",
       "      <td>Standard</td>\n",
       "      <td>Safety Premium Plus Package</td>\n",
       "    </tr>\n",
       "    <tr>\n",
       "      <th>18195</th>\n",
       "      <td>Volvo C30</td>\n",
       "      <td>Volvo</td>\n",
       "      <td>Sur rendez-vous,  5060 Sambreville, BE</td>\n",
       "      <td>7300.000</td>\n",
       "      <td>Sedan</td>\n",
       "      <td>Used</td>\n",
       "      <td>Yes</td>\n",
       "      <td>96000.000</td>\n",
       "      <td>Manual</td>\n",
       "      <td>Diesel</td>\n",
       "      <td>Dealer</td>\n",
       "      <td>1560.000</td>\n",
       "      <td>6.000</td>\n",
       "      <td>99.000</td>\n",
       "      <td>Front</td>\n",
       "      <td>Alloy wheels, Automatically dimming interior m...</td>\n",
       "      <td>1356.000</td>\n",
       "      <td>Yes</td>\n",
       "      <td>Cloth</td>\n",
       "      <td>1.000</td>\n",
       "      <td>unefficient</td>\n",
       "      <td>11.000</td>\n",
       "      <td>84.000</td>\n",
       "      <td>3.800</td>\n",
       "      <td>Standard</td>\n",
       "      <td>Standard</td>\n",
       "      <td>Safety Premium Package</td>\n",
       "    </tr>\n",
       "    <tr>\n",
       "      <th>18196</th>\n",
       "      <td>Volvo S90</td>\n",
       "      <td>Volvo</td>\n",
       "      <td>Bergambachterstraat 5,  2871 JB SCHOONHOVEN, NL</td>\n",
       "      <td>29900.000</td>\n",
       "      <td>Sedan</td>\n",
       "      <td>Used</td>\n",
       "      <td>Yes</td>\n",
       "      <td>94343.000</td>\n",
       "      <td>Automatic</td>\n",
       "      <td>Benzine</td>\n",
       "      <td>Dealer</td>\n",
       "      <td>1969.000</td>\n",
       "      <td>8.000</td>\n",
       "      <td>149.000</td>\n",
       "      <td>4WD</td>\n",
       "      <td>Alloy wheels (18\"), Automatically dimming inte...</td>\n",
       "      <td>1617.000</td>\n",
       "      <td>Yes</td>\n",
       "      <td>Part/Full Leather</td>\n",
       "      <td>1.000</td>\n",
       "      <td>efficient</td>\n",
       "      <td>5.000</td>\n",
       "      <td>187.000</td>\n",
       "      <td>6.500</td>\n",
       "      <td>Standard</td>\n",
       "      <td>Standard</td>\n",
       "      <td>Safety Premium Package</td>\n",
       "    </tr>\n",
       "  </tbody>\n",
       "</table>\n",
       "<p>18197 rows × 27 columns</p>\n",
       "</div>"
      ],
      "text/plain": [
       "                make_model           make  \\\n",
       "0      Mercedes-Benz A 180  Mercedes-Benz   \n",
       "1      Mercedes-Benz A 180  Mercedes-Benz   \n",
       "2      Mercedes-Benz A 180  Mercedes-Benz   \n",
       "3      Mercedes-Benz A 180  Mercedes-Benz   \n",
       "4      Mercedes-Benz A 180  Mercedes-Benz   \n",
       "...                    ...            ...   \n",
       "18192            Volvo V40          Volvo   \n",
       "18193            Volvo S60          Volvo   \n",
       "18194            Volvo S90          Volvo   \n",
       "18195            Volvo C30          Volvo   \n",
       "18196            Volvo S90          Volvo   \n",
       "\n",
       "                                                location     price body_type  \\\n",
       "0      Bestel gemakkelijk Online 24/7,  1000 Brussel, BE 24400.000   Compact   \n",
       "1                     Zaackoer Weg 34,  15926 Luckau, DE  7450.000   Compact   \n",
       "2                     Calle Carbón 19,  29603 MALAGA, ES 29800.000   Compact   \n",
       "3                    RUA REAL 60,  36860 PONTEAEREAS, ES 21000.000   Compact   \n",
       "4      Canal de Sant Jordi nº17 Pol. Ind. Son oms,  0... 26800.000   Compact   \n",
       "...                                                  ...       ...       ...   \n",
       "18192                                   1000 Brussel, BE 13000.000     Sedan   \n",
       "18193             CALLE CATALUNYA, 37,  8520 LLERONA, ES  4999.000     Sedan   \n",
       "18194           HERMANOS LUMIERE Nº16,  29004 MALAGA, ES 37600.000     Sedan   \n",
       "18195             Sur rendez-vous,  5060 Sambreville, BE  7300.000     Sedan   \n",
       "18196    Bergambachterstraat 5,  2871 JB SCHOONHOVEN, NL 29900.000     Sedan   \n",
       "\n",
       "       type warranty    mileage    gearbox fuel_type          seller  \\\n",
       "0      Used      Yes  27150.000     Manual    Diesel          Dealer   \n",
       "1      Used       No 157500.000     Manual    Diesel          Dealer   \n",
       "2      Used      Yes  21734.000  Automatic    Diesel          Dealer   \n",
       "3      Used      Yes 172700.000  Automatic    Diesel          Dealer   \n",
       "4      Used      Yes  18989.000  Automatic    Diesel          Dealer   \n",
       "...     ...      ...        ...        ...       ...             ...   \n",
       "18192  Used       No 114000.000     Manual    Diesel  Private seller   \n",
       "18193  Used      Yes 166512.000     Manual   Benzine          Dealer   \n",
       "18194  Used      Yes  40345.000  Automatic    Diesel          Dealer   \n",
       "18195  Used      Yes  96000.000     Manual    Diesel          Dealer   \n",
       "18196  Used      Yes  94343.000  Automatic   Benzine          Dealer   \n",
       "\n",
       "       engine_size  gears  co_emissions drivetrain  \\\n",
       "0         1461.000  6.000       120.000      Front   \n",
       "1         1991.000  6.000       138.000      Front   \n",
       "2         1461.000  7.000        99.500      Front   \n",
       "3         1461.000  7.000        99.500      Front   \n",
       "4         1461.000  7.000        99.500      Front   \n",
       "...            ...    ...           ...        ...   \n",
       "18192     1969.000  6.000        94.000      Front   \n",
       "18193     2521.000  5.000       145.000      Front   \n",
       "18194     1969.000  8.000       127.000        4WD   \n",
       "18195     1560.000  6.000        99.000      Front   \n",
       "18196     1969.000  8.000       149.000        4WD   \n",
       "\n",
       "                                                  extras  empty_weight  \\\n",
       "0      Alloy wheels, Automatically dimming interior m...      1330.000   \n",
       "1      Alloy wheels, Automatically dimming interior m...      1295.000   \n",
       "2                                            Sport seats      1445.000   \n",
       "3                                            Sport seats      1425.000   \n",
       "4                                            Sport seats      1455.000   \n",
       "...                                                  ...           ...   \n",
       "18192  All season tyres, Ambient lighting, Cargo barr...      1532.000   \n",
       "18193                                       Alloy wheels      1550.000   \n",
       "18194                                       Alloy wheels      2077.000   \n",
       "18195  Alloy wheels, Automatically dimming interior m...      1356.000   \n",
       "18196  Alloy wheels (18\"), Automatically dimming inte...      1617.000   \n",
       "\n",
       "      full_service_history         upholstery  previous_owner  \\\n",
       "0                       No  Part/Full Leather           2.000   \n",
       "1                      Yes              Cloth           2.000   \n",
       "2                       No              Cloth           2.000   \n",
       "3                       No              Cloth           3.000   \n",
       "4                       No              Cloth           2.000   \n",
       "...                    ...                ...             ...   \n",
       "18192                  Yes              Cloth           1.000   \n",
       "18193                   No  Part/Full Leather           3.000   \n",
       "18194                   No  Part/Full Leather           2.000   \n",
       "18195                  Yes              Cloth           1.000   \n",
       "18196                  Yes  Part/Full Leather           1.000   \n",
       "\n",
       "      energy_efficiency_class    age  power_kW  cons_avg  \\\n",
       "0                 unefficient  2.000    85.000     4.500   \n",
       "1                 unefficient 12.000    80.000     5.200   \n",
       "2                 unefficient  2.000    85.000     3.900   \n",
       "3                 unefficient  4.000    80.000     3.700   \n",
       "4                 unefficient  2.000    85.000     3.900   \n",
       "...                       ...    ...       ...       ...   \n",
       "18192               efficient  4.000    88.000     3.600   \n",
       "18193               efficient 18.000   154.000     9.100   \n",
       "18194               efficient  3.000   288.000     2.000   \n",
       "18195             unefficient 11.000    84.000     3.800   \n",
       "18196               efficient  5.000   187.000     6.500   \n",
       "\n",
       "      comfort_&_convenience_Package entertainment_&_media_Package  \\\n",
       "0                          Standard                          Plus   \n",
       "1                           Premium                      Standard   \n",
       "2                          Standard                      Standard   \n",
       "3                          Standard                      Standard   \n",
       "4                          Standard                      Standard   \n",
       "...                             ...                           ...   \n",
       "18192                      Standard                      Standard   \n",
       "18193                      Standard                      Standard   \n",
       "18194                      Standard                      Standard   \n",
       "18195                      Standard                      Standard   \n",
       "18196                      Standard                      Standard   \n",
       "\n",
       "         safety_&_security_Package  \n",
       "0           Safety Premium Package  \n",
       "1      Safety Premium Plus Package  \n",
       "2           Safety Premium Package  \n",
       "3          Safety Standard Package  \n",
       "4           Safety Premium Package  \n",
       "...                            ...  \n",
       "18192       Safety Premium Package  \n",
       "18193       Safety Premium Package  \n",
       "18194  Safety Premium Plus Package  \n",
       "18195       Safety Premium Package  \n",
       "18196       Safety Premium Package  \n",
       "\n",
       "[18197 rows x 27 columns]"
      ]
     },
     "execution_count": 15,
     "metadata": {},
     "output_type": "execute_result"
    }
   ],
   "source": [
    "df"
   ]
  },
  {
   "cell_type": "code",
   "execution_count": 16,
   "metadata": {
    "id": "ca2JsIF0gYPN",
    "lang": "en",
    "outputId": "556d629f-7760-451b-893a-b5ba79ef8e18"
   },
   "outputs": [
    {
     "data": {
      "text/plain": [
       "Renault Megane         825\n",
       "SEAT Leon              757\n",
       "Dacia Sandero          721\n",
       "Hyundai i30            699\n",
       "Opel Astra             634\n",
       "Ford Mustang           572\n",
       "Peugeot 308            536\n",
       "Nissan Qashqai         484\n",
       "Ford Focus             483\n",
       "SEAT Ibiza             433\n",
       "Volvo V40              430\n",
       "Fiat Tipo              415\n",
       "Fiat 500               413\n",
       "Renault Clio           404\n",
       "Ford Fiesta            392\n",
       "Nissan Micra           380\n",
       "Fiat 500X              373\n",
       "Skoda Octavia          359\n",
       "Opel Corsa             358\n",
       "Dacia Duster           343\n",
       "Toyota Yaris           323\n",
       "Opel Insignia          290\n",
       "Volvo C70              281\n",
       "Peugeot 208            260\n",
       "Skoda Fabia            246\n",
       "Fiat 500C              238\n",
       "Toyota Auris           231\n",
       "Peugeot RCZ            220\n",
       "Hyundai TUCSON         216\n",
       "Peugeot 3008           215\n",
       "Ford Kuga              208\n",
       "Dacia Logan            197\n",
       "Peugeot 508            194\n",
       "Volvo XC60             192\n",
       "Toyota Corolla         190\n",
       "Skoda Superb           189\n",
       "Skoda Scala            188\n",
       "SEAT Ateca             181\n",
       "SEAT Arona             166\n",
       "Hyundai i20            163\n",
       "Volvo V60              156\n",
       "Renault Captur         156\n",
       "Ford Mondeo            154\n",
       "Nissan 370Z            153\n",
       "Skoda Kodiaq           146\n",
       "Toyota C-HR            144\n",
       "Peugeot 207            143\n",
       "Peugeot 2008           143\n",
       "Skoda Karoq            142\n",
       "Renault Talisman       137\n",
       "Opel Grandland X       136\n",
       "Renault Kadjar         128\n",
       "Peugeot 206            126\n",
       "Opel Cascada           125\n",
       "Toyota Aygo            124\n",
       "Volvo S60              123\n",
       "Mercedes-Benz A 180    123\n",
       "Nissan X-Trail         122\n",
       "Volvo C30              122\n",
       "Nissan 350Z            121\n",
       "Opel Adam              114\n",
       "Fiat Panda             111\n",
       "Nissan Pulsar          110\n",
       "Volvo S90              110\n",
       "Volvo XC90             109\n",
       "Toyota RAV 4           107\n",
       "Volvo XC40             105\n",
       "Volvo V90              104\n",
       "Hyundai IONIQ          103\n",
       "Nissan Juke            101\n",
       "Name: make_model, dtype: int64"
      ]
     },
     "execution_count": 16,
     "metadata": {},
     "output_type": "execute_result"
    }
   ],
   "source": [
    "df.make_model.value_counts()\n",
    "\n",
    "# We saw that models with less than 100 observations were dropped."
   ]
  },
  {
   "cell_type": "code",
   "execution_count": 17,
   "metadata": {
    "id": "yxNY03KgcTnh",
    "outputId": "ed6f4cfc-744b-4467-a13e-c5459953fd82"
   },
   "outputs": [
    {
     "name": "stdout",
     "output_type": "stream",
     "text": [
      "<class 'pandas.core.frame.DataFrame'>\n",
      "RangeIndex: 18197 entries, 0 to 18196\n",
      "Data columns (total 27 columns):\n",
      " #   Column                         Non-Null Count  Dtype  \n",
      "---  ------                         --------------  -----  \n",
      " 0   make_model                     18197 non-null  object \n",
      " 1   make                           18197 non-null  object \n",
      " 2   location                       18197 non-null  object \n",
      " 3   price                          18197 non-null  float64\n",
      " 4   body_type                      18197 non-null  object \n",
      " 5   type                           18197 non-null  object \n",
      " 6   warranty                       18197 non-null  object \n",
      " 7   mileage                        18197 non-null  float64\n",
      " 8   gearbox                        18197 non-null  object \n",
      " 9   fuel_type                      18197 non-null  object \n",
      " 10  seller                         18197 non-null  object \n",
      " 11  engine_size                    18197 non-null  float64\n",
      " 12  gears                          18197 non-null  float64\n",
      " 13  co_emissions                   18197 non-null  float64\n",
      " 14  drivetrain                     18197 non-null  object \n",
      " 15  extras                         18197 non-null  object \n",
      " 16  empty_weight                   18197 non-null  float64\n",
      " 17  full_service_history           18197 non-null  object \n",
      " 18  upholstery                     18197 non-null  object \n",
      " 19  previous_owner                 18197 non-null  float64\n",
      " 20  energy_efficiency_class        18197 non-null  object \n",
      " 21  age                            18197 non-null  float64\n",
      " 22  power_kW                       18197 non-null  float64\n",
      " 23  cons_avg                       18197 non-null  float64\n",
      " 24  comfort_&_convenience_Package  18197 non-null  object \n",
      " 25  entertainment_&_media_Package  18197 non-null  object \n",
      " 26  safety_&_security_Package      18197 non-null  object \n",
      "dtypes: float64(10), object(17)\n",
      "memory usage: 3.7+ MB\n"
     ]
    }
   ],
   "source": [
    "df.info()"
   ]
  },
  {
   "cell_type": "markdown",
   "metadata": {
    "id": "gR82AUhuRC1k"
   },
   "source": [
    "## Feature Engineering"
   ]
  },
  {
   "cell_type": "code",
   "execution_count": 18,
   "metadata": {
    "id": "q5c72IOEcTnh",
    "outputId": "734c987c-e9a4-434f-e897-e399edefd6b1"
   },
   "outputs": [
    {
     "data": {
      "text/html": [
       "<div>\n",
       "<style scoped>\n",
       "    .dataframe tbody tr th:only-of-type {\n",
       "        vertical-align: middle;\n",
       "    }\n",
       "\n",
       "    .dataframe tbody tr th {\n",
       "        vertical-align: top;\n",
       "    }\n",
       "\n",
       "    .dataframe thead th {\n",
       "        text-align: right;\n",
       "    }\n",
       "</style>\n",
       "<table border=\"1\" class=\"dataframe\">\n",
       "  <thead>\n",
       "    <tr style=\"text-align: right;\">\n",
       "      <th></th>\n",
       "      <th>make_model</th>\n",
       "      <th>make</th>\n",
       "      <th>location</th>\n",
       "      <th>price</th>\n",
       "      <th>body_type</th>\n",
       "      <th>type</th>\n",
       "      <th>warranty</th>\n",
       "      <th>mileage</th>\n",
       "      <th>gearbox</th>\n",
       "      <th>fuel_type</th>\n",
       "      <th>seller</th>\n",
       "      <th>engine_size</th>\n",
       "      <th>gears</th>\n",
       "      <th>co_emissions</th>\n",
       "      <th>drivetrain</th>\n",
       "      <th>extras</th>\n",
       "      <th>empty_weight</th>\n",
       "      <th>full_service_history</th>\n",
       "      <th>upholstery</th>\n",
       "      <th>previous_owner</th>\n",
       "      <th>energy_efficiency_class</th>\n",
       "      <th>age</th>\n",
       "      <th>power_kW</th>\n",
       "      <th>cons_avg</th>\n",
       "      <th>comfort_&amp;_convenience_Package</th>\n",
       "      <th>entertainment_&amp;_media_Package</th>\n",
       "      <th>safety_&amp;_security_Package</th>\n",
       "    </tr>\n",
       "  </thead>\n",
       "  <tbody>\n",
       "    <tr>\n",
       "      <th>0</th>\n",
       "      <td>Mercedes-Benz A 180</td>\n",
       "      <td>Mercedes-Benz</td>\n",
       "      <td>Bestel gemakkelijk Online 24/7,  1000 Brussel, BE</td>\n",
       "      <td>24400.000</td>\n",
       "      <td>Compact</td>\n",
       "      <td>Used</td>\n",
       "      <td>Yes</td>\n",
       "      <td>27150.000</td>\n",
       "      <td>Manual</td>\n",
       "      <td>Diesel</td>\n",
       "      <td>Dealer</td>\n",
       "      <td>1461.000</td>\n",
       "      <td>6.000</td>\n",
       "      <td>120.000</td>\n",
       "      <td>Front</td>\n",
       "      <td>Alloy wheels, Automatically dimming interior m...</td>\n",
       "      <td>1330.000</td>\n",
       "      <td>No</td>\n",
       "      <td>Part/Full Leather</td>\n",
       "      <td>2.000</td>\n",
       "      <td>unefficient</td>\n",
       "      <td>2.000</td>\n",
       "      <td>85.000</td>\n",
       "      <td>4.500</td>\n",
       "      <td>Standard</td>\n",
       "      <td>Plus</td>\n",
       "      <td>Safety Premium Package</td>\n",
       "    </tr>\n",
       "    <tr>\n",
       "      <th>1</th>\n",
       "      <td>Mercedes-Benz A 180</td>\n",
       "      <td>Mercedes-Benz</td>\n",
       "      <td>Zaackoer Weg 34,  15926 Luckau, DE</td>\n",
       "      <td>7450.000</td>\n",
       "      <td>Compact</td>\n",
       "      <td>Used</td>\n",
       "      <td>No</td>\n",
       "      <td>157500.000</td>\n",
       "      <td>Manual</td>\n",
       "      <td>Diesel</td>\n",
       "      <td>Dealer</td>\n",
       "      <td>1991.000</td>\n",
       "      <td>6.000</td>\n",
       "      <td>138.000</td>\n",
       "      <td>Front</td>\n",
       "      <td>Alloy wheels, Automatically dimming interior m...</td>\n",
       "      <td>1295.000</td>\n",
       "      <td>Yes</td>\n",
       "      <td>Cloth</td>\n",
       "      <td>2.000</td>\n",
       "      <td>unefficient</td>\n",
       "      <td>12.000</td>\n",
       "      <td>80.000</td>\n",
       "      <td>5.200</td>\n",
       "      <td>Premium</td>\n",
       "      <td>Standard</td>\n",
       "      <td>Safety Premium Plus Package</td>\n",
       "    </tr>\n",
       "  </tbody>\n",
       "</table>\n",
       "</div>"
      ],
      "text/plain": [
       "            make_model           make  \\\n",
       "0  Mercedes-Benz A 180  Mercedes-Benz   \n",
       "1  Mercedes-Benz A 180  Mercedes-Benz   \n",
       "\n",
       "                                            location     price body_type  \\\n",
       "0  Bestel gemakkelijk Online 24/7,  1000 Brussel, BE 24400.000   Compact   \n",
       "1                 Zaackoer Weg 34,  15926 Luckau, DE  7450.000   Compact   \n",
       "\n",
       "   type warranty    mileage gearbox fuel_type  seller  engine_size  gears  \\\n",
       "0  Used      Yes  27150.000  Manual    Diesel  Dealer     1461.000  6.000   \n",
       "1  Used       No 157500.000  Manual    Diesel  Dealer     1991.000  6.000   \n",
       "\n",
       "   co_emissions drivetrain                                             extras  \\\n",
       "0       120.000      Front  Alloy wheels, Automatically dimming interior m...   \n",
       "1       138.000      Front  Alloy wheels, Automatically dimming interior m...   \n",
       "\n",
       "   empty_weight full_service_history         upholstery  previous_owner  \\\n",
       "0      1330.000                   No  Part/Full Leather           2.000   \n",
       "1      1295.000                  Yes              Cloth           2.000   \n",
       "\n",
       "  energy_efficiency_class    age  power_kW  cons_avg  \\\n",
       "0             unefficient  2.000    85.000     4.500   \n",
       "1             unefficient 12.000    80.000     5.200   \n",
       "\n",
       "  comfort_&_convenience_Package entertainment_&_media_Package  \\\n",
       "0                      Standard                          Plus   \n",
       "1                       Premium                      Standard   \n",
       "\n",
       "     safety_&_security_Package  \n",
       "0       Safety Premium Package  \n",
       "1  Safety Premium Plus Package  "
      ]
     },
     "execution_count": 18,
     "metadata": {},
     "output_type": "execute_result"
    }
   ],
   "source": [
    "df.head(2)"
   ]
  },
  {
   "cell_type": "code",
   "execution_count": 19,
   "metadata": {
    "id": "_0OfYdYvgYPO",
    "lang": "en"
   },
   "outputs": [],
   "source": [
    "df.drop(columns=[\"make\", \"location\"], inplace=True)\n",
    "\n",
    "# make_model feature already gives us insight about make feature so we drop make feature.\n",
    "# We are dropping the location feature because we don't think it will have an effect on prices."
   ]
  },
  {
   "cell_type": "code",
   "execution_count": 20,
   "metadata": {
    "id": "6lCB2NHlcTni",
    "outputId": "ba2f3d11-4f5a-4f7b-c8fc-7491e8adc782"
   },
   "outputs": [
    {
     "data": {
      "text/html": [
       "<div>\n",
       "<style scoped>\n",
       "    .dataframe tbody tr th:only-of-type {\n",
       "        vertical-align: middle;\n",
       "    }\n",
       "\n",
       "    .dataframe tbody tr th {\n",
       "        vertical-align: top;\n",
       "    }\n",
       "\n",
       "    .dataframe thead th {\n",
       "        text-align: right;\n",
       "    }\n",
       "</style>\n",
       "<table border=\"1\" class=\"dataframe\">\n",
       "  <thead>\n",
       "    <tr style=\"text-align: right;\">\n",
       "      <th></th>\n",
       "      <th>make_model</th>\n",
       "      <th>price</th>\n",
       "      <th>body_type</th>\n",
       "      <th>type</th>\n",
       "      <th>warranty</th>\n",
       "      <th>mileage</th>\n",
       "      <th>gearbox</th>\n",
       "      <th>fuel_type</th>\n",
       "      <th>seller</th>\n",
       "      <th>engine_size</th>\n",
       "      <th>gears</th>\n",
       "      <th>co_emissions</th>\n",
       "      <th>drivetrain</th>\n",
       "      <th>extras</th>\n",
       "      <th>empty_weight</th>\n",
       "      <th>full_service_history</th>\n",
       "      <th>upholstery</th>\n",
       "      <th>previous_owner</th>\n",
       "      <th>energy_efficiency_class</th>\n",
       "      <th>age</th>\n",
       "      <th>power_kW</th>\n",
       "      <th>cons_avg</th>\n",
       "      <th>comfort_&amp;_convenience_Package</th>\n",
       "      <th>entertainment_&amp;_media_Package</th>\n",
       "      <th>safety_&amp;_security_Package</th>\n",
       "    </tr>\n",
       "  </thead>\n",
       "  <tbody>\n",
       "    <tr>\n",
       "      <th>0</th>\n",
       "      <td>Mercedes-Benz A 180</td>\n",
       "      <td>24400.000</td>\n",
       "      <td>Compact</td>\n",
       "      <td>Used</td>\n",
       "      <td>Yes</td>\n",
       "      <td>27150.000</td>\n",
       "      <td>Manual</td>\n",
       "      <td>Diesel</td>\n",
       "      <td>Dealer</td>\n",
       "      <td>1461.000</td>\n",
       "      <td>6.000</td>\n",
       "      <td>120.000</td>\n",
       "      <td>Front</td>\n",
       "      <td>Alloy wheels, Automatically dimming interior m...</td>\n",
       "      <td>1330.000</td>\n",
       "      <td>No</td>\n",
       "      <td>Part/Full Leather</td>\n",
       "      <td>2.000</td>\n",
       "      <td>unefficient</td>\n",
       "      <td>2.000</td>\n",
       "      <td>85.000</td>\n",
       "      <td>4.500</td>\n",
       "      <td>Standard</td>\n",
       "      <td>Plus</td>\n",
       "      <td>Safety Premium Package</td>\n",
       "    </tr>\n",
       "    <tr>\n",
       "      <th>1</th>\n",
       "      <td>Mercedes-Benz A 180</td>\n",
       "      <td>7450.000</td>\n",
       "      <td>Compact</td>\n",
       "      <td>Used</td>\n",
       "      <td>No</td>\n",
       "      <td>157500.000</td>\n",
       "      <td>Manual</td>\n",
       "      <td>Diesel</td>\n",
       "      <td>Dealer</td>\n",
       "      <td>1991.000</td>\n",
       "      <td>6.000</td>\n",
       "      <td>138.000</td>\n",
       "      <td>Front</td>\n",
       "      <td>Alloy wheels, Automatically dimming interior m...</td>\n",
       "      <td>1295.000</td>\n",
       "      <td>Yes</td>\n",
       "      <td>Cloth</td>\n",
       "      <td>2.000</td>\n",
       "      <td>unefficient</td>\n",
       "      <td>12.000</td>\n",
       "      <td>80.000</td>\n",
       "      <td>5.200</td>\n",
       "      <td>Premium</td>\n",
       "      <td>Standard</td>\n",
       "      <td>Safety Premium Plus Package</td>\n",
       "    </tr>\n",
       "  </tbody>\n",
       "</table>\n",
       "</div>"
      ],
      "text/plain": [
       "            make_model     price body_type  type warranty    mileage gearbox  \\\n",
       "0  Mercedes-Benz A 180 24400.000   Compact  Used      Yes  27150.000  Manual   \n",
       "1  Mercedes-Benz A 180  7450.000   Compact  Used       No 157500.000  Manual   \n",
       "\n",
       "  fuel_type  seller  engine_size  gears  co_emissions drivetrain  \\\n",
       "0    Diesel  Dealer     1461.000  6.000       120.000      Front   \n",
       "1    Diesel  Dealer     1991.000  6.000       138.000      Front   \n",
       "\n",
       "                                              extras  empty_weight  \\\n",
       "0  Alloy wheels, Automatically dimming interior m...      1330.000   \n",
       "1  Alloy wheels, Automatically dimming interior m...      1295.000   \n",
       "\n",
       "  full_service_history         upholstery  previous_owner  \\\n",
       "0                   No  Part/Full Leather           2.000   \n",
       "1                  Yes              Cloth           2.000   \n",
       "\n",
       "  energy_efficiency_class    age  power_kW  cons_avg  \\\n",
       "0             unefficient  2.000    85.000     4.500   \n",
       "1             unefficient 12.000    80.000     5.200   \n",
       "\n",
       "  comfort_&_convenience_Package entertainment_&_media_Package  \\\n",
       "0                      Standard                          Plus   \n",
       "1                       Premium                      Standard   \n",
       "\n",
       "     safety_&_security_Package  \n",
       "0       Safety Premium Package  \n",
       "1  Safety Premium Plus Package  "
      ]
     },
     "execution_count": 20,
     "metadata": {},
     "output_type": "execute_result"
    }
   ],
   "source": [
    "df.head(2)"
   ]
  },
  {
   "cell_type": "code",
   "execution_count": 21,
   "metadata": {
    "id": "4KtGs5AKcTni",
    "outputId": "d0021f16-f0fa-4b66-f47b-85ad66209021",
    "scrolled": true
   },
   "outputs": [
    {
     "data": {
      "text/html": [
       "<div>\n",
       "<style scoped>\n",
       "    .dataframe tbody tr th:only-of-type {\n",
       "        vertical-align: middle;\n",
       "    }\n",
       "\n",
       "    .dataframe tbody tr th {\n",
       "        vertical-align: top;\n",
       "    }\n",
       "\n",
       "    .dataframe thead th {\n",
       "        text-align: right;\n",
       "    }\n",
       "</style>\n",
       "<table border=\"1\" class=\"dataframe\">\n",
       "  <thead>\n",
       "    <tr style=\"text-align: right;\">\n",
       "      <th></th>\n",
       "      <th>make_model</th>\n",
       "      <th>body_type</th>\n",
       "      <th>type</th>\n",
       "      <th>warranty</th>\n",
       "      <th>gearbox</th>\n",
       "      <th>fuel_type</th>\n",
       "      <th>seller</th>\n",
       "      <th>drivetrain</th>\n",
       "      <th>extras</th>\n",
       "      <th>full_service_history</th>\n",
       "      <th>upholstery</th>\n",
       "      <th>energy_efficiency_class</th>\n",
       "      <th>comfort_&amp;_convenience_Package</th>\n",
       "      <th>entertainment_&amp;_media_Package</th>\n",
       "      <th>safety_&amp;_security_Package</th>\n",
       "    </tr>\n",
       "  </thead>\n",
       "  <tbody>\n",
       "    <tr>\n",
       "      <th>0</th>\n",
       "      <td>Mercedes-Benz A 180</td>\n",
       "      <td>Compact</td>\n",
       "      <td>Used</td>\n",
       "      <td>Yes</td>\n",
       "      <td>Manual</td>\n",
       "      <td>Diesel</td>\n",
       "      <td>Dealer</td>\n",
       "      <td>Front</td>\n",
       "      <td>Alloy wheels, Automatically dimming interior m...</td>\n",
       "      <td>No</td>\n",
       "      <td>Part/Full Leather</td>\n",
       "      <td>unefficient</td>\n",
       "      <td>Standard</td>\n",
       "      <td>Plus</td>\n",
       "      <td>Safety Premium Package</td>\n",
       "    </tr>\n",
       "    <tr>\n",
       "      <th>1</th>\n",
       "      <td>Mercedes-Benz A 180</td>\n",
       "      <td>Compact</td>\n",
       "      <td>Used</td>\n",
       "      <td>No</td>\n",
       "      <td>Manual</td>\n",
       "      <td>Diesel</td>\n",
       "      <td>Dealer</td>\n",
       "      <td>Front</td>\n",
       "      <td>Alloy wheels, Automatically dimming interior m...</td>\n",
       "      <td>Yes</td>\n",
       "      <td>Cloth</td>\n",
       "      <td>unefficient</td>\n",
       "      <td>Premium</td>\n",
       "      <td>Standard</td>\n",
       "      <td>Safety Premium Plus Package</td>\n",
       "    </tr>\n",
       "    <tr>\n",
       "      <th>2</th>\n",
       "      <td>Mercedes-Benz A 180</td>\n",
       "      <td>Compact</td>\n",
       "      <td>Used</td>\n",
       "      <td>Yes</td>\n",
       "      <td>Automatic</td>\n",
       "      <td>Diesel</td>\n",
       "      <td>Dealer</td>\n",
       "      <td>Front</td>\n",
       "      <td>Sport seats</td>\n",
       "      <td>No</td>\n",
       "      <td>Cloth</td>\n",
       "      <td>unefficient</td>\n",
       "      <td>Standard</td>\n",
       "      <td>Standard</td>\n",
       "      <td>Safety Premium Package</td>\n",
       "    </tr>\n",
       "    <tr>\n",
       "      <th>3</th>\n",
       "      <td>Mercedes-Benz A 180</td>\n",
       "      <td>Compact</td>\n",
       "      <td>Used</td>\n",
       "      <td>Yes</td>\n",
       "      <td>Automatic</td>\n",
       "      <td>Diesel</td>\n",
       "      <td>Dealer</td>\n",
       "      <td>Front</td>\n",
       "      <td>Sport seats</td>\n",
       "      <td>No</td>\n",
       "      <td>Cloth</td>\n",
       "      <td>unefficient</td>\n",
       "      <td>Standard</td>\n",
       "      <td>Standard</td>\n",
       "      <td>Safety Standard Package</td>\n",
       "    </tr>\n",
       "    <tr>\n",
       "      <th>4</th>\n",
       "      <td>Mercedes-Benz A 180</td>\n",
       "      <td>Compact</td>\n",
       "      <td>Used</td>\n",
       "      <td>Yes</td>\n",
       "      <td>Automatic</td>\n",
       "      <td>Diesel</td>\n",
       "      <td>Dealer</td>\n",
       "      <td>Front</td>\n",
       "      <td>Sport seats</td>\n",
       "      <td>No</td>\n",
       "      <td>Cloth</td>\n",
       "      <td>unefficient</td>\n",
       "      <td>Standard</td>\n",
       "      <td>Standard</td>\n",
       "      <td>Safety Premium Package</td>\n",
       "    </tr>\n",
       "  </tbody>\n",
       "</table>\n",
       "</div>"
      ],
      "text/plain": [
       "            make_model body_type  type warranty    gearbox fuel_type  seller  \\\n",
       "0  Mercedes-Benz A 180   Compact  Used      Yes     Manual    Diesel  Dealer   \n",
       "1  Mercedes-Benz A 180   Compact  Used       No     Manual    Diesel  Dealer   \n",
       "2  Mercedes-Benz A 180   Compact  Used      Yes  Automatic    Diesel  Dealer   \n",
       "3  Mercedes-Benz A 180   Compact  Used      Yes  Automatic    Diesel  Dealer   \n",
       "4  Mercedes-Benz A 180   Compact  Used      Yes  Automatic    Diesel  Dealer   \n",
       "\n",
       "  drivetrain                                             extras  \\\n",
       "0      Front  Alloy wheels, Automatically dimming interior m...   \n",
       "1      Front  Alloy wheels, Automatically dimming interior m...   \n",
       "2      Front                                        Sport seats   \n",
       "3      Front                                        Sport seats   \n",
       "4      Front                                        Sport seats   \n",
       "\n",
       "  full_service_history         upholstery energy_efficiency_class  \\\n",
       "0                   No  Part/Full Leather             unefficient   \n",
       "1                  Yes              Cloth             unefficient   \n",
       "2                   No              Cloth             unefficient   \n",
       "3                   No              Cloth             unefficient   \n",
       "4                   No              Cloth             unefficient   \n",
       "\n",
       "  comfort_&_convenience_Package entertainment_&_media_Package  \\\n",
       "0                      Standard                          Plus   \n",
       "1                       Premium                      Standard   \n",
       "2                      Standard                      Standard   \n",
       "3                      Standard                      Standard   \n",
       "4                      Standard                      Standard   \n",
       "\n",
       "     safety_&_security_Package  \n",
       "0       Safety Premium Package  \n",
       "1  Safety Premium Plus Package  \n",
       "2       Safety Premium Package  \n",
       "3      Safety Standard Package  \n",
       "4       Safety Premium Package  "
      ]
     },
     "execution_count": 21,
     "metadata": {},
     "output_type": "execute_result"
    }
   ],
   "source": [
    "df_object = df.select_dtypes(include =\"object\").head()\n",
    "df_object\n",
    "\n",
    "# select_dtypes(include =\"object\") to filter only object type features"
   ]
  },
  {
   "cell_type": "code",
   "execution_count": 22,
   "metadata": {
    "id": "vbiUuraqgYPO",
    "lang": "en",
    "outputId": "c8bf523e-2f1d-4698-bfe2-5e414c5ba008"
   },
   "outputs": [
    {
     "name": "stdout",
     "output_type": "stream",
     "text": [
      "make_model                    : 70\n",
      "body_type                     : 6\n",
      "type                          : 4\n",
      "warranty                      : 2\n",
      "gearbox                       : 3\n",
      "fuel_type                     : 4\n",
      "seller                        : 2\n",
      "drivetrain                    : 3\n",
      "extras                        : 6478\n",
      "full_service_history          : 2\n",
      "upholstery                    : 2\n",
      "energy_efficiency_class       : 2\n",
      "comfort_&_convenience_Package : 3\n",
      "entertainment_&_media_Package : 2\n",
      "safety_&_security_Package     : 3\n"
     ]
    }
   ],
   "source": [
    "for col in df_object:\n",
    "    print(f\"{col:<30}:\", df[col].nunique())\n",
    "\n",
    "# we see how many unique observations each feature consists of.\n",
    "\n",
    "# With <30, a 30-character space is left from the leftmost to the \":\" sign and feature names are printed in this space.\n",
    "# The \":\" sign is aligned on all lines."
   ]
  },
  {
   "cell_type": "markdown",
   "metadata": {
    "id": "8alplzhbRC1l"
   },
   "source": [
    "### Converting the Extras feature from object to numeric"
   ]
  },
  {
   "cell_type": "code",
   "execution_count": 23,
   "metadata": {
    "id": "6e9HrTv5gYPP",
    "lang": "en",
    "outputId": "20bb9408-cabf-42e7-dd9d-28f715822bb8"
   },
   "outputs": [
    {
     "data": {
      "text/plain": [
       "549      Alloy wheels, Ambient lighting, Automatically ...\n",
       "3998     Alloy wheels, Automatically dimming interior m...\n",
       "11847                                         Alloy wheels\n",
       "13149                             Roof rack, Voice Control\n",
       "7916     Alloy wheels (15\"), Ambient lighting, Awning, ...\n",
       "1286     Alloy wheels (17\"), Ambient lighting, Emergenc...\n",
       "4613     Alloy wheels, Ambient lighting, Automatically ...\n",
       "4227     Alloy wheels, Automatically dimming interior m...\n",
       "11639                                         Alloy wheels\n",
       "13823    Alloy wheels, Automatically dimming interior m...\n",
       "Name: extras, dtype: object"
      ]
     },
     "execution_count": 23,
     "metadata": {},
     "output_type": "execute_result"
    }
   ],
   "source": [
    "df.extras.sample(10)\n",
    "\n",
    "# Since we want our ML Model to give more weight to cars with more features,\n",
    "# we will count the features here and assign the numbers we find\n",
    "# to the places of the categorical features here."
   ]
  },
  {
   "cell_type": "code",
   "execution_count": 24,
   "metadata": {
    "id": "bbCLLYh-RC1m",
    "outputId": "b7ae48a2-7b8b-48ef-c95d-8c87b4d64ae4"
   },
   "outputs": [
    {
     "data": {
      "text/plain": [
       "0        5\n",
       "1        6\n",
       "2        1\n",
       "3        1\n",
       "4        1\n",
       "        ..\n",
       "18192    9\n",
       "18193    1\n",
       "18194    1\n",
       "18195    3\n",
       "18196    2\n",
       "Name: extras, Length: 18197, dtype: int64"
      ]
     },
     "execution_count": 24,
     "metadata": {},
     "output_type": "execute_result"
    }
   ],
   "source": [
    "df.extras.apply(lambda x: len(x.split(',')))"
   ]
  },
  {
   "cell_type": "code",
   "execution_count": 25,
   "metadata": {
    "id": "LWjActp_gYPP",
    "lang": "en"
   },
   "outputs": [],
   "source": [
    "df[\"extras\"] = df.extras.apply(lambda x: len(x.split(',')))\n",
    "\n",
    "# We assign these numbers we find to the relevant feat."
   ]
  },
  {
   "cell_type": "code",
   "execution_count": 26,
   "metadata": {
    "id": "6usCpZlpRC1m",
    "outputId": "976d4b81-36b6-468d-f01c-9aef752b77bd",
    "scrolled": false
   },
   "outputs": [
    {
     "data": {
      "text/html": [
       "<div>\n",
       "<style scoped>\n",
       "    .dataframe tbody tr th:only-of-type {\n",
       "        vertical-align: middle;\n",
       "    }\n",
       "\n",
       "    .dataframe tbody tr th {\n",
       "        vertical-align: top;\n",
       "    }\n",
       "\n",
       "    .dataframe thead th {\n",
       "        text-align: right;\n",
       "    }\n",
       "</style>\n",
       "<table border=\"1\" class=\"dataframe\">\n",
       "  <thead>\n",
       "    <tr style=\"text-align: right;\">\n",
       "      <th></th>\n",
       "      <th>make_model</th>\n",
       "      <th>price</th>\n",
       "      <th>body_type</th>\n",
       "      <th>type</th>\n",
       "      <th>warranty</th>\n",
       "      <th>mileage</th>\n",
       "      <th>gearbox</th>\n",
       "      <th>fuel_type</th>\n",
       "      <th>seller</th>\n",
       "      <th>engine_size</th>\n",
       "      <th>gears</th>\n",
       "      <th>co_emissions</th>\n",
       "      <th>drivetrain</th>\n",
       "      <th>extras</th>\n",
       "      <th>empty_weight</th>\n",
       "      <th>full_service_history</th>\n",
       "      <th>upholstery</th>\n",
       "      <th>previous_owner</th>\n",
       "      <th>energy_efficiency_class</th>\n",
       "      <th>age</th>\n",
       "      <th>power_kW</th>\n",
       "      <th>cons_avg</th>\n",
       "      <th>comfort_&amp;_convenience_Package</th>\n",
       "      <th>entertainment_&amp;_media_Package</th>\n",
       "      <th>safety_&amp;_security_Package</th>\n",
       "    </tr>\n",
       "  </thead>\n",
       "  <tbody>\n",
       "    <tr>\n",
       "      <th>0</th>\n",
       "      <td>Mercedes-Benz A 180</td>\n",
       "      <td>24400.000</td>\n",
       "      <td>Compact</td>\n",
       "      <td>Used</td>\n",
       "      <td>Yes</td>\n",
       "      <td>27150.000</td>\n",
       "      <td>Manual</td>\n",
       "      <td>Diesel</td>\n",
       "      <td>Dealer</td>\n",
       "      <td>1461.000</td>\n",
       "      <td>6.000</td>\n",
       "      <td>120.000</td>\n",
       "      <td>Front</td>\n",
       "      <td>5</td>\n",
       "      <td>1330.000</td>\n",
       "      <td>No</td>\n",
       "      <td>Part/Full Leather</td>\n",
       "      <td>2.000</td>\n",
       "      <td>unefficient</td>\n",
       "      <td>2.000</td>\n",
       "      <td>85.000</td>\n",
       "      <td>4.500</td>\n",
       "      <td>Standard</td>\n",
       "      <td>Plus</td>\n",
       "      <td>Safety Premium Package</td>\n",
       "    </tr>\n",
       "    <tr>\n",
       "      <th>1</th>\n",
       "      <td>Mercedes-Benz A 180</td>\n",
       "      <td>7450.000</td>\n",
       "      <td>Compact</td>\n",
       "      <td>Used</td>\n",
       "      <td>No</td>\n",
       "      <td>157500.000</td>\n",
       "      <td>Manual</td>\n",
       "      <td>Diesel</td>\n",
       "      <td>Dealer</td>\n",
       "      <td>1991.000</td>\n",
       "      <td>6.000</td>\n",
       "      <td>138.000</td>\n",
       "      <td>Front</td>\n",
       "      <td>6</td>\n",
       "      <td>1295.000</td>\n",
       "      <td>Yes</td>\n",
       "      <td>Cloth</td>\n",
       "      <td>2.000</td>\n",
       "      <td>unefficient</td>\n",
       "      <td>12.000</td>\n",
       "      <td>80.000</td>\n",
       "      <td>5.200</td>\n",
       "      <td>Premium</td>\n",
       "      <td>Standard</td>\n",
       "      <td>Safety Premium Plus Package</td>\n",
       "    </tr>\n",
       "    <tr>\n",
       "      <th>2</th>\n",
       "      <td>Mercedes-Benz A 180</td>\n",
       "      <td>29800.000</td>\n",
       "      <td>Compact</td>\n",
       "      <td>Used</td>\n",
       "      <td>Yes</td>\n",
       "      <td>21734.000</td>\n",
       "      <td>Automatic</td>\n",
       "      <td>Diesel</td>\n",
       "      <td>Dealer</td>\n",
       "      <td>1461.000</td>\n",
       "      <td>7.000</td>\n",
       "      <td>99.500</td>\n",
       "      <td>Front</td>\n",
       "      <td>1</td>\n",
       "      <td>1445.000</td>\n",
       "      <td>No</td>\n",
       "      <td>Cloth</td>\n",
       "      <td>2.000</td>\n",
       "      <td>unefficient</td>\n",
       "      <td>2.000</td>\n",
       "      <td>85.000</td>\n",
       "      <td>3.900</td>\n",
       "      <td>Standard</td>\n",
       "      <td>Standard</td>\n",
       "      <td>Safety Premium Package</td>\n",
       "    </tr>\n",
       "    <tr>\n",
       "      <th>3</th>\n",
       "      <td>Mercedes-Benz A 180</td>\n",
       "      <td>21000.000</td>\n",
       "      <td>Compact</td>\n",
       "      <td>Used</td>\n",
       "      <td>Yes</td>\n",
       "      <td>172700.000</td>\n",
       "      <td>Automatic</td>\n",
       "      <td>Diesel</td>\n",
       "      <td>Dealer</td>\n",
       "      <td>1461.000</td>\n",
       "      <td>7.000</td>\n",
       "      <td>99.500</td>\n",
       "      <td>Front</td>\n",
       "      <td>1</td>\n",
       "      <td>1425.000</td>\n",
       "      <td>No</td>\n",
       "      <td>Cloth</td>\n",
       "      <td>3.000</td>\n",
       "      <td>unefficient</td>\n",
       "      <td>4.000</td>\n",
       "      <td>80.000</td>\n",
       "      <td>3.700</td>\n",
       "      <td>Standard</td>\n",
       "      <td>Standard</td>\n",
       "      <td>Safety Standard Package</td>\n",
       "    </tr>\n",
       "    <tr>\n",
       "      <th>4</th>\n",
       "      <td>Mercedes-Benz A 180</td>\n",
       "      <td>26800.000</td>\n",
       "      <td>Compact</td>\n",
       "      <td>Used</td>\n",
       "      <td>Yes</td>\n",
       "      <td>18989.000</td>\n",
       "      <td>Automatic</td>\n",
       "      <td>Diesel</td>\n",
       "      <td>Dealer</td>\n",
       "      <td>1461.000</td>\n",
       "      <td>7.000</td>\n",
       "      <td>99.500</td>\n",
       "      <td>Front</td>\n",
       "      <td>1</td>\n",
       "      <td>1455.000</td>\n",
       "      <td>No</td>\n",
       "      <td>Cloth</td>\n",
       "      <td>2.000</td>\n",
       "      <td>unefficient</td>\n",
       "      <td>2.000</td>\n",
       "      <td>85.000</td>\n",
       "      <td>3.900</td>\n",
       "      <td>Standard</td>\n",
       "      <td>Standard</td>\n",
       "      <td>Safety Premium Package</td>\n",
       "    </tr>\n",
       "  </tbody>\n",
       "</table>\n",
       "</div>"
      ],
      "text/plain": [
       "            make_model     price body_type  type warranty    mileage  \\\n",
       "0  Mercedes-Benz A 180 24400.000   Compact  Used      Yes  27150.000   \n",
       "1  Mercedes-Benz A 180  7450.000   Compact  Used       No 157500.000   \n",
       "2  Mercedes-Benz A 180 29800.000   Compact  Used      Yes  21734.000   \n",
       "3  Mercedes-Benz A 180 21000.000   Compact  Used      Yes 172700.000   \n",
       "4  Mercedes-Benz A 180 26800.000   Compact  Used      Yes  18989.000   \n",
       "\n",
       "     gearbox fuel_type  seller  engine_size  gears  co_emissions drivetrain  \\\n",
       "0     Manual    Diesel  Dealer     1461.000  6.000       120.000      Front   \n",
       "1     Manual    Diesel  Dealer     1991.000  6.000       138.000      Front   \n",
       "2  Automatic    Diesel  Dealer     1461.000  7.000        99.500      Front   \n",
       "3  Automatic    Diesel  Dealer     1461.000  7.000        99.500      Front   \n",
       "4  Automatic    Diesel  Dealer     1461.000  7.000        99.500      Front   \n",
       "\n",
       "   extras  empty_weight full_service_history         upholstery  \\\n",
       "0       5      1330.000                   No  Part/Full Leather   \n",
       "1       6      1295.000                  Yes              Cloth   \n",
       "2       1      1445.000                   No              Cloth   \n",
       "3       1      1425.000                   No              Cloth   \n",
       "4       1      1455.000                   No              Cloth   \n",
       "\n",
       "   previous_owner energy_efficiency_class    age  power_kW  cons_avg  \\\n",
       "0           2.000             unefficient  2.000    85.000     4.500   \n",
       "1           2.000             unefficient 12.000    80.000     5.200   \n",
       "2           2.000             unefficient  2.000    85.000     3.900   \n",
       "3           3.000             unefficient  4.000    80.000     3.700   \n",
       "4           2.000             unefficient  2.000    85.000     3.900   \n",
       "\n",
       "  comfort_&_convenience_Package entertainment_&_media_Package  \\\n",
       "0                      Standard                          Plus   \n",
       "1                       Premium                      Standard   \n",
       "2                      Standard                      Standard   \n",
       "3                      Standard                      Standard   \n",
       "4                      Standard                      Standard   \n",
       "\n",
       "     safety_&_security_Package  \n",
       "0       Safety Premium Package  \n",
       "1  Safety Premium Plus Package  \n",
       "2       Safety Premium Package  \n",
       "3      Safety Standard Package  \n",
       "4       Safety Premium Package  "
      ]
     },
     "execution_count": 26,
     "metadata": {},
     "output_type": "execute_result"
    }
   ],
   "source": [
    "df.head() # check extras feature turned into numeric"
   ]
  },
  {
   "cell_type": "code",
   "execution_count": 27,
   "metadata": {
    "id": "5QfylnKOgYPQ",
    "lang": "en",
    "outputId": "8bf98b06-b19a-48b0-ea9a-34fa088e8b13"
   },
   "outputs": [
    {
     "data": {
      "text/plain": [
       "21"
      ]
     },
     "execution_count": 27,
     "metadata": {},
     "output_type": "execute_result"
    }
   ],
   "source": [
    "df.extras.nunique() # 6478 unique value --> reduced to 21 unique."
   ]
  },
  {
   "cell_type": "code",
   "execution_count": 28,
   "metadata": {
    "id": "LJOE_pR9RC1n",
    "outputId": "6e0fb6e5-40bd-4f65-ab06-109ae1d70869"
   },
   "outputs": [
    {
     "data": {
      "text/plain": [
       "array([ 5,  6,  1,  2,  8,  7,  3,  4, 12,  9, 11, 10, 15, 13, 14, 16, 18,\n",
       "       17, 19, 26, 20])"
      ]
     },
     "execution_count": 28,
     "metadata": {},
     "output_type": "execute_result"
    }
   ],
   "source": [
    "df.extras.unique()\n",
    "\n",
    "#now extra column become numerical "
   ]
  },
  {
   "cell_type": "code",
   "execution_count": 29,
   "metadata": {
    "id": "HjwYKoqLgYPQ",
    "lang": "en",
    "outputId": "bdfed11a-eedd-4db3-9596-2f9dd99b0456"
   },
   "outputs": [
    {
     "name": "stdout",
     "output_type": "stream",
     "text": [
      "make_model                    : ['Mercedes-Benz A 180' 'Opel Corsa' 'Opel Astra' 'Opel Adam'\n",
      " 'Opel Insignia' 'Opel Cascada' 'Opel Grandland X' 'Renault Megane'\n",
      " 'Renault Clio' 'Renault Captur' 'Renault Talisman' 'Renault Kadjar'\n",
      " 'Peugeot 308' 'Peugeot 206' 'Peugeot 208' 'Peugeot 207' 'Peugeot 3008'\n",
      " 'Peugeot 508' 'Peugeot RCZ' 'Peugeot 2008' 'Fiat 500' 'Fiat Tipo'\n",
      " 'Fiat 500X' 'Fiat Panda' 'Fiat 500C' 'SEAT Leon' 'SEAT Ibiza'\n",
      " 'SEAT Arona' 'SEAT Ateca' 'Skoda Octavia' 'Skoda Scala' 'Skoda Fabia'\n",
      " 'Skoda Superb' 'Skoda Kodiaq' 'Skoda Karoq' 'Dacia Sandero' 'Dacia Logan'\n",
      " 'Dacia Duster' 'Toyota Yaris' 'Toyota Aygo' 'Toyota Corolla'\n",
      " 'Toyota Auris' 'Toyota C-HR' 'Toyota RAV 4' 'Nissan Micra'\n",
      " 'Nissan Qashqai' 'Nissan Juke' 'Nissan Pulsar' 'Nissan 370Z'\n",
      " 'Nissan 350Z' 'Nissan X-Trail' 'Ford Fiesta' 'Ford Focus' 'Ford Mondeo'\n",
      " 'Ford Kuga' 'Ford Mustang' 'Hyundai i30' 'Hyundai i20' 'Hyundai IONIQ'\n",
      " 'Hyundai TUCSON' 'Volvo V40' 'Volvo S60' 'Volvo XC60' 'Volvo C30'\n",
      " 'Volvo C70' 'Volvo XC90' 'Volvo S90' 'Volvo XC40' 'Volvo V90' 'Volvo V60']\n",
      "body_type                     : ['Compact' 'Sedan' 'Convertible' 'Coupe' 'Off-Road/Pick-up'\n",
      " 'Station wagon']\n",
      "type                          : ['Used' 'Pre-registered' 'Demonstration' \"Employee's car\"]\n",
      "warranty                      : ['Yes' 'No']\n",
      "gearbox                       : ['Manual' 'Automatic' 'Semi-automatic']\n",
      "fuel_type                     : ['Diesel' 'Benzine' 'Liquid/Natural Gas' 'Electric']\n",
      "seller                        : ['Dealer' 'Private seller']\n",
      "drivetrain                    : ['Front' 'Rear' '4WD']\n",
      "full_service_history          : ['No' 'Yes']\n",
      "upholstery                    : ['Part/Full Leather' 'Cloth']\n",
      "energy_efficiency_class       : ['unefficient' 'efficient']\n",
      "comfort_&_convenience_Package : ['Standard' 'Premium' 'Premium Plus']\n",
      "entertainment_&_media_Package : ['Plus' 'Standard']\n",
      "safety_&_security_Package     : ['Safety Premium Package' 'Safety Premium Plus Package'\n",
      " 'Safety Standard Package']\n"
     ]
    }
   ],
   "source": [
    "for i in df.select_dtypes(\"object\"):\n",
    "    print(f\"{i:<30}:\", df[i].unique())\n",
    "\n",
    "# When we examine these lists, type, comfort_&_convenience_Package, entertainment_&_media_Package,\n",
    "# safety_&_security_Package features ordinalencoder other We see that we will apply\n",
    "# onehotencoder transformation to featurs.\n",
    "\n",
    "# OneHotEncoder:\n",
    "# OneHotEncoder converts categorical features into dummies 0 and 1.\n",
    "# If we want our model to treat all unique values under the categorical feature equally,\n",
    "# we convert our categorical data to 0 and 1 using the onehotencoder conversion algorithm.\n",
    "\n",
    "# OrdinalEncoder:\n",
    "# if unique categorical data under a featurea have a hierarchical advantage over\n",
    "# each other (good, bad, very bad or cheap, average, expensive, very expensive) etc.\n",
    "# If we want the model to treat all observations according to their superiority,\n",
    "# that is, not to treat them equally, we use the ordianlencoder conversion algorithm."
   ]
  },
  {
   "cell_type": "code",
   "execution_count": 30,
   "metadata": {
    "id": "wUhhenyHRC1n"
   },
   "outputs": [],
   "source": [
    "#!pip install matplotlib==3.4"
   ]
  },
  {
   "cell_type": "code",
   "execution_count": 31,
   "metadata": {
    "id": "YemchYhBgYPR",
    "lang": "en",
    "outputId": "7a12e596-791a-4218-c6a6-fab062641a60"
   },
   "outputs": [
    {
     "data": {
      "image/png": "[encoded data removed]",
      "text/plain": [
       "<Figure size 1440x360 with 1 Axes>"
      ]
     },
     "metadata": {
      "needs_background": "light"
     },
     "output_type": "display_data"
    }
   ],
   "source": [
    "ax = df.make_model.value_counts().iloc[:35].plot(kind =\"bar\", figsize=(20,5))\n",
    "\n",
    "ax.bar_label(ax.containers[0]);\n",
    "\n",
    "# we see the top 35 models with the most observations in our data and their numbers."
   ]
  },
  {
   "cell_type": "code",
   "execution_count": 32,
   "metadata": {
    "id": "7MonhWLugYPR",
    "lang": "en",
    "outputId": "b3425bfd-1d2e-47f7-8ed6-e189bbd7e928"
   },
   "outputs": [
    {
     "data": {
      "image/png": "[encoded data removed]",
      "text/plain": [
       "<Figure size 1440x360 with 1 Axes>"
      ]
     },
     "metadata": {
      "needs_background": "light"
     },
     "output_type": "display_data"
    }
   ],
   "source": [
    "ax = df.make_model.value_counts().iloc[-35:].plot(kind =\"bar\", figsize=(20,5))\n",
    "\n",
    "ax.bar_label(ax.containers[0]);\n",
    "\n",
    "# we see 35 models and numbers with the least observations in our data."
   ]
  },
  {
   "cell_type": "code",
   "execution_count": 33,
   "metadata": {
    "id": "Jt_nL7RjRC1n"
   },
   "outputs": [],
   "source": [
    "df2 = df.copy()"
   ]
  },
  {
   "cell_type": "code",
   "execution_count": 34,
   "metadata": {
    "id": "08VF4MhogYPR",
    "lang": "en",
    "outputId": "f902b10e-1f43-41ac-d67f-72cf59f8adbe"
   },
   "outputs": [
    {
     "data": {
      "image/png": "[encoded data removed]",
      "text/plain": [
       "<Figure size 504x288 with 1 Axes>"
      ]
     },
     "metadata": {
      "needs_background": "light"
     },
     "output_type": "display_data"
    }
   ],
   "source": [
    "sns.histplot(df.price, bins=100, kde=True);\n",
    "\n",
    "# Since linear models are very sensitive to outliers, I am trying to detect outliers in the data with histplot.\n",
    "# Let's not forget that outlier for ML means that the data of a group or groups in our data is insufficient for training.\n",
    "# By looking at the image below, we see that the number of vehicles over 70.000 EURO is very low.\n",
    "# Based on this image, we can evaluate that the number of vehicles over 70 thousand EURO may be insufficient for training.\n",
    "# However, we cannot understand whether it is inadequate or not without training.\n",
    "# We should decide by both dropping the observations that we consider as outliers and\n",
    "# comparing the scores by doing the training without dropping them.\n",
    "\n",
    "# Also, looking at the histplot for all the data may mislead us about the outlier.\n",
    "# For outlier detection, we should group the data in our data (Opel Astra, Ford Fiesta, Volvo S60 etc.)\n",
    "# and determine the outlier accordingly."
   ]
  },
  {
   "cell_type": "code",
   "execution_count": 35,
   "metadata": {
    "id": "jrf62HvLRC1o",
    "outputId": "41203a15-991b-46fc-f87d-adf2c8dff984"
   },
   "outputs": [
    {
     "data": {
      "text/plain": [
       "2.473903804317343"
      ]
     },
     "execution_count": 35,
     "metadata": {},
     "output_type": "execute_result"
    }
   ],
   "source": [
    "skew(df.price)"
   ]
  },
  {
   "cell_type": "code",
   "execution_count": 36,
   "metadata": {
    "id": "gl8ZWJVRRC1o",
    "outputId": "ccf0696d-53eb-43ed-970e-0b80f7c12a94"
   },
   "outputs": [
    {
     "ename": "TypeError",
     "evalue": "corr() got an unexpected keyword argument 'numeric_only'",
     "output_type": "error",
     "traceback": [
      "\u001b[0;31m---------------------------------------------------------------------------\u001b[0m",
      "\u001b[0;31mTypeError\u001b[0m                                 Traceback (most recent call last)",
      "Input \u001b[0;32mIn [36]\u001b[0m, in \u001b[0;36m<cell line: 2>\u001b[0;34m()\u001b[0m\n\u001b[1;32m      1\u001b[0m plt\u001b[38;5;241m.\u001b[39mfigure(figsize\u001b[38;5;241m=\u001b[39m(\u001b[38;5;241m10\u001b[39m,\u001b[38;5;241m6\u001b[39m))\n\u001b[0;32m----> 2\u001b[0m sns\u001b[38;5;241m.\u001b[39mheatmap(\u001b[43mdf\u001b[49m\u001b[38;5;241;43m.\u001b[39;49m\u001b[43mcorr\u001b[49m\u001b[43m(\u001b[49m\u001b[43mnumeric_only\u001b[49m\u001b[38;5;241;43m=\u001b[39;49m\u001b[38;5;28;43;01mTrue\u001b[39;49;00m\u001b[43m)\u001b[49m, vmin\u001b[38;5;241m=\u001b[39m\u001b[38;5;241m-\u001b[39m\u001b[38;5;241m1\u001b[39m, vmax\u001b[38;5;241m=\u001b[39m\u001b[38;5;241m1\u001b[39m, annot \u001b[38;5;241m=\u001b[39m\u001b[38;5;28;01mTrue\u001b[39;00m, cmap\u001b[38;5;241m=\u001b[39m\u001b[38;5;124m\"\u001b[39m\u001b[38;5;124mcoolwarm\u001b[39m\u001b[38;5;124m\"\u001b[39m)\n",
      "\u001b[0;31mTypeError\u001b[0m: corr() got an unexpected keyword argument 'numeric_only'"
     ]
    },
    {
     "data": {
      "text/plain": [
       "<Figure size 720x432 with 0 Axes>"
      ]
     },
     "metadata": {},
     "output_type": "display_data"
    }
   ],
   "source": [
    "plt.figure(figsize=(10,6))\n",
    "sns.heatmap(df.corr(numeric_only=True), vmin=-1, vmax=1, annot =True, cmap=\"coolwarm\");"
   ]
  },
  {
   "cell_type": "markdown",
   "metadata": {
    "id": "H_egZzv6RC1o"
   },
   "source": [
    "## multicollinearity control"
   ]
  },
  {
   "cell_type": "code",
   "execution_count": null,
   "metadata": {
    "id": "T20yahsUgYPS",
    "lang": "en",
    "outputId": "f8a79d12-65ed-45b2-ae22-a4f1ce7118ab"
   },
   "outputs": [],
   "source": [
    "df.corr(numeric_only=True)[(abs(df.corr(numeric_only=True))>= 0.9) & (abs(df.corr(numeric_only=True)) < 1)] .any().any()\n",
    "\n",
    "# Corr between +/-0.9 and +/-1. We can check multicollinearity for values with this snippet."
   ]
  },
  {
   "cell_type": "markdown",
   "metadata": {
    "id": "sLFtWNJ3RC1p"
   },
   "source": [
    "## Outliers in Price Column"
   ]
  },
  {
   "cell_type": "code",
   "execution_count": null,
   "metadata": {
    "id": "8qNRmZ0WgYPS",
    "lang": "en",
    "outputId": "8ebdd434-83c1-4b96-ffc5-639b83667616"
   },
   "outputs": [],
   "source": [
    "plt.figure(figsize=(10,6))\n",
    "\n",
    "plt.subplot(211)\n",
    "sns.boxplot(df.price)\n",
    "\n",
    "plt.subplot(212)\n",
    "sns.stripplot(df.price);\n",
    "\n",
    "# We can get insights about outliers via boxplot. However, these insights can mislead us.\n",
    "# In order to make more accurate comments, we can use the stripplot showing the distribution\n",
    "# of categorical data. Although boxplot treats cars priced at 50 thousand EURO and above as outliers,\n",
    "# stripplot tells us that the number of cars priced at 50 thousand EURO and around is not very few.\n",
    "# But as we said above, our evaluation is not for the data in general. We will do it according to\n",
    "# the groups in the data (Opel Astra, Ford Fiesta, Volvo S60 etc.)."
   ]
  },
  {
   "cell_type": "code",
   "execution_count": null,
   "metadata": {
    "id": "iOMiHXfTcTnm"
   },
   "outputs": [],
   "source": [
    "#conda install -c anaconda ipywidgets"
   ]
  },
  {
   "cell_type": "code",
   "execution_count": null,
   "metadata": {
    "id": "pXIBnpr_cTnm",
    "outputId": "35de1501-9ccb-443d-a647-aaf2c96fa9a1"
   },
   "outputs": [],
   "source": [
    "df[df.make_model==\"Volvo V60\"]"
   ]
  },
  {
   "cell_type": "code",
   "execution_count": null,
   "metadata": {
    "colab": {
     "referenced_widgets": [
      "a6443eaea67a435185ebaa566d1b77f5",
      "4f2760b5e93a40de919b7bc6e1932c27"
     ]
    },
    "id": "kMRT69KagYPT",
    "lang": "en",
    "outputId": "28369330-bba4-4a1a-d491-82d65d7fbdc3"
   },
   "outputs": [],
   "source": [
    "from ipywidgets import interact\n",
    "\n",
    "def box_strip(model):\n",
    "    sns.boxplot(data = df[df.make_model==model],\n",
    "                x= \"make_model\",\n",
    "                y = \"price\",\n",
    "                palette='bright')\n",
    "\n",
    "    sns.stripplot(data = df[df.make_model==model],\n",
    "                x= \"make_model\",\n",
    "                y = \"price\",\n",
    "                palette='Set1')\n",
    "model = df.make_model.unique()\n",
    "interact(box_strip, model=model);\n",
    "\n",
    "# This code defines the function to plot an interactive boxplot and stripplot using the ipywidgets and seaborn libraries.\n",
    "# The function superimposes the boxplot and stripplot graph showing the prices of different car models covered by the data.\n",
    "# The interact() function allows the box_strip function to run by selecting the user through the interface.\n",
    "# This selection determines the car model that will be used to draw the graph."
   ]
  },
  {
   "cell_type": "code",
   "execution_count": null,
   "metadata": {
    "id": "a7RqTlcZgYPT",
    "lang": "en",
    "outputId": "b1852e10-cd22-41ed-e9a0-52de50462e8d"
   },
   "outputs": [],
   "source": [
    "df.make_model.unique()\n",
    "\n",
    "# unique groups in our data"
   ]
  },
  {
   "cell_type": "code",
   "execution_count": null,
   "metadata": {
    "id": "1AKYGqiBgYPU",
    "lang": "en",
    "outputId": "06fa7cfa-ba31-45ba-8d97-98472c2231b4"
   },
   "outputs": [],
   "source": [
    "df[df[\"make_model\"]== \"Mercedes-Benz A 180\"][\"price\"]\n",
    "\n",
    "# Prices of Mercedes-Benz A 180s. We will try to determine the outlier values for each car using this code."
   ]
  },
  {
   "cell_type": "code",
   "execution_count": null,
   "metadata": {
    "id": "5wDWEExAgYPU",
    "lang": "en",
    "outputId": "f98803cd-16d1-42ad-f43d-f60e0142f0cb",
    "scrolled": true
   },
   "outputs": [],
   "source": [
    "total_outliers = []\n",
    "\n",
    "for model in df.make_model.unique():\n",
    "\n",
    "    car_prices = df[df[\"make_model\"]== model][\"price\"]\n",
    "\n",
    "    Q1 = car_prices.quantile(0.25)\n",
    "    Q3 = car_prices.quantile(0.75)\n",
    "    IQR = Q3 - Q1\n",
    "    lower_lim = Q1 - 1.5*IQR\n",
    "    upper_lim = Q3 + 1.5*IQR\n",
    "\n",
    "    count_of_outliers = (car_prices[(car_prices < lower_lim) | (car_prices > upper_lim)]).count()\n",
    "\n",
    "    total_outliers.append(count_of_outliers)\n",
    "\n",
    "    print(f\" The count of outlier for {model:<24} : {count_of_outliers:<2},\\\n",
    "    The rate of outliers : {(count_of_outliers/len(df[df['make_model']== model])).round(3)}\")\n",
    "print()\n",
    "print(\"Total_outliers : \",sum(total_outliers), \"The rate of total outliers :\", (sum(total_outliers)/len(df)).round(3))\n",
    "#to determine the outlier of each group\n",
    "# According to the 1.5 wisker value, we identify the data that we consider to be outliers belonging to each group."
   ]
  },
  {
   "cell_type": "markdown",
   "metadata": {
    "id": "AL3nqxsJRC1q"
   },
   "source": [
    "## 2. Data Pre-Processing\n",
    "\n",
    "As you know, the data set must be edited before proceeding to the implementation of the model. As the last step before model fitting, you need to spilit the data set as train and test. Then, you should train the model with train data and evaluate the performance of the model on the test data. You can use the train and test data you have created for all algorithms.\n",
    "\n",
    "You must also drop your target variable, the column you are trying to predict.\n",
    "\n",
    "You can use many [performance metrics for regression](https://medium.com/analytics-vidhya/evaluation-metrics-for-regression-problems-343c4923d922) to measure the performance of the regression model you train. You can define a function to view different metric results together.\n",
    "\n",
    "You can also use the [cross validation](https://towardsdatascience.com/cross-validation-explained-evaluating-estimator-performance-e51e5430ff85) method to measure the estimator performance. Cross validation uses different data samples from your test set and calculates the accuracy score for each data sample. You can calculate the final performance of your estimator by averaging these scores."
   ]
  },
  {
   "cell_type": "markdown",
   "metadata": {
    "id": "fPMo1FzxRC1r"
   },
   "source": [
    "### OneHotEncoder"
   ]
  },
  {
   "cell_type": "markdown",
   "metadata": {
    "id": "sqptIsiERC1r"
   },
   "source": [
    "#### Example"
   ]
  },
  {
   "cell_type": "code",
   "execution_count": null,
   "metadata": {},
   "outputs": [],
   "source": [
    "import sklearn\n",
    "sklearn.__version__\n"
   ]
  },
  {
   "cell_type": "code",
   "execution_count": null,
   "metadata": {
    "id": "4y90g-tqRC1r",
    "outputId": "01ad00a5-e61f-4dc3-e4f3-400bc6b889d8"
   },
   "outputs": [],
   "source": [
    "data = {\"col\": ['bad','worst','good', 'good', 'bad', \"bed\",'good', 'good', 'bad', \"car\"], \"y\": [1,2,3,4,5,6,7,8,9,10]}\n",
    "data = pd.DataFrame(data)\n",
    "data\n",
    "\n",
    "#this dataset for Clarification > encoder"
   ]
  },
  {
   "cell_type": "code",
   "execution_count": null,
   "metadata": {
    "id": "meCxKWaTyekf"
   },
   "outputs": [],
   "source": [
    "from sklearn.model_selection import train_test_split\n",
    "\n",
    "X_train, X_test, y_train, y_test = train_test_split(data[[\"col\"]], data[\"y\"], test_size=0.3, shuffle=False)"
   ]
  },
  {
   "cell_type": "code",
   "execution_count": null,
   "metadata": {
    "id": "GRFKwQrLRC1r",
    "outputId": "119e6862-1fcf-4a42-fc15-1386fc90299f"
   },
   "outputs": [],
   "source": [
    "X_train"
   ]
  },
  {
   "cell_type": "code",
   "execution_count": null,
   "metadata": {
    "id": "fjrHVjGLRC1s",
    "outputId": "4e44334f-3101-4db9-fbc8-ab979f1b4a67",
    "scrolled": true
   },
   "outputs": [],
   "source": [
    "X_test"
   ]
  },
  {
   "cell_type": "code",
   "execution_count": null,
   "metadata": {
    "id": "CKWbE49XgYPV",
    "lang": "en"
   },
   "outputs": [],
   "source": [
    "from sklearn.preprocessing import OneHotEncoder\n",
    "\n",
    "enc = OneHotEncoder(handle_unknown=\"ignore\", sparse=False).set_output(transform=\"pandas\") # sparse depricated if u use >=1.2 version. instead use sparse_output\n",
    "\n",
    "\n",
    "# OneHotEncoder converts categorical features into dummies 0 and 1 features. If we want our model to treat\n",
    "# all unique values under the categorical feature equally, we convert our categorical data to 0 and 1 using\n",
    "# the onehotencoder conversion algorithm. We could also use the get_dummies() function for this conversion,\n",
    "# but since applying get_dummies() to all data and then separating the data into train and test sets will\n",
    "# cause data leakege, categorical observations for the data we prepared for ML models dummies features must be\n",
    "# done with the onehotencoder conversion algorithm.\n",
    "\n",
    "# However, when converting to categorical data, the following should not be forgotten:\n",
    "# if there is a hierarchical superiority or ranking (expensive, normal, cheap or Large, average, small, etc.)\n",
    "# among unique observations in a categorical feature, the ordinalencoder conversion algorithm should be used.\n",
    "\n",
    "# Conversion of categorical data to dummies features is done according to the unique categorical data in\n",
    "# the train set where the fit operation is performed. With the handle_unknown = \"ignore\" parameter,\n",
    "# all categorical data passed in the test set and not in the train set are converted to 0.\n",
    "# The default for this parameter is handle_unknown = \"error\". If the handle_unknown parameter remains at\n",
    "# its default value, the onehotencoder algorithm will fail for an observation that is in the test set but\n",
    "# not in the train set.\n",
    "\n",
    "# In sklearn 1.2 versions, with the set_output(transform=\"pandas\") code,\n",
    "# it transforms the outputs converted into array after conversion into a dataframe\n",
    "# with the feature names of the data to which it is fitted."
   ]
  },
  {
   "cell_type": "code",
   "execution_count": null,
   "metadata": {
    "id": "l52op5n4gYPW",
    "lang": "en",
    "outputId": "9b6f48e1-372e-4c05-9a2c-cf288f6e0f14"
   },
   "outputs": [],
   "source": [
    "enc.fit_transform(X_train)\n",
    "# Since the fit process is done on the train set,\n",
    "# the transformation (transformation) in both the train and the test set will only be made\n",
    "# according to the unique observations in the train set."
   ]
  },
  {
   "cell_type": "code",
   "execution_count": null,
   "metadata": {
    "id": "VwZCodk7gYPX",
    "lang": "en",
    "outputId": "f335fd3f-6461-4bef-ec51-5720263acba8"
   },
   "outputs": [],
   "source": [
    "enc.transform(X_test)\n",
    "# Since the transformation in the test set is made according to the unique observations in the train set,\n",
    "# the unique observations in both the train and the test set are converted to 1,\n",
    "# while the non-observations (car) are converted to 0."
   ]
  },
  {
   "cell_type": "markdown",
   "metadata": {
    "id": "HHAqLouvRC1t"
   },
   "source": [
    "### OrdinalEncoder"
   ]
  },
  {
   "cell_type": "markdown",
   "metadata": {
    "id": "NZ_edwh3RC1t"
   },
   "source": [
    "#### Example"
   ]
  },
  {
   "cell_type": "code",
   "execution_count": null,
   "metadata": {
    "id": "_8TRGCFTgYPX",
    "lang": "en",
    "outputId": "334b8e4b-ad37-45e5-ed78-db6080d6d6a5"
   },
   "outputs": [],
   "source": [
    "data = {\"col\": ['bad','worst','good', 'good', 'bad', 'good', 'good', 'bad', \"ugly\", \"worst\"], \"y\": [1,2,3,4,5,6,7,8,9,10]}\n",
    "data = pd.DataFrame(data)\n",
    "data\n",
    "# If unique categorical data under a featura have a hierarchical advantage over each other (very bad, bad, good)\n",
    "# or (cheap, average, expensive, very expensive) etc. If we want the model to treat all observations according to\n",
    "# their superiority, that is, not to treat them equally, we use the ordianlencoder conversion algorithm.\n",
    "# NOTE: Ordinalencoder has a special use in tree-based models. In this usage, we will always use ordinalencoder,\n",
    "# regardless of whether the observations have a hierarchical superiority to each other. As for tree based models,\n",
    "# this special usage will be explained in detail."
   ]
  },
  {
   "cell_type": "code",
   "execution_count": null,
   "metadata": {
    "id": "64BVRPhqRC1t"
   },
   "outputs": [],
   "source": [
    "X_train, X_test, y_train, y_test = train_test_split(data[[\"col\"]], data[\"y\"], test_size=0.4, shuffle=False)"
   ]
  },
  {
   "cell_type": "code",
   "execution_count": null,
   "metadata": {
    "id": "QWg4aH7tyekf",
    "outputId": "d620189e-b4a4-4158-a119-b687674b46d1"
   },
   "outputs": [],
   "source": [
    "X_train"
   ]
  },
  {
   "cell_type": "code",
   "execution_count": null,
   "metadata": {
    "id": "QGiXnXDlyekf",
    "outputId": "3c1eb825-e19e-4030-da65-4f26ce3faa2b"
   },
   "outputs": [],
   "source": [
    "X_test"
   ]
  },
  {
   "cell_type": "code",
   "execution_count": null,
   "metadata": {
    "id": "xnU9W5e5gYPY",
    "lang": "en"
   },
   "outputs": [],
   "source": [
    "from sklearn.preprocessing import OrdinalEncoder\n",
    "\n",
    "categories = ['worst','bad','good']\n",
    "# We need to define the order of the categories explicitly.\n",
    "#good will be 2, bad 0, and worst 1, according to the order above 👆  \n",
    "\n",
    "enc_2 = OrdinalEncoder(categories=[categories], handle_unknown=\"use_encoded_value\", unknown_value=-1).set_output(transform=\"pandas\")\n",
    "# In ordinal encoder we can not use \"ignore\" case, other than that we use \"use_encoded_value\" parameter.\n",
    "# We set the unknown_value as -1, since we want to be sure as it a different category."
   ]
  },
  {
   "cell_type": "code",
   "execution_count": null,
   "metadata": {
    "id": "-oW7DBEigYPY",
    "lang": "en",
    "outputId": "d431cc31-41a6-465f-a7ce-b6db0271ad50"
   },
   "outputs": [],
   "source": [
    "enc_2.fit_transform(X_train)"
   ]
  },
  {
   "cell_type": "code",
   "execution_count": null,
   "metadata": {
    "id": "AI8crXDBRC1u",
    "outputId": "361a5eaa-9909-4c88-c359-6e9d01d49180"
   },
   "outputs": [],
   "source": [
    "enc_2.transform(X_test)\n",
    "\n",
    "#ugly put it as -1, because it doesn’t know this value "
   ]
  },
  {
   "cell_type": "markdown",
   "metadata": {
    "id": "OPxIPLBmRC1q"
   },
   "source": [
    "### Train | Test Split"
   ]
  },
  {
   "cell_type": "code",
   "execution_count": null,
   "metadata": {
    "id": "YpiqetK8RC1q"
   },
   "outputs": [],
   "source": [
    "X= df.drop(columns=\"price\")\n",
    "y= df.price"
   ]
  },
  {
   "cell_type": "code",
   "execution_count": null,
   "metadata": {
    "id": "yaVwblIBRC1r"
   },
   "outputs": [],
   "source": [
    "X_train, X_test, y_train, y_test = train_test_split(X, y, test_size=0.2, random_state=42)"
   ]
  },
  {
   "cell_type": "markdown",
   "metadata": {
    "id": "bzWJCDFaRC1z"
   },
   "source": [
    "### Converting Object Features into Numerical Features Using Make Column Transformer"
   ]
  },
  {
   "cell_type": "code",
   "execution_count": null,
   "metadata": {
    "id": "PSld9JLDcTnr",
    "outputId": "a30c873e-8d6f-49d8-b69d-40861ef834e5"
   },
   "outputs": [],
   "source": [
    "df.select_dtypes(include=\"object\").head(1)"
   ]
  },
  {
   "cell_type": "code",
   "execution_count": null,
   "metadata": {
    "id": "SsEpAt-DgYPZ",
    "lang": "en"
   },
   "outputs": [],
   "source": [
    "cat_onehot = ['make_model', 'body_type', 'warranty', 'gearbox', 'fuel_type', 'seller', 'drivetrain', 'full_service_history',\n",
    "              'upholstery', 'energy_efficiency_class']\n",
    "cat_ordinal = ['type', 'comfort_&_convenience_Package', 'entertainment_&_media_Package', 'safety_&_security_Package']\n",
    "\n",
    "cat_for_type = [\"Used\", \"Employee's car\", \"Demonstration\", \"Pre-registered\"]\n",
    "cat_for_comfort = ['Standard', 'Premium', 'Premium Plus']\n",
    "cat_for_ent = ['Standard', 'Plus']\n",
    "cat_for_safety = ['Safety Standard Package', 'Safety Premium Package', 'Safety Premium Plus Package']\n",
    "\n",
    "# We specify the features we will convert to onohotencoder in the cat_onehot list,\n",
    "# and the features that we will convert to ordinalencoder in the cat_ordinal list.\n",
    "\n",
    "# Since the model does not know in which order the features we will transform will be numbered,\n",
    "# we give this order to the model manually."
   ]
  },
  {
   "cell_type": "code",
   "execution_count": null,
   "metadata": {
    "id": "2TY2fTP1gYPZ",
    "lang": "en"
   },
   "outputs": [],
   "source": [
    "from sklearn.compose import make_column_transformer\n",
    "from sklearn.preprocessing import OneHotEncoder, OrdinalEncoder\n",
    "\n",
    "column_trans = make_column_transformer(\n",
    "                        (OneHotEncoder(handle_unknown=\"ignore\", sparse=False), cat_onehot),\n",
    "                        (OrdinalEncoder(categories= [cat_for_type,\n",
    "                                                     cat_for_comfort,\n",
    "                                                     cat_for_ent,\n",
    "                                                     cat_for_safety]),cat_ordinal),\n",
    "                         remainder='passthrough',\n",
    "                         verbose_feature_names_out=False) # MinMaxScaler()\n",
    "\n",
    "column_trans=column_trans.set_output(transform=\"pandas\")\n",
    "\n",
    "# make_column_transformer function automates transformations to features. It transforms the features\n",
    "# in order according to the order we will give into this function.\n",
    "\n",
    "# What does the (OneHotEncoder(handle_unknown=\"ignore\", sparse=False), cat_onehot) code do?\n",
    "# With the handle_unknown = \"ignore\" parameter, onehotencoder converts all the features in\n",
    "# the cat_onehot list so that all categorical data passed in the test set and\n",
    "# not in the train set will be converted to 0.\n",
    "\n",
    "# What does the (OrdinalEncoder(categories=categories), cat_ordinal) code do?\n",
    "# After the onehotencoder conversion to the relevant features, all features in the cat_ordinal list\n",
    "# perform ordinal encoder conversion according to the hierarchical order of the unique categorical\n",
    "# observations in the categories list.\n",
    "\n",
    "# IMPORTANT NOTE: The order of the categories parameter of the OrdinalEncoder(categories=) function must be\n",
    "# the same as the order of the features in the cat_ordinal list, or you will get an error.\n",
    "\n",
    "# With remainder='passthrough' it means to leave all other features that are not converted.\n",
    "# if the remainder is \"dropped\" with the default value, all non-converted features will be dropped from df.\n",
    "# remainder= If we do MinMaxScaler() or StandardScale(), other features will be scaled except for\n",
    "# the non-transformed features.\n",
    "\n",
    "# verbose_feature_names_out=True make_column_transform function, so that it is clear which conversion function\n",
    "# does which feature, \"onehotencoder<__>\" prefix at the beginning of onehotencoder conversions,\n",
    "# ordinalencoder conversions. It is prefixed with \"ordinalencoder<__>\", and those with remainder operations\n",
    "# are prefixed with \"remainder__\". If you want to remove these prefixes, we need to set verbose_feature<_>names_out=False."
   ]
  },
  {
   "cell_type": "code",
   "execution_count": null,
   "metadata": {
    "id": "rV8jsl1SRC1z",
    "outputId": "a6eaf27c-2096-428f-ab4d-664a90de6f9f"
   },
   "outputs": [],
   "source": [
    "X_train.head()"
   ]
  },
  {
   "cell_type": "code",
   "execution_count": null,
   "metadata": {
    "id": "27B8bO_1RC1z",
    "outputId": "b1293c52-b141-4b23-be2d-098a81847aa7"
   },
   "outputs": [],
   "source": [
    "X_test.head()"
   ]
  },
  {
   "cell_type": "code",
   "execution_count": null,
   "metadata": {
    "id": "wwXOB-zfRC1z",
    "outputId": "f1450a5c-9a50-4052-bede-17ea05e4d7c4"
   },
   "outputs": [],
   "source": [
    "X_train.shape, X_test.shape"
   ]
  },
  {
   "cell_type": "code",
   "execution_count": null,
   "metadata": {
    "id": "KbdbXWvqRC10",
    "outputId": "4b6a4753-d244-4e14-e5bc-3d6fb2bd4892"
   },
   "outputs": [],
   "source": [
    "column_trans.fit_transform(X_train).head()"
   ]
  },
  {
   "cell_type": "code",
   "execution_count": null,
   "metadata": {
    "id": "vYJdPXSdRC10"
   },
   "outputs": [],
   "source": [
    "X_train_trans = column_trans.fit_transform(X_train)\n",
    "X_test_trans = column_trans.transform(X_test)"
   ]
  },
  {
   "cell_type": "code",
   "execution_count": null,
   "metadata": {
    "id": "7Z-coUjKRC10",
    "outputId": "ada5d2d0-23e8-4a20-a4ed-4af30500bcaf"
   },
   "outputs": [],
   "source": [
    "X_train_trans.shape, X_test_trans.shape # 24 features --> 110 features"
   ]
  },
  {
   "cell_type": "code",
   "execution_count": null,
   "metadata": {
    "id": "Id59FZH6RC10",
    "outputId": "495a2a44-b3aa-4620-a06a-41a3b0c8cefb"
   },
   "outputs": [],
   "source": [
    "X_train_trans.head()"
   ]
  },
  {
   "cell_type": "code",
   "execution_count": null,
   "metadata": {
    "id": "4Ycpx_c9cTnt",
    "outputId": "a2027daa-2eb7-4c60-e4a6-51769bbee19e"
   },
   "outputs": [],
   "source": [
    "X_test_trans.head()"
   ]
  },
  {
   "cell_type": "code",
   "execution_count": null,
   "metadata": {
    "id": "Lemyh1_McTnt",
    "outputId": "7a4dac2e-8cc9-4f0c-d21a-4f1ec2bc3e73",
    "scrolled": true
   },
   "outputs": [],
   "source": [
    "X_train_trans.join(y_train).corr()"
   ]
  },
  {
   "cell_type": "code",
   "execution_count": null,
   "metadata": {
    "id": "agQ1or3XcTnt",
    "outputId": "aae0010e-d902-4f4b-c959-2245e2b82bec"
   },
   "outputs": [],
   "source": [
    "import plotly.express as px\n",
    "\n",
    "corr = X_train_trans.join(y_train).corr()\n",
    "fig = px.imshow(corr,width=1000, height=1000)\n",
    "fig.show()"
   ]
  },
  {
   "cell_type": "code",
   "execution_count": null,
   "metadata": {
    "id": "NrXJb_8oRC11",
    "outputId": "963a87be-e2cf-4417-a6b9-3cd891cbd4ec"
   },
   "outputs": [],
   "source": [
    "plt.figure(figsize=(20,15))\n",
    "sns.heatmap(X_train_trans.join(y_train).corr(), vmin=-1, vmax=1, cmap=\"coolwarm\");"
   ]
  },
  {
   "cell_type": "markdown",
   "metadata": {
    "id": "Ozsqg0xyRC11"
   },
   "source": [
    "### Scaling"
   ]
  },
  {
   "cell_type": "code",
   "execution_count": null,
   "metadata": {
    "id": "2XBpa6nqRC11"
   },
   "outputs": [],
   "source": [
    "scaler = MinMaxScaler().set_output(transform=\"pandas\")\n",
    "scaler.fit(X_train_trans)\n",
    "\n",
    "X_train_scaled = scaler.transform(X_train_trans)\n",
    "X_test_scaled = scaler.transform(X_test_trans)"
   ]
  },
  {
   "cell_type": "code",
   "execution_count": null,
   "metadata": {
    "id": "l-g1nTE6cTnu",
    "outputId": "a592bb5d-d0c4-4f75-87e4-907063d9a0ac"
   },
   "outputs": [],
   "source": [
    "X_train_scaled.head()"
   ]
  },
  {
   "cell_type": "code",
   "execution_count": null,
   "metadata": {
    "id": "cSwpKD-mcTnu",
    "outputId": "c918ea06-26eb-41bf-9a36-8bed667bde3e"
   },
   "outputs": [],
   "source": [
    "X_test_scaled.head()"
   ]
  },
  {
   "cell_type": "markdown",
   "metadata": {
    "id": "An_5ITcAmqZO"
   },
   "source": [
    "## Implement Linear Regression"
   ]
  },
  {
   "cell_type": "markdown",
   "metadata": {
    "id": "0c0y-w8vmqZO"
   },
   "source": [
    " - Import the modul\n",
    " - Fit the model\n",
    " - Predict the test set\n",
    " - Determine feature coefficiant\n",
    " - Evaluate model performance (use performance metrics for regression and cross_val_score)\n",
    " - Compare different evaluation metrics\n",
    "\n",
    "*Note: You can use the [dir()](https://www.geeksforgeeks.org/python-dir-function/) function to see the methods you need.*"
   ]
  },
  {
   "cell_type": "code",
   "execution_count": null,
   "metadata": {
    "id": "lq6UKn_HmqZO"
   },
   "outputs": [],
   "source": [
    "def train_val(model, X_train, y_train, X_test, y_test):\n",
    "\n",
    "    y_pred = model.predict(X_test)\n",
    "    y_train_pred = model.predict(X_train)\n",
    "\n",
    "    scores = {\"train\": {\"R2\" : r2_score(y_train, y_train_pred),\n",
    "                        \"mae\" : mean_absolute_error(y_train, y_train_pred),\n",
    "                        \"mse\" : mean_squared_error(y_train, y_train_pred),\n",
    "                        \"rmse\" : mean_squared_error(y_train, y_train_pred, squared=False)},\n",
    "              \"test\": {\"R2\" : r2_score(y_test, y_pred),\n",
    "                       \"mae\" : mean_absolute_error(y_test, y_pred),\n",
    "                       \"mse\" : mean_squared_error(y_test, y_pred),\n",
    "                       \"rmse\" : mean_squared_error(y_test, y_pred, squared=False)}}\n",
    "\n",
    "    return pd.DataFrame(scores)"
   ]
  },
  {
   "cell_type": "code",
   "execution_count": null,
   "metadata": {
    "id": "LTRp4dwYRC12",
    "outputId": "f4213d31-ebc3-48a5-ffa1-9b20ab59045e"
   },
   "outputs": [],
   "source": [
    "from sklearn.linear_model import LinearRegression\n",
    "lm = LinearRegression()\n",
    "lm.fit(X_train_scaled, y_train)"
   ]
  },
  {
   "cell_type": "code",
   "execution_count": null,
   "metadata": {
    "id": "ahzdtQLFcTnv",
    "outputId": "9f62e078-4e16-460a-ec5a-3059f6c0334a"
   },
   "outputs": [],
   "source": [
    "train_val(lm, X_train_scaled, y_train, X_test_scaled, y_test)"
   ]
  },
  {
   "cell_type": "markdown",
   "metadata": {
    "id": "BuNT6LwKRC12"
   },
   "source": [
    "### Adjusted R2 Score"
   ]
  },
  {
   "cell_type": "code",
   "execution_count": null,
   "metadata": {
    "id": "aUyZMvj2gYPe",
    "lang": "en"
   },
   "outputs": [],
   "source": [
    "def adj_r2(y_test, y_pred, X):\n",
    "    r2 = r2_score(y_test, y_pred)\n",
    "    n = X.shape[0] # number of observations\n",
    "    p = X.shape[1] # number of independent variables\n",
    "    adj_r2 = 1 - (1-r2)*(n-1)/(n-p-1)\n",
    "    return adj_r2\n",
    "\n",
    "# If there are too many features in our data, but not enough rows, which makes a false improvement in our model's R2_score.\n",
    "# Especially in such data or if too many new features (such as dummies feature) have been added to our data.\n",
    "# We need to detect the real R2_score with adjusted R2_score.\n",
    "\n",
    "# Adjusted R2_score Checks the trade off between the number of rows and the feature,\n",
    "# and returns us a score. If there is a large imbalance between the numbers,\n",
    "# there will be serious decreases in the adjusted_R2_score.\n",
    "\n",
    "# We define the above function for Adjusted R2 Score."
   ]
  },
  {
   "cell_type": "code",
   "execution_count": null,
   "metadata": {
    "id": "W7v6tcZsRC13"
   },
   "outputs": [],
   "source": [
    "y_pred = lm.predict(X_test_scaled)\n",
    "\n",
    "# yukarda tanımladığımız fonksiyon içerisinde kullanmak için modelden predictionlarımızı (y_pred) alıyoruz."
   ]
  },
  {
   "cell_type": "code",
   "execution_count": null,
   "metadata": {
    "id": "hx4_3gg5RC13",
    "outputId": "2927a38a-6c03-4cc6-81f6-80af42f11c41"
   },
   "outputs": [],
   "source": [
    "adj_r2(y_test, y_pred, X_test_scaled)\n",
    "\n",
    "# gerekli parametreleri fonksiyona vererek skorumuzu elde ediyoruz."
   ]
  },
  {
   "cell_type": "markdown",
   "metadata": {
    "id": "HHNv2q0sRC13"
   },
   "source": [
    "### Cross Validate"
   ]
  },
  {
   "cell_type": "code",
   "execution_count": null,
   "metadata": {
    "id": "zHPe_QUCgYPf",
    "lang": "en"
   },
   "outputs": [],
   "source": [
    "model = LinearRegression()\n",
    "\n",
    "scores = cross_validate(model,\n",
    "                        X_train_scaled,\n",
    "                        y_train,\n",
    "                        scoring=['r2',\n",
    "                                'neg_mean_absolute_error',\n",
    "                                'neg_mean_squared_error',\n",
    "                                'neg_root_mean_squared_error'],\n",
    "                        cv = 10,\n",
    "                        return_train_score=True)\n",
    "\n",
    "# As we learned in our previous lessons, we perform the overfiting control by comparing the train and\n",
    "# validation scores we receive through cross validaition."
   ]
  },
  {
   "cell_type": "code",
   "execution_count": null,
   "metadata": {
    "id": "VSBX0Y5ZcTnx",
    "outputId": "96869d56-a832-40e8-90de-a11da33c13db"
   },
   "outputs": [],
   "source": [
    "pd.DataFrame(scores)"
   ]
  },
  {
   "cell_type": "code",
   "execution_count": null,
   "metadata": {
    "id": "v9ykihorgYPf",
    "lang": "en",
    "outputId": "9643b444-19ee-4c59-e262-7482e5089caf"
   },
   "outputs": [],
   "source": [
    "pd.DataFrame(scores).iloc[:, 2:].mean()\n",
    "\n",
    "# We see that the scores between the train and validaiton set and the train set are close to each other.\n",
    "# There is no overfitting."
   ]
  },
  {
   "cell_type": "code",
   "execution_count": null,
   "metadata": {
    "id": "fN-FcDvxRC13",
    "lang": "tr",
    "outputId": "49b87d27-6d6a-40a1-8753-8e42c09b03da"
   },
   "outputs": [],
   "source": [
    "train_val(lm, X_train_scaled, y_train, X_test_scaled, y_test)"
   ]
  },
  {
   "cell_type": "code",
   "execution_count": null,
   "metadata": {
    "id": "Cm8zpct4gYPg",
    "lang": "en",
    "outputId": "096d7ac3-31dd-448b-c753-4209acdeb3c3"
   },
   "outputs": [],
   "source": [
    "4954/df.price.mean()\n",
    "\n",
    "# According to the rmse score we get from the test set (hold out set) score we will give to the customer,\n",
    "# our model makes an average of 24.7% error."
   ]
  },
  {
   "cell_type": "markdown",
   "metadata": {
    "id": "_hIfGO0TRC14"
   },
   "source": [
    "### Prediction Error with Outliers"
   ]
  },
  {
   "cell_type": "code",
   "execution_count": null,
   "metadata": {
    "id": "uw74eq8JgYPg",
    "lang": "en",
    "outputId": "4f654391-a413-4608-f661-f3477f9efac5"
   },
   "outputs": [],
   "source": [
    "from yellowbrick.regressor import PredictionError\n",
    "from yellowbrick.features import RadViz\n",
    "\n",
    "visualizer = RadViz(size=(500, 1000))\n",
    "model = LinearRegression()\n",
    "visualizer = PredictionError(model)\n",
    "visualizer.fit(X_train_scaled, y_train) # Fit the training data to the visualizer\n",
    "visualizer.score(X_test_scaled, y_test) # Evaluate the model on the test data\n",
    "visualizer.show();\n",
    "\n",
    "# From prediciton error chart, we can see how good our model's predictions are. When we look at the image below,\n",
    "# we can see that cars with prices of 70 thousand EURO and above are pulling our best fit line down.\n",
    "# If I drop the very low-priced cars that I see from the data that break my scores,\n",
    "# the cars with 70 thousand EURO and above, or the outlier-priced cars that I have determined on\n",
    "# the basis of models from my data and retrain the model from this data, I can get better scores.\n",
    "\n",
    "# We will continue to drop cars with very low prices and cars over 70.000 EURO in this notebook."
   ]
  },
  {
   "cell_type": "code",
   "execution_count": null,
   "metadata": {
    "id": "Kr1-XLxsgYPg",
    "lang": "en",
    "outputId": "09c20696-6734-41a5-91f3-20978e93a3e0"
   },
   "outputs": [],
   "source": [
    "y_pred=lm.predict(X_test_scaled)\n",
    "\n",
    "\n",
    "plt.figure(figsize=(10,7))\n",
    "plt.subplot(211)\n",
    "\n",
    "sns.scatterplot(x = y_test, y = y_pred) #-residuals\n",
    "plt.axhline(y = 0, color =\"r\", linestyle = \"--\")\n",
    "plt.ylabel(\"y_pred\")\n",
    "plt.xlim([0,20000])\n",
    "plt.ylim([-10000,20000])\n",
    "\n",
    "plt.subplot(212)\n",
    "\n",
    "sns.scatterplot(x = y_test, y = y_pred) #-residuals\n",
    "plt.axhline(y = 0, color =\"r\", linestyle = \"--\")\n",
    "plt.ylabel(\"y_pred\")\n",
    "plt.xlim([70000, 150000])\n",
    "plt.ylim([0,80000])\n",
    "plt.show();\n",
    "\n",
    "# We see that our model does not learn well about the car prices of 7500 EURO and below and over 70 thousand EURO.\n",
    "# The question that immediately comes to our mind should be: What is the distribution of car prices below 7500 EURO\n",
    "# and above 70 thousand EURO in the residual plot? We will look at the residual plot below and see\n",
    "# if linear regression is a good choice for the determination of the car prices we mentioned."
   ]
  },
  {
   "cell_type": "markdown",
   "metadata": {
    "id": "b_0tRcmKRC14"
   },
   "source": [
    "### Residual Plot with Outliers"
   ]
  },
  {
   "cell_type": "code",
   "execution_count": null,
   "metadata": {
    "id": "V91L7nG_gYPh",
    "lang": "en",
    "outputId": "ba333aa0-7db3-409c-9da9-88cbc2f0c988"
   },
   "outputs": [],
   "source": [
    "from yellowbrick.regressor import ResidualsPlot\n",
    "\n",
    "visualizer = RadViz(size=(1000, 500))\n",
    "model = LinearRegression()\n",
    "visualizer = ResidualsPlot(model)\n",
    "\n",
    "visualizer.fit(X_train_scaled, y_train) # Fit the training data to the visualizer\n",
    "visualizer.score(X_test_scaled, y_test) # Evaluate the model on the test data\n",
    "visualizer.show();\n",
    "\n",
    "# The data from the residual plot clearly shows that linear regression is not suitable for cheap and high priced cars."
   ]
  },
  {
   "cell_type": "code",
   "execution_count": null,
   "metadata": {
    "id": "JVx2-KM7cTn3",
    "lang": "tr",
    "outputId": "e7df45d7-2b74-46b9-8dce-0bbeec45587c"
   },
   "outputs": [],
   "source": [
    "y_pred=lm.predict(X_test_scaled)\n",
    "y_pred_train = lm.predict(X_train_scaled)\n",
    "\n",
    "residual_test = y_test-y_pred\n",
    "residual_train = y_train-y_pred_train\n",
    "\n",
    "plt.figure(figsize=(20,7))\n",
    "plt.subplot(121)\n",
    "\n",
    "sns.scatterplot(x = y_pred, y = residual_test, palette=\"deep\", size=2, alpha=0.6)\n",
    "sns.scatterplot(x = y_pred_train, y = residual_train, size=2, alpha=0.4)\n",
    "\n",
    "plt.axhline(y = 0, color =\"r\", linestyle = \"--\")\n",
    "plt.ylabel(\"residuals\")\n",
    "plt.xlabel(\"y_pred\")\n",
    "\n",
    "plt.subplot(122)\n",
    "\n",
    "sns.scatterplot(x = y_pred, y = residual_test, palette=\"deep\", size=2, alpha=0.6)\n",
    "sns.scatterplot(x = y_pred_train, y = residual_train, size=2, alpha=0.4)\n",
    "\n",
    "plt.axhline(y = 0, color =\"r\", linestyle = \"--\")\n",
    "plt.ylabel(\"residuals\")\n",
    "plt.xlabel(\"y_pred\")\n",
    "plt.xlim([-10000,15000])\n",
    "plt.ylim([-10000,20000])\n",
    "plt.show();\n",
    "\n",
    "# When we look at the residuals plot, we can see that the problem is that low-priced cars and high-priced cars\n",
    "# that do not have a balanced distribution around the 0 axis disrupt the distribution in the residual plot.\n",
    "\n",
    "# For this, we will drop the cars below 7500 EURO and above 70 thousand EURO,\n",
    "# which the model made bad predictions above, from our data.\n",
    "# Then we will observe our scores again."
   ]
  },
  {
   "cell_type": "markdown",
   "metadata": {
    "id": "psnUIVG-cTn3"
   },
   "source": [
    "## Filtering Data and Rebuilding The Model"
   ]
  },
  {
   "cell_type": "code",
   "execution_count": null,
   "metadata": {
    "id": "Hqw04uIhcTn4",
    "outputId": "951a59ff-4e6d-438d-97d2-0d0f2ad3330c"
   },
   "outputs": [],
   "source": [
    "df = df[(df.price > 7500)&(df.price <70000)]\n",
    "df"
   ]
  },
  {
   "cell_type": "code",
   "execution_count": null,
   "metadata": {
    "id": "_1xlvvmkgYPi",
    "lang": "en"
   },
   "outputs": [],
   "source": [
    "X = df.drop(columns = \"price\")\n",
    "y = df.price\n",
    "\n",
    "X_train, X_test, y_train, y_test = train_test_split(X, y, test_size=0.2, random_state=42)\n",
    "\n",
    "# After dropping outlier observations, we divide the remaining data into X and y and divide it into train and test sets."
   ]
  },
  {
   "cell_type": "code",
   "execution_count": null,
   "metadata": {
    "id": "ySvqfod4RC15"
   },
   "outputs": [],
   "source": [
    "X_train= column_trans.fit_transform(X_train)\n",
    "X_test= column_trans.transform(X_test)"
   ]
  },
  {
   "cell_type": "code",
   "execution_count": null,
   "metadata": {
    "id": "c27xps5TcTn5",
    "outputId": "c2b41fb3-cbff-496a-e5b6-f7a4aa34c069"
   },
   "outputs": [],
   "source": [
    "X_train.head()"
   ]
  },
  {
   "cell_type": "code",
   "execution_count": null,
   "metadata": {
    "id": "MxvBxNBwcTn5",
    "outputId": "68fd4ce2-4941-4fdc-c49c-90776d3242b0"
   },
   "outputs": [],
   "source": [
    "X_test.head()"
   ]
  },
  {
   "cell_type": "code",
   "execution_count": null,
   "metadata": {
    "id": "D9OPwA78RC15"
   },
   "outputs": [],
   "source": [
    "X_train_scaled = scaler.fit_transform(X_train)\n",
    "X_test_scaled = scaler.transform(X_test)"
   ]
  },
  {
   "cell_type": "code",
   "execution_count": null,
   "metadata": {
    "id": "cZaNdk08RC15",
    "outputId": "70737684-2a7d-4a62-9a69-af265b70ec56"
   },
   "outputs": [],
   "source": [
    "lm2 = LinearRegression()\n",
    "lm2.fit(X_train_scaled, y_train)"
   ]
  },
  {
   "cell_type": "code",
   "execution_count": null,
   "metadata": {
    "id": "_1QR2VU4cTn6",
    "outputId": "9124b62b-fc70-42b6-c638-f4224f88b38e"
   },
   "outputs": [],
   "source": [
    "train_val(lm2, X_train_scaled, y_train, X_test_scaled, y_test)"
   ]
  },
  {
   "cell_type": "raw",
   "metadata": {
    "id": "jvOAUJjncTn6"
   },
   "source": [
    "\n",
    "      train\t        test\n",
    "R2\t  0.831\t        0.830\n",
    "mae\t  2852.155\t    2818.584\n",
    "mse\t  27101228.460\t24590854.639\n",
    "rmse  5205.884\t    4958.917"
   ]
  },
  {
   "cell_type": "code",
   "execution_count": null,
   "metadata": {
    "id": "etBzXO2ogYPj",
    "lang": "en",
    "outputId": "3e86af58-b112-45cc-c5e1-dc6c24565306"
   },
   "outputs": [],
   "source": [
    "3667/df.price.mean()\n",
    "\n",
    "# While models made an average of 24.7% errors, this rate decreased to 17.2% after outlies were dropped."
   ]
  },
  {
   "cell_type": "markdown",
   "metadata": {
    "id": "e3va_G83RC15"
   },
   "source": [
    "### Prediction Error without Outliers"
   ]
  },
  {
   "cell_type": "code",
   "execution_count": null,
   "metadata": {
    "id": "IlZojKyIgYPk",
    "lang": "en",
    "outputId": "dbc3da77-81b4-4e2b-a2f3-a022faa1e69a"
   },
   "outputs": [],
   "source": [
    "visualizer = RadViz(size=(500, 1000))\n",
    "model = LinearRegression()\n",
    "visualizer = PredictionError(model)\n",
    "visualizer.fit(X_train_scaled, y_train) # Fit the training data to the visualizer\n",
    "visualizer.score(X_test_scaled, y_test) # Evaluate the model on the test data\n",
    "visualizer.show();\n",
    "\n",
    "# After removing the outlier values, we see that the angle between the best fit line and\n",
    "# the identity line narrows even more."
   ]
  },
  {
   "cell_type": "markdown",
   "metadata": {
    "id": "mec2FURWRC16"
   },
   "source": [
    "### Residual Plot without Outliers"
   ]
  },
  {
   "cell_type": "code",
   "execution_count": null,
   "metadata": {
    "id": "Ma1pFS7JgYPm",
    "lang": "tr",
    "outputId": "d1a08af0-8111-4848-a535-3fb43b89b5db"
   },
   "outputs": [],
   "source": [
    "from yellowbrick.regressor import ResidualsPlot\n",
    "\n",
    "visualizer = RadViz(size=(1000, 500))\n",
    "model = LinearRegression()\n",
    "visualizer = ResidualsPlot(model)\n",
    "\n",
    "visualizer.fit(X_train_scaled, y_train) # Fit the training data to the visualizer\n",
    "visualizer.score(X_test_scaled, y_test) # Evaluate the model on the test data\n",
    "visualizer.show();\n",
    "\n",
    "# for cars priced at or around 7500 EURO, although our scores have improved\n",
    "# still not suitable for linear regression."
   ]
  },
  {
   "cell_type": "code",
   "execution_count": null,
   "metadata": {
    "id": "YVQZlhdlgYPn",
    "lang": "en"
   },
   "outputs": [],
   "source": [
    "model = LinearRegression()\n",
    "scores = cross_validate(model,\n",
    "                        X_train_scaled,\n",
    "                        y_train,\n",
    "                        scoring=['r2',\n",
    "                                 'neg_mean_absolute_error',\n",
    "                                 'neg_mean_squared_error',\n",
    "                                 'neg_root_mean_squared_error'],\n",
    "                        cv=10,\n",
    "                        return_train_score=True)\n",
    "\n",
    "# We are checking overfitting according to our new data."
   ]
  },
  {
   "cell_type": "code",
   "execution_count": null,
   "metadata": {
    "id": "uLXjAadURC17",
    "outputId": "282d1821-5dcd-4bda-8279-9e4e84f3d10c"
   },
   "outputs": [],
   "source": [
    "scores = pd.DataFrame(scores, index = range(1, 11))\n",
    "scores.iloc[:,2:].mean()\n",
    "\n",
    "# Since train and test scores are close, we can say there is no overfitting."
   ]
  },
  {
   "cell_type": "code",
   "execution_count": null,
   "metadata": {
    "id": "aFzTFcpXgYPn",
    "lang": "en",
    "outputId": "c7ac2a45-a29a-4950-93c9-bb3288df761b"
   },
   "outputs": [],
   "source": [
    "train_val(lm2, X_train_scaled, y_train, X_test_scaled, y_test)\n",
    "\n",
    "# Since the test scores we will present to the customer and the validation scores we get from the CV are close\n",
    "# to each other, we can say that the scores we get from the test (hold out) set are consistent scores."
   ]
  },
  {
   "cell_type": "code",
   "execution_count": null,
   "metadata": {
    "id": "NtxI2zKygYPn",
    "lang": "en"
   },
   "outputs": [],
   "source": [
    "y_pred = lm2.predict(X_test_scaled)\n",
    "\n",
    "lm_R2 = r2_score(y_test, y_pred)\n",
    "lm_mae = mean_absolute_error(y_test, y_pred)\n",
    "lm_rmse = mean_squared_error(y_test, y_pred, squared=False)\n",
    "\n",
    "# We assign the scores to the variables to compare the scores we get from the linear model."
   ]
  },
  {
   "cell_type": "code",
   "execution_count": null,
   "metadata": {
    "id": "WFPMtNMigYPo",
    "lang": "en",
    "outputId": "b58b0bc3-7f9e-4a37-a622-7301b01e2342"
   },
   "outputs": [],
   "source": [
    "pd.DataFrame(lm2.coef_, index = X_train.columns, columns=[\"Coef\"])\n",
    " # The coefficients of the features with onehot encoder applied are very high. Dummy variable trap\n",
    "\n",
    "# https://geoffruddock.com/one-hot-encoding-plus-linear-regression-equals-multi-collinearity/\n",
    "\n",
    "# Dummy variable trap is a problem that occurs when the independent variables used in regression analysis are related\n",
    "# to each other. This can occur as a result of deriving or extracting one argument from other arguments.\n",
    "\n",
    "# Especially in multiple linear regression models, it is thought that all independent variables should be\n",
    "# included in the model.\n",
    "# However, when there is an exact relationship between some independent variables\n",
    "# (that is, if a variable can be derived from the sum of other variables),\n",
    "# problems may arise with the accuracy of the model. This may also be reflected in the significantly\n",
    "# higher correlations in the correlation matrix of the independent variables.\n",
    "\n",
    "# Dummy variable trap may occur, especially when adding categorical variables to models.\n",
    "# Categorical variables, such as \"gender\" or \"country\", are often converted to dummy variables\n",
    "# when added to the model. This means, for example, creating two different dummy variables\n",
    "# \"male\" and \"female\" for the \"gender\" variable. However, in this case, the addition of both variables\n",
    "# to the model may cause problems as they are variables that can be derived from each other.\n",
    "# This occurs when a dummy variable can be derived from the sum of other dummy variables.\n",
    "\n",
    "# In order to reduce the effect of the dummy variable trap, when transforming the unique categorical observations\n",
    "# under each featura into dummies features, it can be eliminated by dropping 1 of these observations or\n",
    "# applying regularization.\n",
    "\n",
    "# The drop=\"first\" parameter in the code OneHotEncoder(handle_unknown=\"ignore\", sparse=False, drop=\"first\"), cat_onehot)\n",
    "# drops 1 unique categorical observation in each featur and is among the new dummies features.\n",
    "# weakens the relationship. but drop=\"first\" is not used when feature importance is to be made.\n",
    "# Regularization is preferred."
   ]
  },
  {
   "cell_type": "markdown",
   "metadata": {
    "id": "VK8ufBuyRC17"
   },
   "source": [
    "## Pipeline"
   ]
  },
  {
   "cell_type": "code",
   "execution_count": null,
   "metadata": {
    "id": "7_6BAIrGgYPo",
    "lang": "en"
   },
   "outputs": [],
   "source": [
    "X = df.drop(columns = [\"price\"])\n",
    "y = df.price\n",
    "\n",
    "X_train, X_test, y_train, y_test = train_test_split(X, y, test_size=0.2, random_state=42)\n",
    "\n",
    "# After dropping outlier observations, we divide the remaining data into X and y and divide it into train and test sets."
   ]
  },
  {
   "cell_type": "code",
   "execution_count": null,
   "metadata": {
    "id": "U8ijx2GARC18",
    "outputId": "c42ae8ef-e3a6-4d1a-aec2-9249bb41fad9"
   },
   "outputs": [],
   "source": [
    "X_train.head()"
   ]
  },
  {
   "cell_type": "raw",
   "metadata": {
    "id": "e2WPc8VqRC18"
   },
   "source": [
    "What happens can be described as follows:\n",
    "\n",
    "The data are split into TRAINING data and TEST data according to ratio of train_test_split\n",
    "\n",
    "fit process:\n",
    "Step 1: the onehotencoder is fitted on the categoric features in cat_onehot list for TRAINING data\n",
    "Step 2: the onehotencoder transforms the categoric features in cat_onehot list for TRAINING data\n",
    "step 3: the ordinalencoder is fitted on the categoric features in cat_ordinal list for TRAINING data\n",
    "Step 4: the ordinalencoder transforms the categoric features in cat_ordinal list for TRAINING data\n",
    "step 5: the numeric features of TRAINING data are left as they are\n",
    "Step 6: the minmaxscaler is fitted on all features of transformed TRAINING data\n",
    "Step 7: the minmaxscaler transforms all features of transformed TRAINING data\n",
    "Step 8: the models are fitted/trained using the scaled and transformed TRAINING data\n",
    "\n",
    "predict process:\n",
    "Step 1: the onehotencoder transforms the categoric features in cat_onehot list of TEST data according to TRAINING data\n",
    "Step 2: the ordinalencoder transforms the categoric features in cat_ordinal list of TEST data according to TRAINING data\n",
    "step 3: the numeric features of TRAINING data are left as they are\n",
    "Step 4: the minmaxscaler transforms all features of TEST data according to TRAINING data\n",
    "Step 5: the trained models predict using the scaled and transformed TEST data\n",
    "\n",
    "\n",
    "pipe_model.fit(X_train, y_train) --> columns_trans.fit_transform(X_train) --> Lasso.fit(X_train_trans, y_train)\n",
    "pipe_model.predict(X_test)       --> columns_trans.transform(X_test)      --> Lasso.predict(X_test_trans)"
   ]
  },
  {
   "cell_type": "code",
   "execution_count": null,
   "metadata": {
    "id": "FqnK9g-CRC18"
   },
   "outputs": [],
   "source": [
    "cat_onehot = ['make_model', 'body_type', 'warranty', 'gearbox', 'fuel_type', 'seller', 'drivetrain', 'full_service_history',\n",
    "              'upholstery', 'energy_efficiency_class']\n",
    "cat_ordinal = ['type', 'comfort_&_convenience_Package', 'entertainment_&_media_Package', 'safety_&_security_Package']\n",
    "\n",
    "cat_for_type = [\"Used\", \"Employee's car\", \"Demonstration\", \"Pre-registered\"]\n",
    "cat_for_comfort = ['Standard', 'Premium', 'Premium Plus']\n",
    "cat_for_ent = ['Standard', 'Plus']\n",
    "cat_for_safety = ['Safety Standard Package', 'Safety Premium Package', 'Safety Premium Plus Package']"
   ]
  },
  {
   "cell_type": "code",
   "execution_count": null,
   "metadata": {
    "id": "xbw85h14RC18"
   },
   "outputs": [],
   "source": [
    "from sklearn.compose import make_column_transformer\n",
    "from sklearn.preprocessing import OneHotEncoder, OrdinalEncoder\n",
    "\n",
    "enc_onehot = OneHotEncoder(handle_unknown=\"ignore\", sparse=False)\n",
    "enc_ordinal = OrdinalEncoder(categories= [cat_for_type, cat_for_comfort, cat_for_ent, cat_for_safety])\n",
    "\n",
    "column_trans = make_column_transformer((enc_onehot, cat_onehot),\n",
    "                                       (enc_ordinal, cat_ordinal),\n",
    "                                        remainder='passthrough',\n",
    "                                        verbose_feature_names_out=False) # MinMaxScaler()"
   ]
  },
  {
   "cell_type": "code",
   "execution_count": null,
   "metadata": {
    "id": "o1YLzlnzgYPq",
    "lang": "en",
    "outputId": "7799bac5-f076-42b9-cdfc-a418c161d852"
   },
   "outputs": [],
   "source": [
    "from sklearn.linear_model import Ridge\n",
    "from sklearn.pipeline import Pipeline\n",
    "\n",
    "operations = [(\"OneHot_Ordinal_Encoder\", column_trans), (\"scaler\", MinMaxScaler()), (\"Ridge\", Ridge())]\n",
    "\n",
    "ridge_pipe = Pipeline(steps=operations).set_output(transform=\"pandas\")\n",
    "# If we want the outputs of the given transform algorithms to be dataframes,\n",
    "# you can add set_output(transform=\"pandas\") to the end of the pipeline.\n",
    "\n",
    "ridge_pipe.fit(X_train, y_train)\n",
    "\n",
    "# What does pipe_model.fit(X,y) do here, respectively?\n",
    "# The first operation in the pipe_model is column_trans;\n",
    "# 1. Onehotencoder conversion is done to featurs (cat_onehot) in X data that will apply onehotencoder conversion.\n",
    "# 2. Ordinalencoder conversion is done to featurs (cat_ordinal) in X data to\n",
    "# which ordinalencoder conversion will be applied.\n",
    "# 3. Except for the converted featurs, no action is taken on the remaining featurs, they are left as is.\n",
    "# Since the second action in the pipe_model is MinMaxScaler();\n",
    "# 4. After the transformation, minmax scale is applied to the new numeric X we get.\n",
    "# Dummies featurs consisting of 0s and 1s in our data\n",
    "# Since, minmaxscale was applied so that these observations remain 0 and 1 again.\n",
    "# The third action in pipe_model is Lasso();\n",
    "# 5. Transformed and scaled X together with y Lasso are given to the model and the training is completed."
   ]
  },
  {
   "cell_type": "markdown",
   "metadata": {
    "id": "n2ROwYsymqZO"
   },
   "source": [
    "## Implement Ridge Regression"
   ]
  },
  {
   "cell_type": "markdown",
   "metadata": {
    "id": "3RvdF8CRmqZO"
   },
   "source": [
    "- Import the modul\n",
    "- Do not forget to scale the data or use Normalize parameter as True\n",
    "- Fit the model\n",
    "- Predict the test set\n",
    "- Evaluate model performance (use performance metrics for regression)\n",
    "- Tune alpha hiperparameter by using [cross validation](https://scikit-learn.org/stable/modules/generated/sklearn.linear_model.RidgeCV.html) and determine the optimal alpha value.\n",
    "- Fit the model and predict again with the new alpha value."
   ]
  },
  {
   "cell_type": "markdown",
   "metadata": {
    "id": "XAqkOe6qRC19"
   },
   "source": [
    "## Ridge"
   ]
  },
  {
   "cell_type": "code",
   "execution_count": null,
   "metadata": {
    "id": "EWghT2IXRC1-"
   },
   "outputs": [],
   "source": [
    "from sklearn.linear_model import Ridge"
   ]
  },
  {
   "cell_type": "code",
   "execution_count": null,
   "metadata": {
    "id": "dt1_tUE1RC1-",
    "outputId": "1d472b88-893b-4e20-b44f-a45f6f70e04a"
   },
   "outputs": [],
   "source": [
    "operations = [(\"OneHot_Ordinal_Encoder\", column_trans), (\"scaler\", MinMaxScaler()), (\"Ridge\", Ridge())]\n",
    "\n",
    "ridge_model = Pipeline(steps=operations)\n",
    "ridge_model.fit(X_train, y_train)"
   ]
  },
  {
   "cell_type": "code",
   "execution_count": null,
   "metadata": {
    "id": "ZhFDsDTDRC1-",
    "outputId": "9f736d6c-515e-4d56-ead9-38dc03d0823a"
   },
   "outputs": [],
   "source": [
    "train_val(ridge_model, X_train, y_train, X_test, y_test)"
   ]
  },
  {
   "cell_type": "code",
   "execution_count": null,
   "metadata": {
    "id": "hqKTLC9icToE",
    "outputId": "4e1b262f-f4b4-458f-8aae-4242c0a41184"
   },
   "outputs": [],
   "source": [
    "3667/df.price.mean()"
   ]
  },
  {
   "cell_type": "markdown",
   "metadata": {
    "id": "7rj3M4x-RC1-"
   },
   "source": [
    "## Cross Validation"
   ]
  },
  {
   "cell_type": "code",
   "execution_count": null,
   "metadata": {
    "id": "XYcWstDcgYPs",
    "lang": "en"
   },
   "outputs": [],
   "source": [
    "operations = [(\"OneHot_Ordinal_Encoder\", column_trans),\n",
    "              (\"scaler\", MinMaxScaler()),\n",
    "              (\"Ridge\", Ridge())]\n",
    "\n",
    "pipe_model = Pipeline(steps=operations)\n",
    "\n",
    "scores = cross_validate(pipe_model,\n",
    "                        X_train,\n",
    "                        y_train,\n",
    "                        scoring=['r2',\n",
    "                                 'neg_mean_absolute_error',\n",
    "                                 'neg_mean_squared_error',\n",
    "                                 'neg_root_mean_squared_error'],\n",
    "                        cv=10,\n",
    "                        return_train_score=True)\n",
    "\n",
    "# Very important note: If you are doing a conversion to your data, make sure to use the pipeline in the CV process,\n",
    "# otherwise the data leakage problem may occur.\n",
    "\n",
    "# Since the use of a data that has been transformed into a CV will also cause data leakage,\n",
    "# the original version of the data will be given to the CV, and the new train and new test sets in\n",
    "# each iteration will be converted into numeric form in accordance with the pipeline steps and\n",
    "# their scores will be taken in the CV.\n",
    "\n",
    "# Remember that you have to do the CV process we did in the linear regression model with the pipeline."
   ]
  },
  {
   "cell_type": "code",
   "execution_count": null,
   "metadata": {
    "id": "GQ94_5mRcToF",
    "outputId": "9ce3898b-9e62-4133-d58f-01cc1688cfa5"
   },
   "outputs": [],
   "source": [
    "scores = pd.DataFrame(scores, index = range(1, 11))\n",
    "scores"
   ]
  },
  {
   "cell_type": "code",
   "execution_count": null,
   "metadata": {
    "id": "9eqR0iuocToF",
    "outputId": "2599332d-865f-4d98-d00a-58d73fce0dd3"
   },
   "outputs": [],
   "source": [
    "scores = pd.DataFrame(scores, index = range(1, 11))\n",
    "scores.iloc[:,2:].mean()"
   ]
  },
  {
   "cell_type": "markdown",
   "metadata": {
    "id": "XIxg8xEKRC1_"
   },
   "source": [
    "## Finding best alpha for Ridge"
   ]
  },
  {
   "cell_type": "code",
   "execution_count": null,
   "metadata": {
    "id": "Vg2J8OGuRC1_"
   },
   "outputs": [],
   "source": [
    "from sklearn.model_selection import GridSearchCV"
   ]
  },
  {
   "cell_type": "code",
   "execution_count": null,
   "metadata": {
    "id": "Ft0lSUMcRC1_"
   },
   "outputs": [],
   "source": [
    "alpha_space = np.linspace(0.001, 100, 100)"
   ]
  },
  {
   "cell_type": "code",
   "execution_count": null,
   "metadata": {
    "id": "im9tKPFkgYPt",
    "lang": "en"
   },
   "outputs": [],
   "source": [
    "operations = [(\"OneHot_Ordinal_Encoder\", column_trans),\n",
    "              (\"scaler\", MinMaxScaler()),\n",
    "              (\"Ridge\", Ridge())]\n",
    "\n",
    "pipe_model = Pipeline(steps=operations)\n",
    "\n",
    "param_grid = {'Ridge__alpha': alpha_space} # Parameter names should be used together with the model name defined\n",
    "                                           # in the pipeline.\n",
    "\n",
    "ridge_grid_model = GridSearchCV(estimator=pipe_model,\n",
    "                          param_grid=param_grid,\n",
    "                          scoring='neg_root_mean_squared_error',\n",
    "                          cv=10,\n",
    "                          n_jobs = -1,\n",
    "                          return_train_score=True)\n",
    "\n",
    "# Very important note: If you are doing a transformation to your data, make sure to use pipeline in gridsearch operation,\n",
    "# otherwise data leakage problem may occur.\n",
    "\n",
    "# Since the use of a transformed data in gridsearch will also cause data leakage, the original state of\n",
    "# the data will be given to gridsearch, and the new train and new test sets in each iteration\n",
    "# will be converted into numeric form in accordance with the pipeline steps and their scores will be taken in gridsearch.\n",
    "\n",
    "# Remember that you have to do the gridsearch operation that we did in the linear regression model with the pipeline."
   ]
  },
  {
   "cell_type": "code",
   "execution_count": null,
   "metadata": {
    "id": "F3DNX8mxgYPt",
    "lang": "en",
    "outputId": "2a0816af-5b4d-45f7-8d37-1e3764a15987"
   },
   "outputs": [],
   "source": [
    "pipe_model.get_params() # to see the parameters of the model defined with pipeline"
   ]
  },
  {
   "cell_type": "code",
   "execution_count": null,
   "metadata": {},
   "outputs": [],
   "source": [
    "from yellowbrick.model_selection import ValidationCurve\n",
    "viz = ValidationCurve(\n",
    "    pipe_model, param_name=\"Ridge__alpha\", param_range=np.linspace(0.001, 100, 100),\n",
    "    logx=True, cv=10, scoring=\"neg_root_mean_squared_error\", n_jobs=-1,\n",
    ")\n",
    "\n",
    "viz.fit(X_train, y_train)\n",
    "viz.show()"
   ]
  },
  {
   "cell_type": "code",
   "execution_count": null,
   "metadata": {
    "id": "abC3kUBjRC2A",
    "outputId": "c3e95040-f617-4fb1-b51b-95cf0e9d10ce",
    "scrolled": true
   },
   "outputs": [],
   "source": [
    "ridge_grid_model.fit(X_train, y_train)"
   ]
  },
  {
   "cell_type": "code",
   "execution_count": null,
   "metadata": {
    "id": "2VTSK9N5gYPu",
    "lang": "en",
    "outputId": "dfba5b0a-758e-4d36-d2e3-de1dc78c9180"
   },
   "outputs": [],
   "source": [
    "ridge_grid_model.best_estimator_\n",
    "\n",
    "# hyper returns only values other than default from parameters. If our best alpha after gridsearch was 1,\n",
    "# it wouldn't show 1 here."
   ]
  },
  {
   "cell_type": "code",
   "execution_count": null,
   "metadata": {
    "id": "QWhyqYu7RC2B",
    "outputId": "1bbe27bd-af5b-40b7-ad2b-ef7c27b270de"
   },
   "outputs": [],
   "source": [
    "pd.DataFrame(ridge_grid_model.cv_results_).loc[ridge_grid_model.best_index_, [\"mean_test_score\", \"mean_train_score\"]]"
   ]
  },
  {
   "cell_type": "code",
   "execution_count": null,
   "metadata": {
    "id": "2rgaWuBPRC2B",
    "outputId": "204c5ada-2a4d-47a0-9f1a-b369f0f1017a"
   },
   "outputs": [],
   "source": [
    "train_val(ridge_grid_model, X_train, y_train, X_test, y_test)"
   ]
  },
  {
   "cell_type": "code",
   "execution_count": null,
   "metadata": {
    "id": "YQDgurZARC2B"
   },
   "outputs": [],
   "source": [
    "y_pred = ridge_grid_model.predict(X_test)\n",
    "rm_R2 = r2_score(y_test, y_pred)\n",
    "rm_mae = mean_absolute_error(y_test, y_pred)\n",
    "rm_rmse = mean_squared_error(y_test, y_pred, squared=False)"
   ]
  },
  {
   "cell_type": "code",
   "execution_count": null,
   "metadata": {
    "id": "ZHKhexnycToO",
    "outputId": "51142f05-5e25-4eab-98f4-2c3834ce2a7c"
   },
   "outputs": [],
   "source": [
    "ridge_grid_model.best_estimator_[\"Ridge\"].coef_\n",
    "\n"
   ]
  },
  {
   "cell_type": "code",
   "execution_count": null,
   "metadata": {
    "id": "YnVNE8ttcToO",
    "outputId": "a17adb18-b0ff-4f53-f38b-f7a6319af029",
    "scrolled": true
   },
   "outputs": [],
   "source": [
    "ridge_grid_model.best_estimator_[\"OneHot_Ordinal_Encoder\"].get_feature_names_out()"
   ]
  },
  {
   "cell_type": "code",
   "execution_count": null,
   "metadata": {
    "id": "kNq0oDUjgYPv",
    "lang": "en",
    "outputId": "c78e0f28-fc10-4735-818c-a145346ab94b"
   },
   "outputs": [],
   "source": [
    "pd.DataFrame(data= ridge_grid_model.best_estimator_[\"Ridge\"].coef_,\n",
    "             index=ridge_grid_model.best_estimator_[\"OneHot_Ordinal_Encoder\"].get_feature_names_out(),\n",
    "             columns=[\"Coef\"]).sort_values(\"Coef\")\n",
    "\n",
    "# In order to get the coefficients and feature names, the model and encoder name you know through\n",
    "# the model created with the pipeline should be used as a key."
   ]
  },
  {
   "cell_type": "markdown",
   "metadata": {
    "id": "oDfXOSnpmqZO"
   },
   "source": [
    "## 5. Implement Lasso Regression"
   ]
  },
  {
   "cell_type": "markdown",
   "metadata": {
    "id": "icqyxzBymqZO"
   },
   "source": [
    "- Import the modul\n",
    "- Do not forget to scale the data or use Normalize parameter as True(If needed)\n",
    "- Fit the model\n",
    "- Predict the test set\n",
    "- Evaluate model performance (use performance metrics for regression)\n",
    "- Tune alpha hyperparameter by using [cross validation](https://scikit-learn.org/stable/modules/generated/sklearn.linear_model.LassoCV.html) and determine the optimal alpha value.\n",
    "- Fit the model and predict again with the new alpha value.\n",
    "- Compare different evaluation metrics\n",
    "\n",
    "*Note: To understand the importance of the alpha hyperparameter, you can observe the effects of different alpha values on feature coefficants.*"
   ]
  },
  {
   "cell_type": "code",
   "execution_count": null,
   "metadata": {
    "id": "KbGqu0u5mqZO"
   },
   "outputs": [],
   "source": [
    "from sklearn.linear_model import Lasso"
   ]
  },
  {
   "cell_type": "code",
   "execution_count": null,
   "metadata": {
    "id": "wSW2iP_GRC2D",
    "outputId": "e4a6479c-16f6-41d9-eabd-e92fbf6fc95e"
   },
   "outputs": [],
   "source": [
    "operations = [(\"OneHot_Ordinal_Encoder\", column_trans), (\"scaler\", MinMaxScaler()), (\"Lasso\", Lasso())]\n",
    "\n",
    "lasso_model = Pipeline(steps=operations)\n",
    "\n",
    "lasso_model.fit(X_train, y_train)"
   ]
  },
  {
   "cell_type": "code",
   "execution_count": null,
   "metadata": {
    "id": "V7MVxV6JRC2D",
    "outputId": "fb4f7fd8-d6b9-4e72-c6c8-8742917163ba"
   },
   "outputs": [],
   "source": [
    "train_val(lasso_model, X_train, y_train, X_test, y_test)"
   ]
  },
  {
   "cell_type": "markdown",
   "metadata": {
    "id": "GaiNIKb-RC2D"
   },
   "source": [
    "## Cross Validation"
   ]
  },
  {
   "cell_type": "code",
   "execution_count": null,
   "metadata": {
    "id": "uUiaY_dvRC2D"
   },
   "outputs": [],
   "source": [
    "operations = [(\"OneHot_Ordinal_Encoder\", column_trans),\n",
    "              (\"scaler\", MinMaxScaler()),\n",
    "              (\"Lasso\", Lasso())]\n",
    "\n",
    "model = Pipeline(steps=operations)\n",
    "scores = cross_validate(model,\n",
    "                        X_train,\n",
    "                        y_train,\n",
    "                        scoring=['r2',\n",
    "                                 'neg_mean_absolute_error',\n",
    "                                 'neg_mean_squared_error',\n",
    "                                 'neg_root_mean_squared_error'],\n",
    "                        cv=10,\n",
    "                        return_train_score=True)"
   ]
  },
  {
   "cell_type": "code",
   "execution_count": null,
   "metadata": {
    "id": "R3LoiQn2RC2D",
    "outputId": "33ad06de-ebcf-4f92-ff08-8b937e24712f"
   },
   "outputs": [],
   "source": [
    "scores = pd.DataFrame(scores, index = range(1, 11))\n",
    "scores.iloc[:,2:].mean()"
   ]
  },
  {
   "cell_type": "markdown",
   "metadata": {
    "id": "jFNV4yX1RC2E"
   },
   "source": [
    "## Finding best alpha for Lasso"
   ]
  },
  {
   "cell_type": "code",
   "execution_count": null,
   "metadata": {
    "id": "CQ3quuSWgYPx",
    "lang": "en"
   },
   "outputs": [],
   "source": [
    "operations = [(\"OneHot_Ordinal_Encoder\", column_trans),\n",
    "              (\"scaler\", MinMaxScaler()),\n",
    "              (\"Lasso\", Lasso())]\n",
    "\n",
    "model = Pipeline(steps=operations)\n",
    "\n",
    "param_grid = {'Lasso__alpha':alpha_space} # Parameter names should be used together with the model name defined in the pipeline.\n",
    "\n",
    "lasso_grid_model = GridSearchCV(estimator=model,\n",
    "                          param_grid=param_grid,\n",
    "                          scoring='neg_root_mean_squared_error',\n",
    "                          cv=10,\n",
    "                          n_jobs = -1,\n",
    "                          return_train_score=True)"
   ]
  },
  {
   "cell_type": "code",
   "execution_count": null,
   "metadata": {},
   "outputs": [],
   "source": [
    "viz = ValidationCurve(\n",
    "    model, param_name=\"Lasso__alpha\", param_range=np.linspace(0.001, 100, 100),\n",
    "    logx=True, cv=10, scoring=\"neg_root_mean_squared_error\", n_jobs=-1,\n",
    ")\n",
    "\n",
    "viz.fit(X_train, y_train)\n",
    "viz.show()"
   ]
  },
  {
   "cell_type": "code",
   "execution_count": null,
   "metadata": {
    "id": "fCOuNWeURC2E",
    "outputId": "3cb19818-1f39-4813-d9ae-32014f638f1e"
   },
   "outputs": [],
   "source": [
    "lasso_grid_model.fit(X_train, y_train)"
   ]
  },
  {
   "cell_type": "code",
   "execution_count": null,
   "metadata": {
    "id": "u7gnAZCqcToR",
    "outputId": "43500924-f874-425d-9f60-e95e155fa750"
   },
   "outputs": [],
   "source": [
    "lasso_grid_model.best_estimator_"
   ]
  },
  {
   "cell_type": "code",
   "execution_count": null,
   "metadata": {
    "id": "uP1eFJacRC2E",
    "outputId": "92bee591-058d-478d-adc0-8be2e4771973"
   },
   "outputs": [],
   "source": [
    "pd.DataFrame(lasso_grid_model.cv_results_).loc[lasso_grid_model.best_index_, [\"mean_test_score\", \"mean_train_score\"]]"
   ]
  },
  {
   "cell_type": "code",
   "execution_count": null,
   "metadata": {
    "id": "dsJGO7EURC2H",
    "outputId": "852ecebf-8455-49a0-b795-847768db69cf"
   },
   "outputs": [],
   "source": [
    "train_val(lasso_grid_model, X_train, y_train, X_test, y_test)"
   ]
  },
  {
   "cell_type": "code",
   "execution_count": null,
   "metadata": {
    "id": "H22wxKkgRC2H"
   },
   "outputs": [],
   "source": [
    "y_pred = lasso_grid_model.predict(X_test)\n",
    "lasm_R2 = r2_score(y_test, y_pred)\n",
    "lasm_mae = mean_absolute_error(y_test, y_pred)\n",
    "lasm_rmse = mean_squared_error(y_test, y_pred, squared=False)"
   ]
  },
  {
   "cell_type": "code",
   "execution_count": null,
   "metadata": {
    "id": "pPAXuJ6eRC2H",
    "outputId": "0a74f935-dcc7-4edb-fd00-f51d32ab172a"
   },
   "outputs": [],
   "source": [
    "pd.DataFrame(data=lasso_grid_model.best_estimator_[\"Lasso\"].coef_,\n",
    "             index=lasso_grid_model.best_estimator_[\"OneHot_Ordinal_Encoder\"].get_feature_names_out(),\n",
    "             columns=[\"Coef\"]).sort_values(\"Coef\")"
   ]
  },
  {
   "cell_type": "markdown",
   "metadata": {
    "id": "qpoOypMbmqZO"
   },
   "source": [
    "## 6. Implement Elastic-Net"
   ]
  },
  {
   "cell_type": "markdown",
   "metadata": {
    "id": "El7SNJUemqZO"
   },
   "source": [
    "- Import the modul\n",
    "- Do not forget to scale the data or use Normalize parameter as True(If needed)\n",
    "- Fit the model\n",
    "- Predict the test set\n",
    "- Evaluate model performance (use performance metrics for regression)\n",
    "- Tune alpha hyperparameter by using [GridSearchCV](https://scikit-learn.org/stable/modules/generated/sklearn.model_selection.GridSearchCV.html) and determine the optimal alpha value.\n",
    "- Fit the model and predict again with the new alpha value.\n",
    "- Compare different evaluation metrics"
   ]
  },
  {
   "cell_type": "code",
   "execution_count": null,
   "metadata": {
    "id": "XKVr6v2JmqZO"
   },
   "outputs": [],
   "source": [
    "from sklearn.linear_model import ElasticNet"
   ]
  },
  {
   "cell_type": "code",
   "execution_count": null,
   "metadata": {
    "id": "qHyHWotZRC2H",
    "outputId": "d7e33327-e781-44d3-8c56-ce4338e11c1a"
   },
   "outputs": [],
   "source": [
    "operations = [(\"OneHot_Ordinal_Encoder\", column_trans),\n",
    "              (\"scaler\", MinMaxScaler()),\n",
    "              (\"ElasticNet\", ElasticNet())]\n",
    "\n",
    "elastic_model = Pipeline(steps=operations)\n",
    "\n",
    "elastic_model.fit(X_train, y_train)"
   ]
  },
  {
   "cell_type": "code",
   "execution_count": null,
   "metadata": {
    "id": "80rl3ZlnRC2I",
    "outputId": "a4fba066-face-4241-a5f6-cca0644262bc"
   },
   "outputs": [],
   "source": [
    "train_val(elastic_model, X_train, y_train, X_test, y_test)"
   ]
  },
  {
   "cell_type": "markdown",
   "metadata": {
    "id": "fsNpjvP3RC2I"
   },
   "source": [
    "## Cross Validation"
   ]
  },
  {
   "cell_type": "code",
   "execution_count": null,
   "metadata": {
    "id": "w7BU5uoCRC2I"
   },
   "outputs": [],
   "source": [
    "operations = [(\"OneHot_Ordinal_Encoder\", column_trans),\n",
    "              (\"scaler\", MinMaxScaler()),\n",
    "              (\"ElasticNet\", ElasticNet())]\n",
    "\n",
    "model = Pipeline(steps=operations)\n",
    "\n",
    "scores = cross_validate(model,\n",
    "                        X_train,\n",
    "                        y_train,\n",
    "                        scoring=['r2',\n",
    "                                 'neg_mean_absolute_error',\n",
    "                                 'neg_mean_squared_error',\n",
    "                                 'neg_root_mean_squared_error'],\n",
    "                        cv=10,\n",
    "                        return_train_score=True)"
   ]
  },
  {
   "cell_type": "code",
   "execution_count": null,
   "metadata": {
    "id": "j_M6wnZrRC2I",
    "outputId": "57276277-48c2-40c1-9627-949191549656"
   },
   "outputs": [],
   "source": [
    "scores = pd.DataFrame(scores, index = range(1, 11))\n",
    "scores.iloc[:,2:].mean()"
   ]
  },
  {
   "cell_type": "markdown",
   "metadata": {
    "id": "Spy5XW-eRC2I"
   },
   "source": [
    "## Finding best alpha and l1_ratio for ElasticNet"
   ]
  },
  {
   "cell_type": "code",
   "execution_count": null,
   "metadata": {
    "id": "gb3oPG4pRC2I"
   },
   "outputs": [],
   "source": [
    "operations = [(\"OneHot_Ordinal_Encoder\", column_trans),\n",
    "              (\"scaler\", MinMaxScaler()),\n",
    "              (\"ElasticNet\", ElasticNet())]\n",
    "\n",
    "model = Pipeline(steps=operations)\n",
    "\n",
    "param_grid = {'ElasticNet__alpha':[0.001,0.01, 0.5, 1, 2,  3, 4],\n",
    "              'ElasticNet__l1_ratio':[.5, .7, .9, .95, .99, 1]}\n",
    "\n",
    "elastic_grid_model = GridSearchCV(estimator=model,\n",
    "                          param_grid=param_grid,\n",
    "                          scoring='neg_root_mean_squared_error',\n",
    "                          cv=10,\n",
    "                          n_jobs = -1,\n",
    "                          return_train_score=True)"
   ]
  },
  {
   "cell_type": "code",
   "execution_count": null,
   "metadata": {
    "id": "oyTRIt9xRC2I",
    "outputId": "d5ddb24a-fdff-4d86-ebba-720143874bb3"
   },
   "outputs": [],
   "source": [
    "elastic_grid_model.fit(X_train, y_train)"
   ]
  },
  {
   "cell_type": "code",
   "execution_count": null,
   "metadata": {
    "id": "p8NwmIQHcToX",
    "outputId": "f515e256-e51d-496e-ca2e-c6ecb6ff316b"
   },
   "outputs": [],
   "source": [
    "elastic_grid_model.best_estimator_"
   ]
  },
  {
   "cell_type": "code",
   "execution_count": null,
   "metadata": {
    "id": "a9G1zWHRRC2J",
    "outputId": "83230e69-e100-428e-e38c-bedb16a51edb"
   },
   "outputs": [],
   "source": [
    "pd.DataFrame(elastic_grid_model.cv_results_).loc[elastic_grid_model.best_index_, [\"mean_test_score\", \"mean_train_score\"]]"
   ]
  },
  {
   "cell_type": "code",
   "execution_count": null,
   "metadata": {
    "id": "Mxr1cYEaRC2J",
    "outputId": "fac7551b-dcc7-4053-b9b7-bc642e1a96af"
   },
   "outputs": [],
   "source": [
    "train_val(elastic_grid_model, X_train, y_train, X_test, y_test)"
   ]
  },
  {
   "cell_type": "code",
   "execution_count": null,
   "metadata": {
    "id": "hY47aNnyRC2J"
   },
   "outputs": [],
   "source": [
    "y_pred = elastic_grid_model.predict(X_test)\n",
    "em_R2 = r2_score(y_test, y_pred)\n",
    "em_mae = mean_absolute_error(y_test, y_pred)\n",
    "em_rmse = mean_squared_error(y_test, y_pred, squared=False)"
   ]
  },
  {
   "cell_type": "markdown",
   "metadata": {
    "id": "yPYSZVpWRC2J"
   },
   "source": [
    "## Feature İmportance"
   ]
  },
  {
   "cell_type": "code",
   "execution_count": null,
   "metadata": {
    "id": "aPv8RI6ycToZ"
   },
   "outputs": [],
   "source": [
    "df_feat_imp =pd.DataFrame(\n",
    "                         data=lasso_grid_model.best_estimator_[\"Lasso\"].coef_,\n",
    "                         index=lasso_grid_model.best_estimator_[\"OneHot_Ordinal_Encoder\"].get_feature_names_out(),\n",
    "                         columns=[\"Coef\"]\n",
    "                         ).sort_values(\"Coef\")"
   ]
  },
  {
   "cell_type": "code",
   "execution_count": null,
   "metadata": {
    "id": "SwfuEJebcToZ",
    "outputId": "961c574d-e526-4ae2-8f5e-3828fc0636b5"
   },
   "outputs": [],
   "source": [
    "df_feat_imp\n",
    "\n",
    "#Which features are most influential in predicting the target variable?"
   ]
  },
  {
   "cell_type": "code",
   "execution_count": null,
   "metadata": {
    "id": "QBcMwjKRRC2J",
    "outputId": "3b557d43-5a9f-4ef4-9967-5f61c46b2430"
   },
   "outputs": [],
   "source": [
    "plt.figure(figsize=(10,14))\n",
    "sns.barplot(data= df_feat_imp,\n",
    "            x=df_feat_imp.Coef,\n",
    "            y=df_feat_imp.index);"
   ]
  },
  {
   "cell_type": "code",
   "execution_count": null,
   "metadata": {
    "id": "TjsJ_mOOgYP2",
    "lang": "en",
    "outputId": "e79b0cef-e385-4af1-9f40-39dbbfb9363c"
   },
   "outputs": [],
   "source": [
    "from yellowbrick.model_selection import FeatureImportances\n",
    "from yellowbrick.features import RadViz\n",
    "\n",
    "model = lasso_grid_model.best_estimator_[\"Lasso\"]\n",
    "\n",
    "viz = FeatureImportances(model,\n",
    "                         labels=lasso_grid_model.best_estimator_[\"OneHot_Ordinal_Encoder\"].get_feature_names_out())\n",
    "\n",
    "visualizer = RadViz(size=(720, 3000))\n",
    "viz.fit(X_train, y_train)\n",
    "viz.show();\n",
    "\n",
    "# We do not forget that we need to use the lasso model, as we will do a feature selection."
   ]
  },
  {
   "cell_type": "code",
   "execution_count": null,
   "metadata": {
    "id": "u3LzmvPNgYP2",
    "lang": "en"
   },
   "outputs": [],
   "source": [
    "df_new = df[[\"make_model\", \"power_kW\", \"mileage\",\"age\", \"engine_size\", \"type\", \"price\"]]\n",
    "\n",
    "# we select the top 6 features that have the most impact on prediction. Here, a question may come up as\n",
    "# \"Why the make_model feature was chosen?\". When the above image is examined, we also chose the make_model feature\n",
    "# since we saw that the make_model feature has unique categorical observations (Audi A3, AudiA1, Renault Espace etc.)\n",
    "# among the featurs that have the most impact on the prediction.\n",
    "\n",
    "# Although the type feature does not contribute much to the prediction,\n",
    "# it has been kept in the data in order to have a feature in our data that we will make the ordinal transformation>in pipeline."
   ]
  },
  {
   "cell_type": "code",
   "execution_count": null,
   "metadata": {
    "id": "VKk3sgBdRC2K",
    "outputId": "5382dff0-394c-423e-ef03-9adb4c84cad3"
   },
   "outputs": [],
   "source": [
    "df_new"
   ]
  },
  {
   "cell_type": "code",
   "execution_count": null,
   "metadata": {
    "id": "x57FOY5kgYP2",
    "lang": "en"
   },
   "outputs": [],
   "source": [
    "X = df_new.drop(columns = [\"price\"])\n",
    "y = df_new.price\n",
    "\n",
    "# According to our data set with 5 new features, we determine our X and y and reconstruct the model.\n",
    "# And we repeat the operations we did above."
   ]
  },
  {
   "cell_type": "code",
   "execution_count": null,
   "metadata": {
    "id": "0xVaILn6RC2K"
   },
   "outputs": [],
   "source": [
    "X_train, X_test, y_train, y_test = train_test_split(X, y, test_size=0.2, random_state=42)"
   ]
  },
  {
   "cell_type": "code",
   "execution_count": null,
   "metadata": {
    "id": "TDH9qEZMRC2K",
    "outputId": "f9f601dc-d0b8-4d9f-8f66-b06c5a562b63"
   },
   "outputs": [],
   "source": [
    "X_train.head()"
   ]
  },
  {
   "cell_type": "code",
   "execution_count": null,
   "metadata": {
    "id": "Huk_cSjFRC2K"
   },
   "outputs": [],
   "source": [
    "cat_onehot = ['make_model']\n",
    "cat_ordinal = ['type']\n",
    "\n",
    "cat_for_type = [\"Used\", \"Employee's car\", \"Demonstration\", \"Pre-registered\"]\n",
    "\n",
    "column_trans = make_column_transformer((OneHotEncoder(handle_unknown=\"ignore\", sparse=False), cat_onehot),\n",
    "                                       (OrdinalEncoder(categories= [cat_for_type]), cat_ordinal),\n",
    "                                        remainder='passthrough',\n",
    "                                        verbose_feature_names_out=False) #MinMaxScaler()"
   ]
  },
  {
   "cell_type": "code",
   "execution_count": null,
   "metadata": {
    "id": "0Jt-uoL6RC2K",
    "outputId": "f1769b1c-7c78-4041-dfe0-3a1d6a3e52d0"
   },
   "outputs": [],
   "source": [
    "operations = [(\"OneHot_Ordinal_Encoder\", column_trans),\n",
    "              (\"scaler\", MinMaxScaler()),\n",
    "              (\"Lasso\", Lasso(alpha=0.001))]\n",
    "\n",
    "lasso_final_model = Pipeline(steps=operations)\n",
    "\n",
    "lasso_final_model.fit(X_train, y_train)\n",
    "train_val(lasso_final_model, X_train, y_train, X_test, y_test)"
   ]
  },
  {
   "cell_type": "markdown",
   "metadata": {
    "id": "IR3ojZw8RC2L"
   },
   "source": [
    "## Cross Validate"
   ]
  },
  {
   "cell_type": "code",
   "execution_count": null,
   "metadata": {
    "id": "s45Wqh5pRC2L"
   },
   "outputs": [],
   "source": [
    "operations = [(\"OneHot_Ordinal_Encoder\", column_trans),\n",
    "              (\"scaler\", MinMaxScaler()),\n",
    "              (\"Lasso\", Lasso(alpha=0.001))]\n",
    "\n",
    "model = Pipeline(steps=operations)\n",
    "\n",
    "scores = cross_validate(model, X_train, y_train,\n",
    "                        scoring=['r2',\n",
    "                                 'neg_mean_absolute_error',\n",
    "                                 'neg_mean_squared_error',\n",
    "                                 'neg_root_mean_squared_error'],\n",
    "                        cv=10,\n",
    "                        n_jobs=-1,\n",
    "                        return_train_score=True)"
   ]
  },
  {
   "cell_type": "code",
   "execution_count": null,
   "metadata": {
    "id": "xQTdEWbYRC2L",
    "outputId": "12b6625a-07d1-4fac-9b75-fbae98402dab"
   },
   "outputs": [],
   "source": [
    "scores = pd.DataFrame(scores, index = range(1, 11))\n",
    "scores.iloc[:,2:].mean()"
   ]
  },
  {
   "cell_type": "code",
   "execution_count": null,
   "metadata": {
    "id": "jVkQ6MzkRC2L",
    "outputId": "2e9af3eb-ea9a-48f5-e0f7-abd8ea15cac5"
   },
   "outputs": [],
   "source": [
    "3992/df_new.price.mean()"
   ]
  },
  {
   "cell_type": "code",
   "execution_count": null,
   "metadata": {
    "id": "BzxzgIvgRC2L"
   },
   "outputs": [],
   "source": [
    "y_pred = lasso_final_model.predict(X_test)\n",
    "fm_R2 = r2_score(y_test, y_pred)\n",
    "fm_mae = mean_absolute_error(y_test, y_pred)\n",
    "fm_rmse = mean_squared_error(y_test, y_pred,squared=False)"
   ]
  },
  {
   "cell_type": "markdown",
   "metadata": {
    "id": "sYyuZQtWmqZO"
   },
   "source": [
    "## 7. Visually Compare Models Performance In a Graph"
   ]
  },
  {
   "cell_type": "code",
   "execution_count": null,
   "metadata": {
    "id": "nS2SlKIZgYP4",
    "lang": "en",
    "outputId": "c75a79bf-1d86-45c8-915e-4615b9ed1cd3"
   },
   "outputs": [],
   "source": [
    "scores = {\"linear_m\": {\"r2_score\": lm_R2 ,\n",
    " \"mae\": lm_mae,\n",
    " \"rmse\": lm_rmse},\n",
    "\n",
    " \"ridge_m\": {\"r2_score\": rm_R2,\n",
    " \"mae\": rm_mae,\n",
    " \"rmse\": rm_rmse},\n",
    "\n",
    " \"lasso_m\": {\"r2_score\": lasm_R2,\n",
    " \"mae\": lasm_mae,\n",
    " \"rmse\": lasm_rmse},\n",
    "\n",
    " \"elastic_m\": {\"r2_score\": em_R2,\n",
    " \"mae\": em_mae,\n",
    " \"rmse\": em_rmse},\n",
    "\n",
    " \"final_m\": {\"r2_score\": fm_R2,\n",
    " \"mae\": fm_mae ,\n",
    " \"rmse\": fm_rmse}}\n",
    "scores = pd.DataFrame(scores).T\n",
    "scores\n",
    "\n",
    "# We assign the metrics we get from all models to the scores variable in jason format.\n",
    "# Then we get the transpose of df so that the model names appear in the index and the metrics in the features."
   ]
  },
  {
   "cell_type": "code",
   "execution_count": null,
   "metadata": {
    "id": "XogDrL6ogYP4",
    "lang": "en",
    "outputId": "f612c092-aa71-4e82-8cea-6e8db786a326"
   },
   "outputs": [],
   "source": [
    "# metrics = scores.columns\n",
    "\n",
    "for i, j in enumerate(scores):\n",
    "    plt.figure(i)\n",
    "    if j == \"r2_score\":\n",
    "        ascending = False # if our metric is r2_score the barplot will be sorted from largest to smallest\n",
    "    else:\n",
    "        ascending = True # if our metric is mae or rmse then barplot will be sorted from smallest to largest\n",
    "    compare = scores.sort_values(by=j, ascending=ascending) # reorders compare df by corresponding metric\n",
    "    ax = sns.barplot(x = compare[j] , y= compare.index) # The metric scores of compare[j] are drawn sequentially from compare df\n",
    "                                                        # and visualized in the barplot.\n",
    "                                                        # y=compare.index will write the model names on the y-axis of our image.\n",
    "    ax.bar_label(ax.containers[0], fmt=\"%.4f\"); # annotate It is arranged as 4 digits from \".\"."
   ]
  },
  {
   "cell_type": "markdown",
   "metadata": {
    "id": "YQFiG33kRC2M"
   },
   "source": [
    "## Final Model and Prediction new observation"
   ]
  },
  {
   "cell_type": "code",
   "execution_count": null,
   "metadata": {
    "id": "GACwaWekgYP5",
    "lang": "en"
   },
   "outputs": [],
   "source": [
    "X = df_new.drop(columns = [\"price\"])\n",
    "y = df_new.price\n",
    "\n",
    "# After trying all models and deciding on the model with the most optimal score,\n",
    "# we separate the data we use for this model as X and y.\n",
    "# Note that we do not distinguish between train and test sets in the final stage."
   ]
  },
  {
   "cell_type": "code",
   "execution_count": null,
   "metadata": {
    "id": "iAIYTQuLRC2N",
    "outputId": "80b0bee7-4b1f-4343-c7f5-55c2940768fb",
    "scrolled": true
   },
   "outputs": [],
   "source": [
    "X.head()"
   ]
  },
  {
   "cell_type": "code",
   "execution_count": null,
   "metadata": {
    "id": "hYAp2DyLgYP5",
    "lang": "en"
   },
   "outputs": [],
   "source": [
    "operations = [(\"OneHot_Ordinal_Encoder\", column_trans),\n",
    "              (\"scaler\", MinMaxScaler()),\n",
    "              (\"Lasso\", Lasso(alpha=0.001))]\n",
    "final_model = Pipeline(steps=operations)\n",
    "\n",
    "# After comparing the scores in the table above, we decide on the Lasso model,\n",
    "# which consists of 7 features, as our final model.\n",
    "# In the lasso model with 7 features, we re-build the model with the hyperparameter, where we get the best score."
   ]
  },
  {
   "cell_type": "code",
   "execution_count": null,
   "metadata": {
    "id": "7_cDFo2dgYP5",
    "lang": "en",
    "outputId": "d49bf635-3d66-46cd-e024-05c5ee9ac1ac"
   },
   "outputs": [],
   "source": [
    "final_model.fit(X, y)\n",
    "\n",
    "# What does final_model.fit(X,y) do here, respectively?\n",
    "# The first action in the final_model is column_trans;\n",
    "# 1. Onehotencoder conversion is done to featurs (cat_onehot) in X data that will apply onehotencoder conversion.\n",
    "# 2. Ordinalencoder conversion is done to featurs (cat_ordinal) in X data to which ordinalencoder conversion will be applied.\n",
    "# 3. Except for the converted featurs, no action is taken on the remaining featurs, they are left as is.\n",
    "# Since the second action in the final_model is MinMaxScaler();\n",
    "# 4. After the transformation, minmax scale is applied to the new numeric X we get. Dummies features consisting of 0s and 1s in our data\n",
    "# Since, minmaxscale was applied so that these observations remain 0 and 1 again.\n",
    "# The third action in the final_model is Lasso();\n",
    "# 5. Transformed and scaled X together with y Lasso are given to the model and the training is completed."
   ]
  },
  {
   "cell_type": "code",
   "execution_count": null,
   "metadata": {
    "id": "TEBv4X4acToi",
    "outputId": "bbe17ffe-8df1-424d-8a23-d6d30f7bc138"
   },
   "outputs": [],
   "source": [
    "X"
   ]
  },
  {
   "cell_type": "code",
   "execution_count": null,
   "metadata": {
    "id": "zW35uPETRC2N"
   },
   "outputs": [],
   "source": [
    "my_dict = {\n",
    "    \"make_model\": 'Mercedes-Benz A 180',\n",
    "    \"power_kW\": 85,\n",
    "    \"mileage\": 30000,\n",
    "    \"age\": 3,\n",
    "    \"engine_size\": 1461,\n",
    "    \"type\": \"Used\"\n",
    "}"
   ]
  },
  {
   "cell_type": "code",
   "execution_count": null,
   "metadata": {
    "id": "RPXZgUw4gYP6",
    "lang": "en",
    "outputId": "1de933b8-2af3-456d-e072-691265e7093f"
   },
   "outputs": [],
   "source": [
    "X.head()\n",
    "\n",
    "# The feature order of the observation we will predict should be the same as the feature order of the data we train."
   ]
  },
  {
   "cell_type": "code",
   "execution_count": null,
   "metadata": {
    "id": "UgLptwf9gYP6",
    "lang": "en",
    "outputId": "bad2a8de-4f71-4888-b6dc-e8087b8d60cf"
   },
   "outputs": [],
   "source": [
    "new_obs = pd.DataFrame([my_dict])\n",
    "new_obs\n",
    "\n",
    "# we found that the feature rankings are the same"
   ]
  },
  {
   "cell_type": "code",
   "execution_count": null,
   "metadata": {
    "id": "4fGjsknGRC2O",
    "outputId": "5279727a-2043-4aeb-edde-f1ee24da96b1"
   },
   "outputs": [],
   "source": [
    "final_model.predict(new_obs)"
   ]
  },
  {
   "cell_type": "code",
   "execution_count": null,
   "metadata": {
    "id": "AHcuAq7HgYP7",
    "lang": "en",
    "outputId": "e2992636-e03e-49b6-be2d-5045dba4faf4"
   },
   "outputs": [],
   "source": [
    "# when feature order is different\n",
    "\n",
    "my_dict = {\n",
    "    \"type\": \"Used\",\n",
    "    \"power_kW\": 85,\n",
    "    \"make_model\": 'Mercedes-Benz A 180',\n",
    "    \"engine_size\": 1461,\n",
    "    \"mileage\": 30000,\n",
    "    \"age\": 3\n",
    "}\n",
    "\n",
    "new_obs = pd.DataFrame([my_dict])\n",
    "new_obs"
   ]
  },
  {
   "cell_type": "code",
   "execution_count": null,
   "metadata": {
    "id": "ZFTJ8nT6gYP7",
    "lang": "en",
    "outputId": "5a513c26-1621-4c0c-ba1b-d5b73f94650e"
   },
   "outputs": [],
   "source": [
    "final_model.predict(new_obs)\n",
    "\n",
    "# new_obs and X's feature order is different. make_column_transformer detects this difference and adjusts\n",
    "# the feature order of new_obs to the feature order of the X data it is training."
   ]
  },
  {
   "cell_type": "code",
   "execution_count": null,
   "metadata": {
    "id": "JSDJu9wcgYP7",
    "lang": "en"
   },
   "outputs": [],
   "source": [
    "# What does pipe_model.predict(new_obs) do in order?\n",
    "# The first operation in the pipe_model is column_trans;\n",
    "# 1. Onehotencoder conversion is performed according to the information of X data to the features(cat_onehot)\n",
    "# to be applied onehotencoder conversion in new_obs data.\n",
    "# 2. Ordinalencoder conversion is performed according to the information of X data to the features(cat_ordinal)\n",
    "# in the new_obs data to be converted to ordinalencoder.\n",
    "# 3. The new_obs data is left as is, without any action, except for the converted features.\n",
    "# Since the second action in the pipe_model is MinMaxScaler();\n",
    "# 4. After the transformation, minmax scale is applied to the new numeric new_obs according to\n",
    "# the min and max information of the X data.\n",
    "# The third action in the pipe_model is Lasso();\n",
    "# 5. The new_obs data transformed and scaled according to X's information is predicted by the Lasso model."
   ]
  },
  {
   "cell_type": "code",
   "execution_count": null,
   "metadata": {
    "executionInfo": {
     "elapsed": 7,
     "status": "ok",
     "timestamp": 1695278343119,
     "user": {
      "displayName": "Orion Cloud",
      "userId": "13399699001942214669"
     },
     "user_tz": -180
    },
    "id": "1Ol3CcKigYP7",
    "lang": "en"
   },
   "outputs": [],
   "source": [
    "# Important note: make_column_transformer function assigns categorical features to the beginning of df\n",
    "# and numeric features to the end of df in accordance with the transformation order in the df it transforms."
   ]
  },
  {
   "cell_type": "markdown",
   "metadata": {
    "id": "YUoI-0BwRC2P"
   },
   "source": [
    "___\n",
    "\n",
    "<p style=\"text-align: center;\"><img src=\"https://docs.google.com/uc?id=1lY0Uj5R04yMY3-ZppPWxqCr5pvBLYPnV\" class=\"img-fluid\" alt=\"CLRSWY\"></p>\n",
    "\n",
    "___"
   ]
  }
 ],
 "metadata": {
  "colab": {
   "provenance": []
  },
  "kernelspec": {
   "display_name": "Python 3 (ipykernel)",
   "language": "python",
   "name": "python3"
  },
  "language_info": {
   "codemirror_mode": {
    "name": "ipython",
    "version": 3
   },
   "file_extension": ".py",
   "mimetype": "text/x-python",
   "name": "python",
   "nbconvert_exporter": "python",
   "pygments_lexer": "ipython3",
   "version": "3.9.18"
  },
  "nbTranslate": {
   "displayLangs": [
    "tr",
    "en"
   ],
   "hotkey": "alt-t",
   "langInMainMenu": true,
   "sourceLang": "tr",
   "targetLang": "en",
   "useGoogleTranslate": true
  },
  "toc": {
   "base_numbering": 1,
   "nav_menu": {},
   "number_sections": true,
   "sideBar": true,
   "skip_h1_title": false,
   "title_cell": "Table of Contents",
   "title_sidebar": "Contents",
   "toc_cell": false,
   "toc_position": {},
   "toc_section_display": true,
   "toc_window_display": true
  },
  "varInspector": {
   "cols": {
    "lenName": 16,
    "lenType": 16,
    "lenVar": 40
   },
   "kernels_config": {
    "python": {
     "delete_cmd_postfix": "",
     "delete_cmd_prefix": "del ",
     "library": "var_list.py",
     "varRefreshCmd": "print(var_dic_list())"
    },
    "r": {
     "delete_cmd_postfix": ") ",
     "delete_cmd_prefix": "rm(",
     "library": "var_list.r",
     "varRefreshCmd": "cat(var_dic_list()) "
    }
   },
   "types_to_exclude": [
    "module",
    "function",
    "builtin_function_or_method",
    "instance",
    "_Feature"
   ],
   "window_display": false
  }
 },
 "nbformat": 4,
 "nbformat_minor": 1
}
